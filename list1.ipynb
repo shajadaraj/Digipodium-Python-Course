{
 "cells": [
  {
   "cell_type": "code",
   "execution_count": 1,
   "metadata": {},
   "outputs": [],
   "source": [
    "x = [] # blank list\n",
    "x2 = [1,2,3] # list with 3 elements\n",
    "x3 = [12,45, 'Apple', 'Orange'] # list with 4 elements\n",
    "x4 = ['Aman', 'Vijay', 'Rohan']"
   ]
  },
  {
   "cell_type": "code",
   "execution_count": 2,
   "metadata": {},
   "outputs": [
    {
     "name": "stdout",
     "output_type": "stream",
     "text": [
      "[]\n",
      "[1, 2, 3]\n",
      "[12, 45, 'Apple', 'Orange']\n",
      "['Aman', 'Vijay', 'Rohan']\n"
     ]
    }
   ],
   "source": [
    "print(x)\n",
    "print(x2)\n",
    "print(x3)\n",
    "print(x4)"
   ]
  },
  {
   "cell_type": "code",
   "execution_count": 3,
   "metadata": {},
   "outputs": [
    {
     "data": {
      "text/plain": [
       "[1, 1, 1, 1, 1]"
      ]
     },
     "execution_count": 3,
     "metadata": {},
     "output_type": "execute_result"
    }
   ],
   "source": [
    "y = [1]\n",
    "y * 5"
   ]
  },
  {
   "cell_type": "code",
   "execution_count": 9,
   "metadata": {},
   "outputs": [],
   "source": [
    "good_movies = ['Fast and Furious', 'Terminator', 'War', 'Pathan', 'DDLJ', 'Kabir Singh']\n",
    "bad_movies = ['mission mangal', 'Judwa', 'Fukrey', 'kites', 'DJ']"
   ]
  },
  {
   "cell_type": "code",
   "execution_count": 10,
   "metadata": {},
   "outputs": [
    {
     "name": "stdout",
     "output_type": "stream",
     "text": [
      "['Fast and Furious', 'Terminator', 'War', 'Pathan', 'DDLJ', 'Kabir Singh', 'mission mangal', 'Judwa', 'Fukrey', 'kites', 'DJ']\n"
     ]
    }
   ],
   "source": [
    "all_movies = good_movies + bad_movies\n",
    "print(all_movies)"
   ]
  },
  {
   "cell_type": "code",
   "execution_count": 11,
   "metadata": {},
   "outputs": [],
   "source": [
    "all_movies.append('Troll 2')\n",
    "all_movies.append('Black widow')"
   ]
  },
  {
   "cell_type": "code",
   "execution_count": 17,
   "metadata": {},
   "outputs": [
    {
     "name": "stdout",
     "output_type": "stream",
     "text": [
      "['Fast and Furious', 'Terminator', 'The Dark Night', 'The Dark Night', 'The Dark Night', 'War', 'Pathan', 'DDLJ', 'Kabir Singh', 'mission mangal', 'Judwa', 'Fukrey', 'kites', 'DJ', 'Troll 2', 'Black widow']\n"
     ]
    }
   ],
   "source": [
    "print(all_movies)"
   ]
  },
  {
   "cell_type": "code",
   "execution_count": 15,
   "metadata": {},
   "outputs": [
    {
     "name": "stdout",
     "output_type": "stream",
     "text": [
      "['Fast and Furious', 'Terminator', 'The Dark Night', 'The Dark Night', 'The Dark Night', 'War', 'Pathan', 'DDLJ', 'Kabir Singh', 'mission mangal', 'Judwa', 'Fukrey', 'kites', 'DJ', 'Troll 2', 'Black widow']\n"
     ]
    }
   ],
   "source": [
    "all_movies.insert(2, 'The Dark Night')\n",
    "print(all_movies)"
   ]
  },
  {
   "cell_type": "code",
   "execution_count": 18,
   "metadata": {},
   "outputs": [
    {
     "name": "stdout",
     "output_type": "stream",
     "text": [
      "['Fast and Furious', 'Terminator', 'The Dark Night', 'The Dark Night', 'The Dark Night', 'War', 'Pathan', 'DDLJ', 'Kabir Singh', 'mission mangal', 'Judwa', 'Fukrey', 'kites', 'DJ', 'Troll 2', 'Black widow', 'hera & pheri', '2 hera 2 pheri', 'hera and pheri: tokyo drift']\n"
     ]
    }
   ],
   "source": [
    "sequels = ['hera & pheri', '2 hera 2 pheri','hera and pheri: tokyo drift']\n",
    "all_movies.extend(sequels)\n",
    "print(all_movies)"
   ]
  },
  {
   "cell_type": "code",
   "execution_count": 19,
   "metadata": {},
   "outputs": [
    {
     "data": {
      "text/plain": [
       "19"
      ]
     },
     "execution_count": 19,
     "metadata": {},
     "output_type": "execute_result"
    }
   ],
   "source": [
    "len(all_movies)"
   ]
  },
  {
   "cell_type": "code",
   "execution_count": 20,
   "metadata": {},
   "outputs": [
    {
     "data": {
      "text/plain": [
       "['Fast and Furious',\n",
       " 'Terminator',\n",
       " 'The Dark Night',\n",
       " 'The Dark Night',\n",
       " 'The Dark Night']"
      ]
     },
     "execution_count": 20,
     "metadata": {},
     "output_type": "execute_result"
    }
   ],
   "source": [
    "all_movies[:5] # first 5 elements"
   ]
  },
  {
   "cell_type": "code",
   "execution_count": 22,
   "metadata": {},
   "outputs": [
    {
     "data": {
      "text/plain": [
       "['Troll 2',\n",
       " 'Black widow',\n",
       " 'hera & pheri',\n",
       " '2 hera 2 pheri',\n",
       " 'hera and pheri: tokyo drift']"
      ]
     },
     "execution_count": 22,
     "metadata": {},
     "output_type": "execute_result"
    }
   ],
   "source": [
    "all_movies[-5:] # last 5 elements"
   ]
  },
  {
   "cell_type": "code",
   "execution_count": 23,
   "metadata": {},
   "outputs": [
    {
     "name": "stdout",
     "output_type": "stream",
     "text": [
      "['Fast and Furious', 'Terminator', 'The Dark Night', 'KGF', 'The Dark Night', 'War', 'Pathan', 'DDLJ', 'Kabir Singh', 'mission mangal', 'Judwa', 'Fukrey', 'kites', 'DJ', 'Troll 2', 'Black widow', 'hera & pheri', '2 hera 2 pheri', 'hera and pheri: tokyo drift']\n"
     ]
    }
   ],
   "source": [
    "all_movies[3] = 'KGF'\n",
    "print(all_movies)"
   ]
  },
  {
   "cell_type": "code",
   "execution_count": 25,
   "metadata": {},
   "outputs": [
    {
     "data": {
      "text/plain": [
       "['hera and pheri: tokyo drift',\n",
       " '2 hera 2 pheri',\n",
       " 'hera & pheri',\n",
       " 'Black widow',\n",
       " 'Troll 2',\n",
       " 'DJ',\n",
       " 'kites',\n",
       " 'Fukrey',\n",
       " 'Judwa',\n",
       " 'mission mangal',\n",
       " 'Kabir Singh',\n",
       " 'DDLJ',\n",
       " 'Pathan',\n",
       " 'War',\n",
       " 'The Dark Night',\n",
       " 'KGF',\n",
       " 'The Dark Night',\n",
       " 'Terminator',\n",
       " 'Fast and Furious']"
      ]
     },
     "execution_count": 25,
     "metadata": {},
     "output_type": "execute_result"
    }
   ],
   "source": [
    "all_movies[::-1]"
   ]
  },
  {
   "cell_type": "code",
   "execution_count": 26,
   "metadata": {},
   "outputs": [
    {
     "name": "stdout",
     "output_type": "stream",
     "text": [
      "['hera and pheri: tokyo drift', '2 hera 2 pheri', 'hera & pheri', 'Black widow', 'Troll 2', 'DJ', 'kites', 'Fukrey', 'Judwa', 'mission mangal', 'Kabir Singh', 'DDLJ', 'Pathan', 'War', 'The Dark Night', 'KGF', 'The Dark Night', 'Terminator', 'Fast and Furious']\n"
     ]
    }
   ],
   "source": [
    "all_movies.reverse()\n",
    "print(all_movies)"
   ]
  },
  {
   "cell_type": "code",
   "execution_count": 27,
   "metadata": {},
   "outputs": [
    {
     "name": "stdout",
     "output_type": "stream",
     "text": [
      "['2 hera 2 pheri', 'Black widow', 'DDLJ', 'DJ', 'Fast and Furious', 'Fukrey', 'Judwa', 'KGF', 'Kabir Singh', 'Pathan', 'Terminator', 'The Dark Night', 'The Dark Night', 'Troll 2', 'War', 'hera & pheri', 'hera and pheri: tokyo drift', 'kites', 'mission mangal']\n"
     ]
    }
   ],
   "source": [
    "all_movies.sort()\n",
    "print(all_movies)"
   ]
  },
  {
   "cell_type": "code",
   "execution_count": 28,
   "metadata": {},
   "outputs": [],
   "source": [
    "import random as rnd"
   ]
  },
  {
   "cell_type": "code",
   "execution_count": 29,
   "metadata": {},
   "outputs": [
    {
     "name": "stdout",
     "output_type": "stream",
     "text": [
      "['Kabir Singh', 'The Dark Night', 'hera & pheri', 'War', 'kites', 'Black widow', '2 hera 2 pheri', 'The Dark Night', 'mission mangal', 'Terminator', 'DDLJ', 'Troll 2', 'DJ', 'Fukrey', 'Pathan', 'Fast and Furious', 'KGF', 'Judwa', 'hera and pheri: tokyo drift']\n"
     ]
    }
   ],
   "source": [
    "rnd.shuffle(all_movies)\n",
    "print(all_movies)"
   ]
  },
  {
   "cell_type": "code",
   "execution_count": 31,
   "metadata": {},
   "outputs": [
    {
     "data": {
      "text/plain": [
       "'The Dark Night'"
      ]
     },
     "execution_count": 31,
     "metadata": {},
     "output_type": "execute_result"
    }
   ],
   "source": [
    "rnd.choice(all_movies)"
   ]
  },
  {
   "cell_type": "code",
   "execution_count": 33,
   "metadata": {},
   "outputs": [
    {
     "data": {
      "text/plain": [
       "['DJ',\n",
       " '2 hera 2 pheri',\n",
       " 'Judwa',\n",
       " 'Terminator',\n",
       " 'Judwa',\n",
       " 'Fukrey',\n",
       " 'Troll 2',\n",
       " 'Troll 2',\n",
       " 'Terminator']"
      ]
     },
     "execution_count": 33,
     "metadata": {},
     "output_type": "execute_result"
    }
   ],
   "source": [
    "rnd.choices(all_movies, k=9)"
   ]
  },
  {
   "cell_type": "code",
   "execution_count": 34,
   "metadata": {},
   "outputs": [
    {
     "data": {
      "text/plain": [
       "16"
      ]
     },
     "execution_count": 34,
     "metadata": {},
     "output_type": "execute_result"
    }
   ],
   "source": [
    "all_movies.index('KGF')"
   ]
  },
  {
   "cell_type": "code",
   "execution_count": 35,
   "metadata": {},
   "outputs": [
    {
     "data": {
      "text/plain": [
       "'hera and pheri: tokyo drift'"
      ]
     },
     "execution_count": 35,
     "metadata": {},
     "output_type": "execute_result"
    }
   ],
   "source": [
    "all_movies.pop() # removes last element"
   ]
  },
  {
   "cell_type": "code",
   "execution_count": 36,
   "metadata": {},
   "outputs": [
    {
     "data": {
      "text/plain": [
       "'War'"
      ]
     },
     "execution_count": 36,
     "metadata": {},
     "output_type": "execute_result"
    }
   ],
   "source": [
    "all_movies.pop(3)"
   ]
  },
  {
   "cell_type": "code",
   "execution_count": 37,
   "metadata": {},
   "outputs": [
    {
     "name": "stdout",
     "output_type": "stream",
     "text": [
      "['Kabir Singh', 'The Dark Night', 'hera & pheri', 'kites', 'Black widow', '2 hera 2 pheri', 'The Dark Night', 'mission mangal', 'Terminator', 'DDLJ', 'Troll 2', 'DJ', 'Fukrey', 'Pathan', 'Fast and Furious', 'KGF', 'Judwa']\n"
     ]
    }
   ],
   "source": [
    "print(all_movies)"
   ]
  },
  {
   "cell_type": "code",
   "execution_count": 38,
   "metadata": {},
   "outputs": [
    {
     "name": "stdout",
     "output_type": "stream",
     "text": [
      "[100, 2, 200, 4, 5]\n",
      "[100, 2, 200, 4, 5]\n"
     ]
    }
   ],
   "source": [
    "x = [1,2,3,4,5]\n",
    "y = x            # data structure is not copied, only reference is copied\n",
    "y[0] = 100\n",
    "x[2] = 200\n",
    "print(x)\n",
    "print(y)"
   ]
  },
  {
   "cell_type": "code",
   "execution_count": 40,
   "metadata": {},
   "outputs": [
    {
     "name": "stdout",
     "output_type": "stream",
     "text": [
      "[100, 2, 200, 4]\n",
      "[100, 2, 200, 4]\n",
      "[100, 2, 200, 4, 5, 10]\n",
      "False\n"
     ]
    }
   ],
   "source": [
    "z = x.copy()\n",
    "z.append(10)\n",
    "x.remove(5)\n",
    "print(x)\n",
    "print(y)\n",
    "print(z)\n",
    "print(x is z)"
   ]
  },
  {
   "cell_type": "code",
   "execution_count": null,
   "metadata": {},
   "outputs": [],
   "source": []
  }
 ],
 "metadata": {
  "kernelspec": {
   "display_name": "Python 3.10.8 ('base')",
   "language": "python",
   "name": "python3"
  },
  "language_info": {
   "codemirror_mode": {
    "name": "ipython",
    "version": 3
   },
   "file_extension": ".py",
   "mimetype": "text/x-python",
   "name": "python",
   "nbconvert_exporter": "python",
   "pygments_lexer": "ipython3",
   "version": "3.10.8"
  },
  "orig_nbformat": 4,
  "vscode": {
   "interpreter": {
    "hash": "8836dc3cb5d022b839c66561b07c94e2b96c073f18eae4c463d3a3bcf20aef43"
   }
  }
 },
 "nbformat": 4,
 "nbformat_minor": 2
}
