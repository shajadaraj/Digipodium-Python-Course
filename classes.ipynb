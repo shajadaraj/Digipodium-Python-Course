{
 "cells": [
  {
   "cell_type": "code",
   "execution_count": 2,
   "metadata": {},
   "outputs": [],
   "source": [
    "names = ['ram', 'rohan', 'alex', 'zayn', 'xtension']\n"
   ]
  },
  {
   "cell_type": "code",
   "execution_count": 3,
   "metadata": {},
   "outputs": [],
   "source": [
    "accs = [\n",
    "    {'name': 'ram', 'amt': 13000, 'pin': 1234, 'accno': 1234567890}\n",
    "]"
   ]
  },
  {
   "cell_type": "code",
   "execution_count": 4,
   "metadata": {},
   "outputs": [
    {
     "data": {
      "text/plain": [
       "{'name': 'ram', 'amt': 13000, 'pin': 1234, 'accno': 1234567890}"
      ]
     },
     "execution_count": 4,
     "metadata": {},
     "output_type": "execute_result"
    }
   ],
   "source": [
    "accs[0]"
   ]
  },
  {
   "cell_type": "markdown",
   "metadata": {},
   "source": [
    "OPPS\n",
    " 1 classes n objects\n",
    " 2 abstraction\n",
    " 3 encapsulation\n",
    " 4 inheritance"
   ]
  },
  {
   "cell_type": "code",
   "execution_count": 8,
   "metadata": {},
   "outputs": [],
   "source": [
    "class Account:\n",
    "    def __init__(self, name, amt, pin, accno):\n",
    "        self.name = name\n",
    "        self.amt = amt\n",
    "        self.pin = pin\n",
    "        self.accno = accno \n",
    "    def __repr__(self):\n",
    "        return self.name    \n",
    "        "
   ]
  },
  {
   "cell_type": "code",
   "execution_count": 9,
   "metadata": {},
   "outputs": [
    {
     "data": {
      "text/plain": [
       "[ram, rohan, zayn, xtension]"
      ]
     },
     "execution_count": 9,
     "metadata": {},
     "output_type": "execute_result"
    }
   ],
   "source": [
    "accobj = [\n",
    "    Account('ram', 12000, 1234, 1234567896),\n",
    "    Account('rohan', 14000, 1235, 1234567897),\n",
    "    Account('zayn', 180000, 1236, 1234567898),\n",
    "    Account('xtension', 19000, 2234, 1234567899),\n",
    "]\n",
    "accobj"
   ]
  },
  {
   "cell_type": "code",
   "execution_count": 12,
   "metadata": {},
   "outputs": [
    {
     "data": {
      "text/plain": [
       "zayn"
      ]
     },
     "execution_count": 12,
     "metadata": {},
     "output_type": "execute_result"
    }
   ],
   "source": [
    "accobj[2]"
   ]
  },
  {
   "cell_type": "code",
   "execution_count": 17,
   "metadata": {},
   "outputs": [],
   "source": [
    "class Triangle:\n",
    "    def __init__(self, b=1, h=1):\n",
    "        self.b = b\n",
    "        self.h = h\n",
    "    def area(self):\n",
    "        return 0.5 * self.b * self.h\n",
    "    def __repr__(self):\n",
    "        return f'📐 ({self.area()})'\n",
    "    def __gt__(self, other):\n",
    "        if isinstance(other, Triangle):\n",
    "            return self.area() > other.area()    \n"
   ]
  },
  {
   "cell_type": "code",
   "execution_count": 19,
   "metadata": {},
   "outputs": [
    {
     "data": {
      "text/plain": [
       "[📐 (8250.0), 📐 (300.0), 📐 (450.0)]"
      ]
     },
     "execution_count": 19,
     "metadata": {},
     "output_type": "execute_result"
    }
   ],
   "source": [
    "tris = [\n",
    "    Triangle(30, 550),\n",
    "    Triangle(20, 30),\n",
    "    Triangle(30, 30)\n",
    "]\n",
    "tris"
   ]
  },
  {
   "cell_type": "code",
   "execution_count": null,
   "metadata": {},
   "outputs": [],
   "source": []
  }
 ],
 "metadata": {
  "kernelspec": {
   "display_name": "Python 3.10.8 ('base')",
   "language": "python",
   "name": "python3"
  },
  "language_info": {
   "codemirror_mode": {
    "name": "ipython",
    "version": 3
   },
   "file_extension": ".py",
   "mimetype": "text/x-python",
   "name": "python",
   "nbconvert_exporter": "python",
   "pygments_lexer": "ipython3",
   "version": "3.10.8"
  },
  "orig_nbformat": 4,
  "vscode": {
   "interpreter": {
    "hash": "8836dc3cb5d022b839c66561b07c94e2b96c073f18eae4c463d3a3bcf20aef43"
   }
  }
 },
 "nbformat": 4,
 "nbformat_minor": 2
}
