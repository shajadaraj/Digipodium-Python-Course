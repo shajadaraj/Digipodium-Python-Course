{
 "cells": [
  {
   "cell_type": "markdown",
   "metadata": {},
   "source": [
    "parameters\n",
    "    -named parameter\n",
    "    -required parameter\n",
    "    -default parameter\n",
    "    -variable parameter\n",
    "    -variable parameter\n",
    "    -varaiable keyword argument parameter"
   ]
  },
  {
   "cell_type": "markdown",
   "metadata": {},
   "source": []
  },
  {
   "cell_type": "code",
   "execution_count": 21,
   "metadata": {},
   "outputs": [],
   "source": [
    "def burger(bread, cheese, veg, price):\n",
    "    return f'Your burger has {bread} bread, {cheese} cheese, is veg {veg} and Rs{price}'\n",
    "    "
   ]
  },
  {
   "cell_type": "code",
   "execution_count": 22,
   "metadata": {},
   "outputs": [
    {
     "data": {
      "text/plain": [
       "'Your burger has wheat bread, cheddar cheese, is veg True and Rs100'"
      ]
     },
     "execution_count": 22,
     "metadata": {},
     "output_type": "execute_result"
    }
   ],
   "source": [
    "burger('wheat', 'cheddar', True, 100)"
   ]
  },
  {
   "cell_type": "code",
   "execution_count": 23,
   "metadata": {},
   "outputs": [
    {
     "data": {
      "text/plain": [
       "'Your burger has wheat bread, Parmesan cheese, is veg True and Rs200'"
      ]
     },
     "execution_count": 23,
     "metadata": {},
     "output_type": "execute_result"
    }
   ],
   "source": [
    "burger(bread='wheat', cheese='Parmesan', veg=True, price=200)"
   ]
  },
  {
   "cell_type": "code",
   "execution_count": 24,
   "metadata": {},
   "outputs": [],
   "source": [
    "def total(x,y,z):\n",
    "    return x+y+z*0.05"
   ]
  },
  {
   "cell_type": "code",
   "execution_count": 25,
   "metadata": {},
   "outputs": [
    {
     "name": "stdout",
     "output_type": "stream",
     "text": [
      "5.2\n",
      "3.1\n"
     ]
    }
   ],
   "source": [
    "ans = total(x=2, y=3, z=4)\n",
    "print(ans)\n",
    "ans = total(y=2, z=2,x=1)\n",
    "print(ans)"
   ]
  },
  {
   "cell_type": "code",
   "execution_count": 26,
   "metadata": {},
   "outputs": [],
   "source": [
    "def total_v2(x, y, z=10):\n",
    "    return x + y + z * 0.05"
   ]
  },
  {
   "cell_type": "code",
   "execution_count": 27,
   "metadata": {},
   "outputs": [
    {
     "data": {
      "text/plain": [
       "8.5"
      ]
     },
     "execution_count": 27,
     "metadata": {},
     "output_type": "execute_result"
    }
   ],
   "source": [
    "total_v2(3,5)"
   ]
  },
  {
   "cell_type": "code",
   "execution_count": 28,
   "metadata": {},
   "outputs": [
    {
     "data": {
      "text/plain": [
       "14.0"
      ]
     },
     "execution_count": 28,
     "metadata": {},
     "output_type": "execute_result"
    }
   ],
   "source": [
    "total_v2(3,10,20)"
   ]
  },
  {
   "cell_type": "code",
   "execution_count": 29,
   "metadata": {},
   "outputs": [],
   "source": [
    "def area(l=1, b=1):\n",
    "    return l * b"
   ]
  },
  {
   "cell_type": "code",
   "execution_count": 30,
   "metadata": {},
   "outputs": [
    {
     "name": "stdout",
     "output_type": "stream",
     "text": [
      "1\n",
      "10\n",
      "200\n"
     ]
    }
   ],
   "source": [
    "print(area())\n",
    "print(area(10))\n",
    "print(area(10,20))\n",
    "\n"
   ]
  },
  {
   "cell_type": "code",
   "execution_count": 34,
   "metadata": {},
   "outputs": [],
   "source": [
    "def greeting(name='Guest'):\n",
    "    print('🌹'*5)\n",
    "    print(f'Welcome {name}')\n",
    "    print('🌹'* 5)\n",
    "\n"
   ]
  },
  {
   "cell_type": "code",
   "execution_count": null,
   "metadata": {},
   "outputs": [
    {
     "name": "stdout",
     "output_type": "stream",
     "text": [
      "🌹🌹🌹🌹🌹\n",
      "Welcome Guest\n",
      "🌹🌹🌹🌹🌹\n"
     ]
    }
   ],
   "source": [
    "greeting()"
   ]
  },
  {
   "cell_type": "code",
   "execution_count": 33,
   "metadata": {},
   "outputs": [
    {
     "name": "stdout",
     "output_type": "stream",
     "text": [
      "🌹🌹🌹🌹🌹\n",
      "Welcome RAJ\n",
      "🌹🌹🌹🌹🌹\n"
     ]
    }
   ],
   "source": [
    "greeting('RAJ')"
   ]
  },
  {
   "cell_type": "code",
   "execution_count": 49,
   "metadata": {},
   "outputs": [],
   "source": [
    "#variable arguments functions\n",
    "\n",
    "def average(*numbers):\n",
    "    if len(numbers)> 1:\n",
    "        return sum(numbers) / len(numbers)\n",
    "    "
   ]
  },
  {
   "cell_type": "code",
   "execution_count": 45,
   "metadata": {},
   "outputs": [
    {
     "name": "stdout",
     "output_type": "stream",
     "text": [
      "2.0\n",
      "66.0\n"
     ]
    }
   ],
   "source": [
    "print(average(1,2,3))\n",
    "print(average(33,44,55,66,77,88,99))"
   ]
  },
  {
   "cell_type": "code",
   "execution_count": 53,
   "metadata": {},
   "outputs": [],
   "source": [
    "def menu(**products):\n",
    "    for k,v in products.items():\n",
    "        print(f'💎 {k:15} | Rs.{v:4} ')"
   ]
  },
  {
   "cell_type": "code",
   "execution_count": 54,
   "metadata": {},
   "outputs": [
    {
     "name": "stdout",
     "output_type": "stream",
     "text": [
      "💎 chatt           | Rs. 100 \n",
      "💎 dosa            | Rs.  80 \n",
      "💎 idli            | Rs.  60 \n",
      "💎 vada            | Rs.  50 \n",
      "💎 samosa          | Rs.  10 \n",
      "💎 pani_puri       | Rs.  30 \n",
      "💎 mutton          | Rs. 350 \n",
      "💎 kulcha          | Rs.  50 \n"
     ]
    }
   ],
   "source": [
    "# Moti Mahal Menu\n",
    "\n",
    "menu(chatt=100, dosa=80, idli=60, vada=50, samosa=10, pani_puri=30, mutton=350, kulcha=50) "
   ]
  },
  {
   "cell_type": "code",
   "execution_count": null,
   "metadata": {},
   "outputs": [],
   "source": []
  }
 ],
 "metadata": {
  "kernelspec": {
   "display_name": "Python 3.10.8 ('base')",
   "language": "python",
   "name": "python3"
  },
  "language_info": {
   "codemirror_mode": {
    "name": "ipython",
    "version": 3
   },
   "file_extension": ".py",
   "mimetype": "text/x-python",
   "name": "python",
   "nbconvert_exporter": "python",
   "pygments_lexer": "ipython3",
   "version": "3.10.8"
  },
  "orig_nbformat": 4,
  "vscode": {
   "interpreter": {
    "hash": "8836dc3cb5d022b839c66561b07c94e2b96c073f18eae4c463d3a3bcf20aef43"
   }
  }
 },
 "nbformat": 4,
 "nbformat_minor": 2
}
