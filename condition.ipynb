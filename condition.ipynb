{
 "cells": [
  {
   "cell_type": "code",
   "execution_count": 3,
   "metadata": {},
   "outputs": [
    {
     "name": "stdout",
     "output_type": "stream",
     "text": [
      "Good Job ❤\n"
     ]
    }
   ],
   "source": [
    "x = input(\"Enter the number: \")\n",
    "if x.isnumeric():\n",
    "    print('Good Job ❤')\n",
    "else:\n",
    "    print('Sad Life 😜')"
   ]
  },
  {
   "cell_type": "code",
   "execution_count": 6,
   "metadata": {},
   "outputs": [
    {
     "name": "stdout",
     "output_type": "stream",
     "text": [
      "You have the right to vote\n"
     ]
    }
   ],
   "source": [
    "age = int(input(\"enter your age: \"))\n",
    "if age >= 18:\n",
    "    print('You have the right to vote')\n",
    "else:\n",
    "    print(f\"please wait {18 - age} years\")"
   ]
  },
  {
   "cell_type": "code",
   "execution_count": 8,
   "metadata": {},
   "outputs": [
    {
     "name": "stdout",
     "output_type": "stream",
     "text": [
      "we have 200kg apple in store\n",
      "total costing about Rs.10000\n"
     ]
    }
   ],
   "source": [
    "x = 200\n",
    "y = 'apple'\n",
    "prc = 50\n",
    "print(f'we have {x}kg {y} in store')\n",
    "print(f'total costing about Rs.{x * prc}')"
   ]
  },
  {
   "cell_type": "code",
   "execution_count": 11,
   "metadata": {},
   "outputs": [
    {
     "name": "stdout",
     "output_type": "stream",
     "text": [
      "x=74 is natural number\n",
      "x=74 is even number\n",
      "x=74 is greater than 50\n"
     ]
    }
   ],
   "source": [
    "x = int(input('Enter a number: '))\n",
    "if x > 0:\n",
    "    print(f\"{x=} is natural number\")\n",
    "if x % 2 == 0:\n",
    "    print(f'{x=} is even number')\n",
    "if x > 50:\n",
    "    print(f'{x=} is greater than 50')        "
   ]
  },
  {
   "cell_type": "code",
   "execution_count": 15,
   "metadata": {},
   "outputs": [
    {
     "name": "stdout",
     "output_type": "stream",
     "text": [
      "total salary is 39000.0\n"
     ]
    }
   ],
   "source": [
    "post = input('Enter your designation:')\n",
    "if post == 'Manager':\n",
    "   bs = 50000\n",
    "   bns = bs * .1\n",
    "   hra = bs * .2\n",
    "if post == 'developer':\n",
    "   bs = 40000\n",
    "   bns = bs * .1\n",
    "   hra = bs * .2\n",
    "if post == 'tester':\n",
    "   bs = 30000\n",
    "   bns = bs * .1\n",
    "   hra = bs * .2\n",
    "print(f'total salary is {bs + bns + hra}')\n",
    "    "
   ]
  },
  {
   "cell_type": "code",
   "execution_count": 2,
   "metadata": {},
   "outputs": [
    {
     "name": "stdout",
     "output_type": "stream",
     "text": [
      " khtm ho gya\n"
     ]
    }
   ],
   "source": [
    "fruit = input('Enter a fruit name:')\n",
    "match fruit:\n",
    "    case 'Apple':\n",
    "        print(\"Apple are 100/kg\")\n",
    "    case 'Mango':\n",
    "        print('Mango are 50/kg')\n",
    "    case 'Pomegranate':\n",
    "        print(' khtm ho gya')\n",
    "    case _:                           # default case   \n",
    "        print(f'{fruit} not available')            "
   ]
  },
  {
   "cell_type": "code",
   "execution_count": 3,
   "metadata": {},
   "outputs": [
    {
     "name": "stdout",
     "output_type": "stream",
     "text": [
      "c is greater\n"
     ]
    }
   ],
   "source": [
    "a = 230\n",
    "b = 40\n",
    "c = 999\n",
    "# related conditions using if-else-elif ladder\n",
    "if a > b and a > c:\n",
    "    print('a is greater')\n",
    "elif b > a and b > c:\n",
    "    print('b is greater')\n",
    "else:\n",
    "    print('c is greater')"
   ]
  },
  {
   "cell_type": "code",
   "execution_count": null,
   "metadata": {},
   "outputs": [],
   "source": []
  }
 ],
 "metadata": {
  "kernelspec": {
   "display_name": "Python 3.10.8 ('base')",
   "language": "python",
   "name": "python3"
  },
  "language_info": {
   "codemirror_mode": {
    "name": "ipython",
    "version": 3
   },
   "file_extension": ".py",
   "mimetype": "text/x-python",
   "name": "python",
   "nbconvert_exporter": "python",
   "pygments_lexer": "ipython3",
   "version": "3.10.8"
  },
  "orig_nbformat": 4,
  "vscode": {
   "interpreter": {
    "hash": "8836dc3cb5d022b839c66561b07c94e2b96c073f18eae4c463d3a3bcf20aef43"
   }
  }
 },
 "nbformat": 4,
 "nbformat_minor": 2
}
