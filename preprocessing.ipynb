{
 "cells": [
  {
   "cell_type": "code",
   "execution_count": 1,
   "metadata": {},
   "outputs": [],
   "source": [
    "import pandas as pd\n",
    "import numpy as np"
   ]
  },
  {
   "cell_type": "code",
   "execution_count": 4,
   "metadata": {},
   "outputs": [
    {
     "data": {
      "text/html": [
       "<div>\n",
       "<style scoped>\n",
       "    .dataframe tbody tr th:only-of-type {\n",
       "        vertical-align: middle;\n",
       "    }\n",
       "\n",
       "    .dataframe tbody tr th {\n",
       "        vertical-align: top;\n",
       "    }\n",
       "\n",
       "    .dataframe thead th {\n",
       "        text-align: right;\n",
       "    }\n",
       "</style>\n",
       "<table border=\"1\" class=\"dataframe\">\n",
       "  <thead>\n",
       "    <tr style=\"text-align: right;\">\n",
       "      <th></th>\n",
       "      <th>brand</th>\n",
       "      <th>title</th>\n",
       "      <th>price</th>\n",
       "      <th>rating</th>\n",
       "      <th>oprice</th>\n",
       "    </tr>\n",
       "  </thead>\n",
       "  <tbody>\n",
       "    <tr>\n",
       "      <th>0</th>\n",
       "      <td>TIMEX</td>\n",
       "      <td>Analog Blue Dial Men's Watch-TWHG03SMU10</td>\n",
       "      <td>2,699</td>\n",
       "      <td>4.0</td>\n",
       "      <td>₹2,699</td>\n",
       "    </tr>\n",
       "    <tr>\n",
       "      <th>1</th>\n",
       "      <td>TIMEX</td>\n",
       "      <td>Analog Black Dial Men's Watch-TWTG80SMU04</td>\n",
       "      <td>1,499</td>\n",
       "      <td>3.9</td>\n",
       "      <td>₹1,499</td>\n",
       "    </tr>\n",
       "    <tr>\n",
       "      <th>2</th>\n",
       "      <td>TIMEX</td>\n",
       "      <td>Analog Blue Dial Men's Watch-TWTG80SMU02</td>\n",
       "      <td>849</td>\n",
       "      <td>4.2</td>\n",
       "      <td>₹849</td>\n",
       "    </tr>\n",
       "    <tr>\n",
       "      <th>3</th>\n",
       "      <td>TIMEX</td>\n",
       "      <td>Analog Silver Dial Men's Watch-TWNTG07SMU04</td>\n",
       "      <td>849</td>\n",
       "      <td>4.3</td>\n",
       "      <td>₹849</td>\n",
       "    </tr>\n",
       "    <tr>\n",
       "      <th>4</th>\n",
       "      <td>USM</td>\n",
       "      <td>USM ID116 Smart Watch Smart Bracelet Fitness T...</td>\n",
       "      <td>329</td>\n",
       "      <td>4.6</td>\n",
       "      <td>₹329</td>\n",
       "    </tr>\n",
       "    <tr>\n",
       "      <th>...</th>\n",
       "      <td>...</td>\n",
       "      <td>...</td>\n",
       "      <td>...</td>\n",
       "      <td>...</td>\n",
       "      <td>...</td>\n",
       "    </tr>\n",
       "    <tr>\n",
       "      <th>434</th>\n",
       "      <td>TIMEX</td>\n",
       "      <td>TWHG03SMU04</td>\n",
       "      <td>3,199</td>\n",
       "      <td>4.1</td>\n",
       "      <td>₹3,199</td>\n",
       "    </tr>\n",
       "    <tr>\n",
       "      <th>435</th>\n",
       "      <td>TIMEWEAR</td>\n",
       "      <td>Men's Analog Number Dial Brown Leather Strap W...</td>\n",
       "      <td>201</td>\n",
       "      <td>3.8</td>\n",
       "      <td>₹201</td>\n",
       "    </tr>\n",
       "    <tr>\n",
       "      <th>436</th>\n",
       "      <td>TIMEWEAR</td>\n",
       "      <td>Analog Men's Watch (Dial Colored Strap)</td>\n",
       "      <td>399</td>\n",
       "      <td>3.8</td>\n",
       "      <td>₹399</td>\n",
       "    </tr>\n",
       "    <tr>\n",
       "      <th>437</th>\n",
       "      <td>Acnos</td>\n",
       "      <td>Brand - A Digital Watch with Square LED Shockp...</td>\n",
       "      <td>325</td>\n",
       "      <td>3.6</td>\n",
       "      <td>₹325</td>\n",
       "    </tr>\n",
       "    <tr>\n",
       "      <th>438</th>\n",
       "      <td>Matrix</td>\n",
       "      <td>Black, Blue, White Dial, Day &amp; Date Functionin...</td>\n",
       "      <td>329</td>\n",
       "      <td>3.0</td>\n",
       "      <td>₹329</td>\n",
       "    </tr>\n",
       "  </tbody>\n",
       "</table>\n",
       "<p>439 rows × 5 columns</p>\n",
       "</div>"
      ],
      "text/plain": [
       "        brand                                              title  price  \\\n",
       "0       TIMEX         Analog Blue Dial Men's Watch-TWHG03SMU10    2,699   \n",
       "1       TIMEX        Analog Black Dial Men's Watch-TWTG80SMU04    1,499   \n",
       "2       TIMEX         Analog Blue Dial Men's Watch-TWTG80SMU02      849   \n",
       "3       TIMEX      Analog Silver Dial Men's Watch-TWNTG07SMU04      849   \n",
       "4         USM  USM ID116 Smart Watch Smart Bracelet Fitness T...    329   \n",
       "..        ...                                                ...    ...   \n",
       "434     TIMEX                                      TWHG03SMU04    3,199   \n",
       "435  TIMEWEAR  Men's Analog Number Dial Brown Leather Strap W...    201   \n",
       "436  TIMEWEAR          Analog Men's Watch (Dial Colored Strap)      399   \n",
       "437     Acnos  Brand - A Digital Watch with Square LED Shockp...    325   \n",
       "438    Matrix  Black, Blue, White Dial, Day & Date Functionin...    329   \n",
       "\n",
       "    rating  oprice  \n",
       "0      4.0  ₹2,699  \n",
       "1      3.9  ₹1,499  \n",
       "2      4.2    ₹849  \n",
       "3      4.3    ₹849  \n",
       "4      4.6    ₹329  \n",
       "..     ...     ...  \n",
       "434    4.1  ₹3,199  \n",
       "435    3.8    ₹201  \n",
       "436    3.8    ₹399  \n",
       "437    3.6    ₹325  \n",
       "438    3.0    ₹329  \n",
       "\n",
       "[439 rows x 5 columns]"
      ]
     },
     "execution_count": 4,
     "metadata": {},
     "output_type": "execute_result"
    }
   ],
   "source": [
    "df = pd.read_excel('amazon.xlsx')\n",
    "df"
   ]
  },
  {
   "cell_type": "code",
   "execution_count": 5,
   "metadata": {},
   "outputs": [
    {
     "data": {
      "text/plain": [
       "0         TIMEX\n",
       "1         TIMEX\n",
       "2         TIMEX\n",
       "3         TIMEX\n",
       "4           USM\n",
       "         ...   \n",
       "434       TIMEX\n",
       "435    TIMEWEAR\n",
       "436    TIMEWEAR\n",
       "437       Acnos\n",
       "438      Matrix\n",
       "Name: brand, Length: 439, dtype: object"
      ]
     },
     "execution_count": 5,
     "metadata": {},
     "output_type": "execute_result"
    }
   ],
   "source": [
    "df['brand']"
   ]
  },
  {
   "cell_type": "code",
   "execution_count": 6,
   "metadata": {},
   "outputs": [
    {
     "data": {
      "text/plain": [
       "0      2,699\n",
       "1      1,499\n",
       "2        849\n",
       "3        849\n",
       "4        329\n",
       "       ...  \n",
       "434    3,199\n",
       "435      201\n",
       "436      399\n",
       "437      325\n",
       "438      329\n",
       "Name: price, Length: 439, dtype: object"
      ]
     },
     "execution_count": 6,
     "metadata": {},
     "output_type": "execute_result"
    }
   ],
   "source": [
    "df['price']"
   ]
  },
  {
   "cell_type": "code",
   "execution_count": 7,
   "metadata": {},
   "outputs": [
    {
     "data": {
      "text/plain": [
       "0             Analog Blue Dial Men's Watch-TWHG03SMU10  \n",
       "1            Analog Black Dial Men's Watch-TWTG80SMU04  \n",
       "2             Analog Blue Dial Men's Watch-TWTG80SMU02  \n",
       "3          Analog Silver Dial Men's Watch-TWNTG07SMU04  \n",
       "4      USM ID116 Smart Watch Smart Bracelet Fitness T...\n",
       "                             ...                        \n",
       "434                                        TWHG03SMU04  \n",
       "435    Men's Analog Number Dial Brown Leather Strap W...\n",
       "436            Analog Men's Watch (Dial Colored Strap)  \n",
       "437    Brand - A Digital Watch with Square LED Shockp...\n",
       "438    Black, Blue, White Dial, Day & Date Functionin...\n",
       "Name: title, Length: 439, dtype: object"
      ]
     },
     "execution_count": 7,
     "metadata": {},
     "output_type": "execute_result"
    }
   ],
   "source": [
    "df['title']"
   ]
  },
  {
   "cell_type": "code",
   "execution_count": 8,
   "metadata": {},
   "outputs": [],
   "source": [
    "def clean_price_column(price):\n",
    "    if isinstance(price, str):\n",
    "        price = price.replace(',', '')\n",
    "        price = float(price)\n",
    "        return price\n",
    "\n",
    "    return price    "
   ]
  },
  {
   "cell_type": "code",
   "execution_count": 9,
   "metadata": {},
   "outputs": [
    {
     "data": {
      "text/plain": [
       "1000.0"
      ]
     },
     "execution_count": 9,
     "metadata": {},
     "output_type": "execute_result"
    }
   ],
   "source": [
    "# test\n",
    "clean_price_column('1,000')"
   ]
  },
  {
   "cell_type": "code",
   "execution_count": 10,
   "metadata": {},
   "outputs": [
    {
     "data": {
      "text/plain": [
       "0      2699.0\n",
       "1      1499.0\n",
       "2       849.0\n",
       "3       849.0\n",
       "4       329.0\n",
       "        ...  \n",
       "434    3199.0\n",
       "435     201.0\n",
       "436     399.0\n",
       "437     325.0\n",
       "438     329.0\n",
       "Name: price, Length: 439, dtype: float64"
      ]
     },
     "execution_count": 10,
     "metadata": {},
     "output_type": "execute_result"
    }
   ],
   "source": [
    "# testing the function on the column\n",
    "df['price'].apply(clean_price_column)"
   ]
  },
  {
   "cell_type": "code",
   "execution_count": 11,
   "metadata": {},
   "outputs": [
    {
     "data": {
      "text/html": [
       "<div>\n",
       "<style scoped>\n",
       "    .dataframe tbody tr th:only-of-type {\n",
       "        vertical-align: middle;\n",
       "    }\n",
       "\n",
       "    .dataframe tbody tr th {\n",
       "        vertical-align: top;\n",
       "    }\n",
       "\n",
       "    .dataframe thead th {\n",
       "        text-align: right;\n",
       "    }\n",
       "</style>\n",
       "<table border=\"1\" class=\"dataframe\">\n",
       "  <thead>\n",
       "    <tr style=\"text-align: right;\">\n",
       "      <th></th>\n",
       "      <th>brand</th>\n",
       "      <th>title</th>\n",
       "      <th>price</th>\n",
       "      <th>rating</th>\n",
       "      <th>oprice</th>\n",
       "      <th>clean_price</th>\n",
       "    </tr>\n",
       "  </thead>\n",
       "  <tbody>\n",
       "    <tr>\n",
       "      <th>0</th>\n",
       "      <td>TIMEX</td>\n",
       "      <td>Analog Blue Dial Men's Watch-TWHG03SMU10</td>\n",
       "      <td>2,699</td>\n",
       "      <td>4.0</td>\n",
       "      <td>₹2,699</td>\n",
       "      <td>2699.0</td>\n",
       "    </tr>\n",
       "    <tr>\n",
       "      <th>1</th>\n",
       "      <td>TIMEX</td>\n",
       "      <td>Analog Black Dial Men's Watch-TWTG80SMU04</td>\n",
       "      <td>1,499</td>\n",
       "      <td>3.9</td>\n",
       "      <td>₹1,499</td>\n",
       "      <td>1499.0</td>\n",
       "    </tr>\n",
       "    <tr>\n",
       "      <th>2</th>\n",
       "      <td>TIMEX</td>\n",
       "      <td>Analog Blue Dial Men's Watch-TWTG80SMU02</td>\n",
       "      <td>849</td>\n",
       "      <td>4.2</td>\n",
       "      <td>₹849</td>\n",
       "      <td>849.0</td>\n",
       "    </tr>\n",
       "    <tr>\n",
       "      <th>3</th>\n",
       "      <td>TIMEX</td>\n",
       "      <td>Analog Silver Dial Men's Watch-TWNTG07SMU04</td>\n",
       "      <td>849</td>\n",
       "      <td>4.3</td>\n",
       "      <td>₹849</td>\n",
       "      <td>849.0</td>\n",
       "    </tr>\n",
       "    <tr>\n",
       "      <th>4</th>\n",
       "      <td>USM</td>\n",
       "      <td>USM ID116 Smart Watch Smart Bracelet Fitness T...</td>\n",
       "      <td>329</td>\n",
       "      <td>4.6</td>\n",
       "      <td>₹329</td>\n",
       "      <td>329.0</td>\n",
       "    </tr>\n",
       "    <tr>\n",
       "      <th>...</th>\n",
       "      <td>...</td>\n",
       "      <td>...</td>\n",
       "      <td>...</td>\n",
       "      <td>...</td>\n",
       "      <td>...</td>\n",
       "      <td>...</td>\n",
       "    </tr>\n",
       "    <tr>\n",
       "      <th>434</th>\n",
       "      <td>TIMEX</td>\n",
       "      <td>TWHG03SMU04</td>\n",
       "      <td>3,199</td>\n",
       "      <td>4.1</td>\n",
       "      <td>₹3,199</td>\n",
       "      <td>3199.0</td>\n",
       "    </tr>\n",
       "    <tr>\n",
       "      <th>435</th>\n",
       "      <td>TIMEWEAR</td>\n",
       "      <td>Men's Analog Number Dial Brown Leather Strap W...</td>\n",
       "      <td>201</td>\n",
       "      <td>3.8</td>\n",
       "      <td>₹201</td>\n",
       "      <td>201.0</td>\n",
       "    </tr>\n",
       "    <tr>\n",
       "      <th>436</th>\n",
       "      <td>TIMEWEAR</td>\n",
       "      <td>Analog Men's Watch (Dial Colored Strap)</td>\n",
       "      <td>399</td>\n",
       "      <td>3.8</td>\n",
       "      <td>₹399</td>\n",
       "      <td>399.0</td>\n",
       "    </tr>\n",
       "    <tr>\n",
       "      <th>437</th>\n",
       "      <td>Acnos</td>\n",
       "      <td>Brand - A Digital Watch with Square LED Shockp...</td>\n",
       "      <td>325</td>\n",
       "      <td>3.6</td>\n",
       "      <td>₹325</td>\n",
       "      <td>325.0</td>\n",
       "    </tr>\n",
       "    <tr>\n",
       "      <th>438</th>\n",
       "      <td>Matrix</td>\n",
       "      <td>Black, Blue, White Dial, Day &amp; Date Functionin...</td>\n",
       "      <td>329</td>\n",
       "      <td>3.0</td>\n",
       "      <td>₹329</td>\n",
       "      <td>329.0</td>\n",
       "    </tr>\n",
       "  </tbody>\n",
       "</table>\n",
       "<p>439 rows × 6 columns</p>\n",
       "</div>"
      ],
      "text/plain": [
       "        brand                                              title  price  \\\n",
       "0       TIMEX         Analog Blue Dial Men's Watch-TWHG03SMU10    2,699   \n",
       "1       TIMEX        Analog Black Dial Men's Watch-TWTG80SMU04    1,499   \n",
       "2       TIMEX         Analog Blue Dial Men's Watch-TWTG80SMU02      849   \n",
       "3       TIMEX      Analog Silver Dial Men's Watch-TWNTG07SMU04      849   \n",
       "4         USM  USM ID116 Smart Watch Smart Bracelet Fitness T...    329   \n",
       "..        ...                                                ...    ...   \n",
       "434     TIMEX                                      TWHG03SMU04    3,199   \n",
       "435  TIMEWEAR  Men's Analog Number Dial Brown Leather Strap W...    201   \n",
       "436  TIMEWEAR          Analog Men's Watch (Dial Colored Strap)      399   \n",
       "437     Acnos  Brand - A Digital Watch with Square LED Shockp...    325   \n",
       "438    Matrix  Black, Blue, White Dial, Day & Date Functionin...    329   \n",
       "\n",
       "    rating  oprice  clean_price  \n",
       "0      4.0  ₹2,699       2699.0  \n",
       "1      3.9  ₹1,499       1499.0  \n",
       "2      4.2    ₹849        849.0  \n",
       "3      4.3    ₹849        849.0  \n",
       "4      4.6    ₹329        329.0  \n",
       "..     ...     ...          ...  \n",
       "434    4.1  ₹3,199       3199.0  \n",
       "435    3.8    ₹201        201.0  \n",
       "436    3.8    ₹399        399.0  \n",
       "437    3.6    ₹325        325.0  \n",
       "438    3.0    ₹329        329.0  \n",
       "\n",
       "[439 rows x 6 columns]"
      ]
     },
     "execution_count": 11,
     "metadata": {},
     "output_type": "execute_result"
    }
   ],
   "source": [
    "# implementing the function on the column\n",
    "df['clean_price'] = df['price'].apply(clean_price_column)\n",
    "df"
   ]
  },
  {
   "cell_type": "code",
   "execution_count": 12,
   "metadata": {},
   "outputs": [],
   "source": [
    "def clean_rating_column(rating):\n",
    "    if isinstance(rating, str):\n",
    "        if len(rating) <=3:\n",
    "            rating = float(rating)\n",
    "            return rating\n",
    "        else:\n",
    "            return np.nan\n",
    "    return rating            "
   ]
  },
  {
   "cell_type": "code",
   "execution_count": 13,
   "metadata": {},
   "outputs": [
    {
     "data": {
      "text/plain": [
       "nan"
      ]
     },
     "execution_count": 13,
     "metadata": {},
     "output_type": "execute_result"
    }
   ],
   "source": [
    "# teat\n",
    "clean_rating_column('no review')"
   ]
  },
  {
   "cell_type": "code",
   "execution_count": 14,
   "metadata": {},
   "outputs": [
    {
     "data": {
      "text/plain": [
       "0      4.0\n",
       "1      3.9\n",
       "2      4.2\n",
       "3      4.3\n",
       "4      4.6\n",
       "      ... \n",
       "434    4.1\n",
       "435    3.8\n",
       "436    3.8\n",
       "437    3.6\n",
       "438    3.0\n",
       "Name: rating, Length: 439, dtype: float64"
      ]
     },
     "execution_count": 14,
     "metadata": {},
     "output_type": "execute_result"
    }
   ],
   "source": [
    "# testing the function on the column\n",
    "df['rating'].apply(clean_rating_column)"
   ]
  },
  {
   "cell_type": "code",
   "execution_count": 15,
   "metadata": {},
   "outputs": [
    {
     "data": {
      "text/html": [
       "<div>\n",
       "<style scoped>\n",
       "    .dataframe tbody tr th:only-of-type {\n",
       "        vertical-align: middle;\n",
       "    }\n",
       "\n",
       "    .dataframe tbody tr th {\n",
       "        vertical-align: top;\n",
       "    }\n",
       "\n",
       "    .dataframe thead th {\n",
       "        text-align: right;\n",
       "    }\n",
       "</style>\n",
       "<table border=\"1\" class=\"dataframe\">\n",
       "  <thead>\n",
       "    <tr style=\"text-align: right;\">\n",
       "      <th></th>\n",
       "      <th>brand</th>\n",
       "      <th>title</th>\n",
       "      <th>price</th>\n",
       "      <th>rating</th>\n",
       "      <th>oprice</th>\n",
       "      <th>clean_price</th>\n",
       "      <th>clean_rating</th>\n",
       "    </tr>\n",
       "  </thead>\n",
       "  <tbody>\n",
       "    <tr>\n",
       "      <th>0</th>\n",
       "      <td>TIMEX</td>\n",
       "      <td>Analog Blue Dial Men's Watch-TWHG03SMU10</td>\n",
       "      <td>2,699</td>\n",
       "      <td>4.0</td>\n",
       "      <td>₹2,699</td>\n",
       "      <td>2699.0</td>\n",
       "      <td>2699.0</td>\n",
       "    </tr>\n",
       "    <tr>\n",
       "      <th>1</th>\n",
       "      <td>TIMEX</td>\n",
       "      <td>Analog Black Dial Men's Watch-TWTG80SMU04</td>\n",
       "      <td>1,499</td>\n",
       "      <td>3.9</td>\n",
       "      <td>₹1,499</td>\n",
       "      <td>1499.0</td>\n",
       "      <td>1499.0</td>\n",
       "    </tr>\n",
       "    <tr>\n",
       "      <th>2</th>\n",
       "      <td>TIMEX</td>\n",
       "      <td>Analog Blue Dial Men's Watch-TWTG80SMU02</td>\n",
       "      <td>849</td>\n",
       "      <td>4.2</td>\n",
       "      <td>₹849</td>\n",
       "      <td>849.0</td>\n",
       "      <td>849.0</td>\n",
       "    </tr>\n",
       "    <tr>\n",
       "      <th>3</th>\n",
       "      <td>TIMEX</td>\n",
       "      <td>Analog Silver Dial Men's Watch-TWNTG07SMU04</td>\n",
       "      <td>849</td>\n",
       "      <td>4.3</td>\n",
       "      <td>₹849</td>\n",
       "      <td>849.0</td>\n",
       "      <td>849.0</td>\n",
       "    </tr>\n",
       "    <tr>\n",
       "      <th>4</th>\n",
       "      <td>USM</td>\n",
       "      <td>USM ID116 Smart Watch Smart Bracelet Fitness T...</td>\n",
       "      <td>329</td>\n",
       "      <td>4.6</td>\n",
       "      <td>₹329</td>\n",
       "      <td>329.0</td>\n",
       "      <td>329.0</td>\n",
       "    </tr>\n",
       "    <tr>\n",
       "      <th>...</th>\n",
       "      <td>...</td>\n",
       "      <td>...</td>\n",
       "      <td>...</td>\n",
       "      <td>...</td>\n",
       "      <td>...</td>\n",
       "      <td>...</td>\n",
       "      <td>...</td>\n",
       "    </tr>\n",
       "    <tr>\n",
       "      <th>434</th>\n",
       "      <td>TIMEX</td>\n",
       "      <td>TWHG03SMU04</td>\n",
       "      <td>3,199</td>\n",
       "      <td>4.1</td>\n",
       "      <td>₹3,199</td>\n",
       "      <td>3199.0</td>\n",
       "      <td>3199.0</td>\n",
       "    </tr>\n",
       "    <tr>\n",
       "      <th>435</th>\n",
       "      <td>TIMEWEAR</td>\n",
       "      <td>Men's Analog Number Dial Brown Leather Strap W...</td>\n",
       "      <td>201</td>\n",
       "      <td>3.8</td>\n",
       "      <td>₹201</td>\n",
       "      <td>201.0</td>\n",
       "      <td>201.0</td>\n",
       "    </tr>\n",
       "    <tr>\n",
       "      <th>436</th>\n",
       "      <td>TIMEWEAR</td>\n",
       "      <td>Analog Men's Watch (Dial Colored Strap)</td>\n",
       "      <td>399</td>\n",
       "      <td>3.8</td>\n",
       "      <td>₹399</td>\n",
       "      <td>399.0</td>\n",
       "      <td>399.0</td>\n",
       "    </tr>\n",
       "    <tr>\n",
       "      <th>437</th>\n",
       "      <td>Acnos</td>\n",
       "      <td>Brand - A Digital Watch with Square LED Shockp...</td>\n",
       "      <td>325</td>\n",
       "      <td>3.6</td>\n",
       "      <td>₹325</td>\n",
       "      <td>325.0</td>\n",
       "      <td>325.0</td>\n",
       "    </tr>\n",
       "    <tr>\n",
       "      <th>438</th>\n",
       "      <td>Matrix</td>\n",
       "      <td>Black, Blue, White Dial, Day &amp; Date Functionin...</td>\n",
       "      <td>329</td>\n",
       "      <td>3.0</td>\n",
       "      <td>₹329</td>\n",
       "      <td>329.0</td>\n",
       "      <td>329.0</td>\n",
       "    </tr>\n",
       "  </tbody>\n",
       "</table>\n",
       "<p>439 rows × 7 columns</p>\n",
       "</div>"
      ],
      "text/plain": [
       "        brand                                              title  price  \\\n",
       "0       TIMEX         Analog Blue Dial Men's Watch-TWHG03SMU10    2,699   \n",
       "1       TIMEX        Analog Black Dial Men's Watch-TWTG80SMU04    1,499   \n",
       "2       TIMEX         Analog Blue Dial Men's Watch-TWTG80SMU02      849   \n",
       "3       TIMEX      Analog Silver Dial Men's Watch-TWNTG07SMU04      849   \n",
       "4         USM  USM ID116 Smart Watch Smart Bracelet Fitness T...    329   \n",
       "..        ...                                                ...    ...   \n",
       "434     TIMEX                                      TWHG03SMU04    3,199   \n",
       "435  TIMEWEAR  Men's Analog Number Dial Brown Leather Strap W...    201   \n",
       "436  TIMEWEAR          Analog Men's Watch (Dial Colored Strap)      399   \n",
       "437     Acnos  Brand - A Digital Watch with Square LED Shockp...    325   \n",
       "438    Matrix  Black, Blue, White Dial, Day & Date Functionin...    329   \n",
       "\n",
       "    rating  oprice  clean_price  clean_rating  \n",
       "0      4.0  ₹2,699       2699.0        2699.0  \n",
       "1      3.9  ₹1,499       1499.0        1499.0  \n",
       "2      4.2    ₹849        849.0         849.0  \n",
       "3      4.3    ₹849        849.0         849.0  \n",
       "4      4.6    ₹329        329.0         329.0  \n",
       "..     ...     ...          ...           ...  \n",
       "434    4.1  ₹3,199       3199.0        3199.0  \n",
       "435    3.8    ₹201        201.0         201.0  \n",
       "436    3.8    ₹399        399.0         399.0  \n",
       "437    3.6    ₹325        325.0         325.0  \n",
       "438    3.0    ₹329        329.0         329.0  \n",
       "\n",
       "[439 rows x 7 columns]"
      ]
     },
     "execution_count": 15,
     "metadata": {},
     "output_type": "execute_result"
    }
   ],
   "source": [
    "df['clean_rating'] = df['price'].apply(clean_price_column)\n",
    "df"
   ]
  },
  {
   "cell_type": "code",
   "execution_count": null,
   "metadata": {},
   "outputs": [],
   "source": []
  },
  {
   "cell_type": "code",
   "execution_count": 19,
   "metadata": {},
   "outputs": [
    {
     "ename": "ValueError",
     "evalue": "Mime type rendering requires nbformat>=4.2.0 but it is not installed",
     "output_type": "error",
     "traceback": [
      "\u001b[1;31m---------------------------------------------------------------------------\u001b[0m",
      "\u001b[1;31mValueError\u001b[0m                                Traceback (most recent call last)",
      "File \u001b[1;32mc:\\Users\\LENOVO\\miniconda3\\lib\\site-packages\\IPython\\core\\formatters.py:920\u001b[0m, in \u001b[0;36mIPythonDisplayFormatter.__call__\u001b[1;34m(self, obj)\u001b[0m\n\u001b[0;32m    918\u001b[0m method \u001b[39m=\u001b[39m get_real_method(obj, \u001b[39mself\u001b[39m\u001b[39m.\u001b[39mprint_method)\n\u001b[0;32m    919\u001b[0m \u001b[39mif\u001b[39;00m method \u001b[39mis\u001b[39;00m \u001b[39mnot\u001b[39;00m \u001b[39mNone\u001b[39;00m:\n\u001b[1;32m--> 920\u001b[0m     method()\n\u001b[0;32m    921\u001b[0m     \u001b[39mreturn\u001b[39;00m \u001b[39mTrue\u001b[39;00m\n",
      "File \u001b[1;32mc:\\Users\\LENOVO\\miniconda3\\lib\\site-packages\\plotly\\basedatatypes.py:834\u001b[0m, in \u001b[0;36mBaseFigure._ipython_display_\u001b[1;34m(self)\u001b[0m\n\u001b[0;32m    831\u001b[0m \u001b[39mimport\u001b[39;00m \u001b[39mplotly\u001b[39;00m\u001b[39m.\u001b[39;00m\u001b[39mio\u001b[39;00m \u001b[39mas\u001b[39;00m \u001b[39mpio\u001b[39;00m\n\u001b[0;32m    833\u001b[0m \u001b[39mif\u001b[39;00m pio\u001b[39m.\u001b[39mrenderers\u001b[39m.\u001b[39mrender_on_display \u001b[39mand\u001b[39;00m pio\u001b[39m.\u001b[39mrenderers\u001b[39m.\u001b[39mdefault:\n\u001b[1;32m--> 834\u001b[0m     pio\u001b[39m.\u001b[39;49mshow(\u001b[39mself\u001b[39;49m)\n\u001b[0;32m    835\u001b[0m \u001b[39melse\u001b[39;00m:\n\u001b[0;32m    836\u001b[0m     \u001b[39mprint\u001b[39m(\u001b[39mrepr\u001b[39m(\u001b[39mself\u001b[39m))\n",
      "File \u001b[1;32mc:\\Users\\LENOVO\\miniconda3\\lib\\site-packages\\plotly\\io\\_renderers.py:396\u001b[0m, in \u001b[0;36mshow\u001b[1;34m(fig, renderer, validate, **kwargs)\u001b[0m\n\u001b[0;32m    391\u001b[0m         \u001b[39mraise\u001b[39;00m \u001b[39mValueError\u001b[39;00m(\n\u001b[0;32m    392\u001b[0m             \u001b[39m\"\u001b[39m\u001b[39mMime type rendering requires ipython but it is not installed\u001b[39m\u001b[39m\"\u001b[39m\n\u001b[0;32m    393\u001b[0m         )\n\u001b[0;32m    395\u001b[0m     \u001b[39mif\u001b[39;00m \u001b[39mnot\u001b[39;00m nbformat \u001b[39mor\u001b[39;00m Version(nbformat\u001b[39m.\u001b[39m__version__) \u001b[39m<\u001b[39m Version(\u001b[39m\"\u001b[39m\u001b[39m4.2.0\u001b[39m\u001b[39m\"\u001b[39m):\n\u001b[1;32m--> 396\u001b[0m         \u001b[39mraise\u001b[39;00m \u001b[39mValueError\u001b[39;00m(\n\u001b[0;32m    397\u001b[0m             \u001b[39m\"\u001b[39m\u001b[39mMime type rendering requires nbformat>=4.2.0 but it is not installed\u001b[39m\u001b[39m\"\u001b[39m\n\u001b[0;32m    398\u001b[0m         )\n\u001b[0;32m    400\u001b[0m     ipython_display\u001b[39m.\u001b[39mdisplay(bundle, raw\u001b[39m=\u001b[39m\u001b[39mTrue\u001b[39;00m)\n\u001b[0;32m    402\u001b[0m \u001b[39m# external renderers\u001b[39;00m\n",
      "\u001b[1;31mValueError\u001b[0m: Mime type rendering requires nbformat>=4.2.0 but it is not installed"
     ]
    },
    {
     "data": {
      "application/vnd.plotly.v1+json": {
       "config": {
        "plotlyServerURL": "https://plot.ly"
       },
       "data": [
        {
         "customdata": [
          [
           "Analog Blue Dial Men's Watch-TWHG03SMU10  "
          ],
          [
           "Analog Black Dial Men's Watch-TWTG80SMU04  "
          ],
          [
           "Analog Blue Dial Men's Watch-TWTG80SMU02  "
          ],
          [
           "Analog Silver Dial Men's Watch-TWNTG07SMU04  "
          ],
          [
           "USM ID116 Smart Watch Smart Bracelet Fitness Tracker Color Screen Smartwatch Heart Rate Blood Pressure Pedometer Sleep Monitor  "
          ],
          [
           "boAt Flash Edition Smart Watch with Activity Tracker, Multiple Sports Modes, 1.3\" Screen, 170+ Watch Faces, Sleep Monitor, Gesture, Camera & Music Control, IP68 & 7 Days Battery Life(Lightning Black)  "
          ],
          [
           "boAt Wave Prime47 Smart Watch with 1.69\" HD Display, 700+ Active Modes, ASAP Charge, Live Cricket Scores, Crest App Health Ecosystem, HR & SpO2 Monitoring(Matte Black)  "
          ],
          [
           "Affordable Men's Watch, Men's LED Digital Watch, Watch for Boys & Gents Watches Combo Pack of 2  "
          ],
          [
           "Affordable Men's Watch, Men's LED Digital Watch, Watch for Boys & Gents Watches Combo Pack of 2  "
          ],
          [
           "Analogue Women's Watch (White Dial Rose Gold Colored Strap)  "
          ],
          [
           "Watches for Women Round Studded Dial |Analogue Quartz Movemnet Ladies Watch|Long Battery Life|Stainless Steel Adjustable Bracelet Chain Strap|Double Lock Clasp Safety Watches for Girls  "
          ],
          [
           "Digital Vintage Square Dial Unisex Wrist Watch for Men & Women -W70  "
          ],
          [
           "0024 Gold Dial Metallic Chain Analog Watch for Men and Boys  "
          ],
          [
           "Digital Vintage Square Dial Unisex Wrist Watch for Men & Women -W70  "
          ],
          [
           "Black Dial Blue Strap Analog Watch - for Men-SS-GR6622-BLU-BLU  "
          ],
          [
           "Analog Silvers and Coppers Diamond Combo Watches for Women and Girls  "
          ],
          [
           "boAt Wave Prime47 Smart Watch with 1.69\" HD Display, 700+ Active Modes, ASAP Charge, Live Cricket Scores, Crest App Health Ecosystem, HR & SpO2 Monitoring(Forest Green)  "
          ],
          [
           "Noise ColorFit Pulse Grand Smart Watch with 1.69\"(42.9cm) HD Display, 60 Sports Modes, 150 Watch Faces, Fast Charge, Spo2, Stress, Sleep, Heart Rate Monitoring & IP68 Waterproof (Champagne Grey)  "
          ],
          [
           "Tokdis MX-1 Pro Bluetooth Calling Smartwatch - 1.69” LCD Display, Multiple Watch Faces, Sleep Monitor, Heart & SpO2 Monitoring, Multiple Sports Modes  "
          ],
          [
           "Hammer Ace 3.0 Bluetooth Calling Smart Watch with Largest 1.85\" IPS Display, Dual Mode, Spo2, Heart Rate, Strong Metallic Body & Skin Friendly Strap (Black)  "
          ],
          [
           "SHREENOVA® ID116 Plus Bluetooth Fitness Smart Watch for Men Women and Kids Activity Tracker (Black)  "
          ],
          [
           "Silicone Strap Analog Wrist Watch for Men (Black/Blue/Red) | LD-BK054  "
          ],
          [
           "Digital Sports Multi Functional Black Dial Watch for Mens Boys -315RED  "
          ],
          [
           "Analog Men's Watch  "
          ],
          [
           "Analog Men's Watch  "
          ],
          [
           "Analog Dial Women's Watch (Pink, 6150SM04)-NM6150SM04 / NL6150SM04/NP6150SM04  "
          ],
          [
           "Analog Women's Watch (Pink Dial Silver Colored Strap)  "
          ],
          [
           "Sporty Analog Black Dial Men's Watch-NL7930PP01/NP7930PP01  "
          ],
          [
           "Analog Women's Watch (Dial Colored Strap)  "
          ],
          [
           "Youth Series Digital Black Dial Unisex Watch - F-91W-1Q(D002)  "
          ],
          [
           "Venus Digital Grey Dial Men's Watch-NL7982PP04/NM7982PP04  "
          ],
          [
           "Casual Analog White Dial Men's Watch NM3114PP01/NN3114PP01/NP3114PP01  "
          ],
          [
           "Chronograph Men's Watch (Black Dial)  "
          ],
          [
           "Bouncefit Fitness Band Smart Watch- Y68 D20 Water Proof Smart Watches SpO2 Full Touch Smartwatch with Workout Modes, Heart Rate Tracking, Sports Smart Watch for All Boys & Girls & Women - Jet Black  "
          ],
          [
           "Analog Day Date Functioning Stainless Steel Chain Watch for Men  "
          ],
          [
           "Smart Watch for men women boys 1.3\" OLED HD Display, Multiple watch Faces, SpO2 Monitoring, Sleep Monitor for Boys, Girls, Mens, Women & Kids for all Smartphones (ID 116 Plus Black) (ID116 Black)  "
          ],
          [
           "OnePlus Nord Watch with 1.78” AMOLED Display, 60 Hz Refresh Rate, 105 Fitness Modes, 10 Days Battery, SPO2, Heart Rate, Stress Monitor, Women Health Tracker & Multiple Watch Faces [Deep Blue]  "
          ],
          [
           "Digital 24 Images Projector Watch for Kids Boys Watch, Diwali Gift, Birthday Return Gift, Best Digital Toy Watch for Boy's & Girl's BG-906  "
          ],
          [
           "boAt Flash Edition Smart Watch with Activity Tracker, Multiple Sports Modes, 1.3\" Screen, 170+ Watch Faces, Sleep Monitor, Gesture, Camera & Music Control, IP68 & 7 Days Battery Life(Galaxy Blue)  "
          ],
          [
           "TrendyTap Analog Unisex Child Watch (Red Dial Red Colored Strap)  "
          ],
          [
           "Blue, Black & Silver Dial, Day & Date Functioning, Stainless Steel Strap Analog Watch for Men & Women  "
          ],
          [
           "Mens Chronograph Waterproof Luxury Fashion Military Quartz Sports Analog Wristwatches  "
          ],
          [
           "Analog Men's Watch (Black Dial Colored Strap)  "
          ],
          [
           "Fire-Boltt Gladiator 1.96\" Biggest Display Smart Watch with Bluetooth Calling, Voice Assistant &123 Sports Modes, 8 Unique UI Interactions, SpO2, 24/7 Heart Rate Tracking, Rs 100 Off on UPI  "
          ],
          [
           "VMBS A1 Smart Watch Mobile Inbuild Camera Supporting 4G/5G Sim Smartwatch for Phone  "
          ],
          [
           "Fire-Boltt Gladiator 1.96\" Biggest Display Smart Watch with Bluetooth Calling, Voice Assistant &123 Sports Modes, 8 Unique UI Interactions, SpO2, 24/7 Heart Rate Tracking, Rs 100 Off on UPI  "
          ],
          [
           "Analog Day & Date Display Wrist Watch for Men & Boys (Black)  "
          ],
          [
           "Smart Watch D20 Y68 Smart Watch for Girls Boys Men Women Kids, Blacktooth 1.3\" Smart Watch LED with Daily Activity Tracker, Heart Rate Sensor, for All Boys & Girls SmartWatch- Pink  "
          ],
          [
           "NoiseFit Force Rugged Round Dial Bluetooth Calling Smart Watch with 1.32\" HD screen, Functional Crown, 550 NITS, 7 days battery, AI Voice Assistance, 200+ Watch Faces, Heart Rate Tracker- (Teal Green)  "
          ],
          [
           "Simple Sport Digital Men’s Military Watches Electronic LED Time Black Wrist Watch  "
          ],
          [
           "Analog Men's Watch (Multicolor Dial Multi Colored Strap)  "
          ],
          [
           "Stainless Steel Watch Series Analogue Men's Watch (Black Dial Mens Long Colored Strap) -W219  "
          ],
          [
           "Analog Boy's & Men's Watch (Blue Dial Blue Colored Strap)  "
          ],
          [
           "Analogue - Digital Men's Watch (Black Dial Black Colored Strap)  "
          ],
          [
           "Analog Men's Watch (Brown Dial Brown Colored Strap)  "
          ],
          [
           "Analog Blue Dial Men's Watch-TH1791474  "
          ],
          [
           "Premium Casual Stylish Watch | Luxury Working Chronograph Watch for Men | Water-Resistant Branded Men's Wrist Watch with Stopwatch & Date Display - Timegrapher Red Leather Watch  "
          ],
          [
           "Analogue Multi Color Dial Kids Watch for Boys and Girls - Combo of 2 Watches  "
          ],
          [
           "Analog Grey Dial Unisex-Adult Watch-68011PP08  "
          ],
          [
           "Analog Black Dial Men's Watch-TW000U914  "
          ],
          [
           "SHREENOVA XA Smart Watch for Men & Women Latest Bluetooth 1.3\" LED with Daily Activity Tracker, Heart Rate Sensor,Sports Gym Watch for All Boys & Girls - Black  "
          ],
          [
           "Digital Watch Shockproof Multi-Functional Automatic Black Color Strap Waterproof Digital Sports Watch for Mens Kids Watch for Boys Watch for Men Pack of 1 Watch Water Resistance Digital Watch  "
          ],
          [
           "Smart Watch for Men Women ID116 Plus Smart Bracelet Fitness Tracker Color Screen Smartwatch Heart Rate Blood Pressure Pedometer Sleep Monitor  "
          ],
          [
           "Analogue Black Dial Men's Watch - SS-GR918-BLK-BLK  "
          ],
          [
           "MAGBOT Q9 Smart Watch for Men & Women Latest Bluetooth 1.3\" LED with Daily Activity Tracker, Heart Rate Sensor, BP Monitor, Sports Gym Watch for All Boys & Girls - Black  "
          ],
          [
           "Multi Dial Chronograph Luxury Quartz Analog Watch for Men  "
          ],
          [
           "AYL Waterproof D-20 Touch Screen Smart Watch Bluetooth Smartwatch with Blood Pressure Tracking, Heart Rate Sensor and Basic Functionality for All Women and Girls (Pink)  "
          ],
          [
           "Black Dial Analogue Watch for Men Pack of 1 (FULLBLKPAYDU)  "
          ],
          [
           "Apple Watch Series 8 [GPS 45 mm] Smart Watch w/Midnight Aluminium Case with Midnight Sport Band. Fitness Tracker, Blood Oxygen & ECG Apps, Always-On Retina Display, Water Resistant  "
          ],
          [
           "Analog Men's Watch ( Dial Blue Colored Strap)  "
          ],
          [
           "DIZO Watch D2 Power (by realme TechLife) –Large 1.91\" Superlight, Single Chipset Bluetooth Calling Smartwatch with Smart Swipe,150 +Stylish Watch Faces and 10 Day Battery (Classic Black)  "
          ],
          [
           "Noise ColorFit Pulse Grand Smart Watch with 1.69\"(4.2cm) HD Display, 60 Sports Modes, 150 Watch Faces, Fast Charge, Spo2, Stress, Sleep, Heart Rate Monitoring & IP68 Waterproof (Lime Green)  "
          ],
          [
           "LED Digital Watch Good Looking Black Watch for Boys & Girls (Black Color)  "
          ],
          [
           "pTron Force X12S Bluetooth Calling Smartwatch, 1.85\" Full Touch HD Display, Functional Crown, Real Heart Rate Monitor, SpO2, Watch Faces, 5 Days Battery Life, Fitness Trackers & IP68 Waterproof (Pink)  "
          ],
          [
           "The Watch (Fourteen Tales of Thirteen Covens Book 5)  "
          ],
          [
           "The Classique - Black - Premium & Luxurious Watch for Men  "
          ],
          [
           "The Classique - Green - Premium & Luxurious Watch for Men  "
          ],
          [
           "TrendyTap Analog Unisex Child Watch (Red Dial Red Colored Strap)  "
          ],
          [
           "Mens Chronograph Waterproof Luxury Fashion Military Quartz Sports Analog Wristwatches  "
          ],
          [
           "Analog Day Date Functioning Stainless Steel Chain Watch for Men  "
          ],
          [
           "Brand - A Digital Watch with Square LED Shockproof Multi-Functional Automatic 5 Color Army Strap Waterproof Digital Sports Watch for Men's Kids Watch for Boys - Watch for Men  "
          ],
          [
           "pTron Force X12S Bluetooth Calling Smartwatch, 1.85\" Full Touch HD Display, Functional Crown, Real Heart Rate Monitor, SpO2, Watch Faces, 5 Days Battery Life, Fitness Trackers & IP68 Waterproof (Pink)  "
          ],
          [
           "Quartz Movement Analogue Display Multicoloured Dial Men's Watch (Green Dial Green Colored Strap)-Army  "
          ],
          [
           "New Edition i7 Pro Max All in One Series 7 Smart Watch with Fitness Tracker Heart Monitor Men Women Smart Watch Black  "
          ],
          [
           "Noise ColorFit Ultra Buzz Bluetooth Calling Smart Watch with 1.75\" HD Display, 320x385 px Resolution, 100 Sports Modes, Stock Market Info Smartwatch for Men & Women (Champagne Grey)  "
          ],
          [
           "LED Digital Watch Good Looking Black Watch for Boys & Girls (Black Color)  "
          ],
          [
           "OLICOM M1 Smart Watch Id-116 Bluetooth Smartwatch Wireless Fitness Band for Boys, Girls, Men, Women & Kids | Sports Gym Watch for All Smart Phones I Heart Rate and spo2 Monitor  "
          ],
          [
           "Wrist Watches for Men Leather Strap Analog Chronograph Fashion Business Sport Design Mens Watch 30M Waterproof Stylish Elegant Gifts for Men  "
          ],
          [
           "AYL Smart Watch New Generation for You ID116 Touchscreen Android Smart Watch Bluetooth Smartwatch with Heart Rate Sensor and Basic Functionality for All Women, Men, Boys & Girls - Black  "
          ],
          [
           "Men's Military Digital Watches Analog Quartz Waterproof Watch Sport Multifunctional Leather Wristwatch  "
          ],
          [
           "i8 Pro Max Touch Screen Bluetooth Smartwatch with Activity Tracker Compatible with All 3G/4G/5G Android & iOS Smartphones - Black  "
          ],
          [
           "Unisex Elegant Plane Style Digital Display Waterproof Outdoor Sports Silicone Strap LED Wrist Watch ( black )  "
          ],
          [
           "Waterproof D20 Touchscreen Smart Watch Bluetooth Smartwatch with Blood Pressure Tracking, Heart Rate Sensor and Basic Functionality for All Women and Men  "
          ],
          [
           "Analogue Multi Color Dial Kids Watch for Boys & Girls  "
          ],
          [
           "Fire-Boltt Ninja 3 1.83\" Display Smartwatch Full Touch with 100+ Sports Modes with IP68, Sp02 Tracking, Over 100 Cloud Based Watch Faces  "
          ],
          [
           "Fire-Boltt Ninja Call Pro Plus 1.83\" Smart Watch with Bluetooth Calling, AI Voice Assistance, 100 Sports Modes IP67 Rating, 240 * 280 Pixel High Resolution  "
          ],
          [
           "Analog-Digital Men's Watch (Black Dial Black Colored Strap)  "
          ],
          [
           "Analog Men's Watch (Black Dial Colored Strap)  "
          ],
          [
           "Analog Men's Watch (Dial Colored Strap)  "
          ],
          [
           "Blue, Black & Silver Dial, Day & Date Functioning, Stainless Steel Strap Analog Watch for Men & Women  "
          ],
          [
           "Analog Men's Watch (Dial Colored Strap)  "
          ],
          [
           "Noise ColorFit Pulse Grand Smart Watch with 1.69\"(4.2cm) HD Display, 60 Sports Modes, 150 Watch Faces, Fast Charge, Spo2, Stress, Sleep, Heart Rate Monitoring & IP68 Waterproof (Lime Green)  "
          ],
          [
           "Analog Boy's & Men's Watch (Brown Dial Colored Strap)  "
          ],
          [
           "Smart Watch D20 Y68 Smart Watch for Girls Boys Men Women Kids, Blacktooth 1.3\" Smart Watch LED with Daily Activity Tracker, Heart Rate Sensor, for All Boys & Girls SmartWatch- Pink  "
          ],
          [
           "Analog Watches for Men  "
          ],
          [
           "Volt+ Analog Black Dial Men's Watch NM77086PL01 / NL77086PL01/NP77086PL01W  "
          ],
          [
           "Analog Black Dial Men's Watch-TW000U934  "
          ],
          [
           "Analogue White Dial Spiderman Boy's, Girl's Watch (Red)  "
          ],
          [
           "New Fastrack Reflex Beat+ 1.69” UltraVU Display|500 Nits Brightness|60 Sports Modes|24*7 Heart Rate Monitor|SpO2 Monitor|Sleep Tracker|IP68 Water Resistant|Music & Camera Control  "
          ],
          [
           "Fire-Boltt Ninja Call Pro Plus 1.83\" Smart Watch with Bluetooth Calling, AI Voice Assistance, 100 Sports Modes IP67 Rating, 240 * 280 Pixel High Resolution  "
          ],
          [
           "Special Super Quality Analog Watches Combo Look Like Handsome for Boys and Mens Pack of - 3(STL-437-436)  "
          ],
          [
           "Talk S with 1.78\" AMOLED Display|Advanced BT Calling|Music Storage with Wireless Audio Connect|100+ Sports Modes|Animated Watchfaces|5 Days Battery|IP68 Water Resistant|Stress & Mood Monitor  "
          ],
          [
           "Fitbit FB507BKBK Versa 2 Health & Fitness Smartwatch with Heart Rate, Music, Alexa Built-in, Sleep & Swim Tracking, Black/Carbon, One Size (S & L Bands Included) (Black/Carbon)  "
          ],
          [
           "Venus Digital Grey Dial Men's Watch-NL7982PP02  "
          ],
          [
           "boAt Wave Lite Smartwatch with 1.69 Inches(4.29cm) HD Display, Heart Rate & SpO2 Level Monitor, Multiple Watch Faces, Activity Tracker, Multiple Sports Modes & IP68 (Scarlet Red)  "
          ],
          [
           "Gold Dial Day n Date Display Analog Wrist Watch HM-GR095-GLD-SLV  "
          ],
          [
           "boAt Matrix Smart Watch with 1.65” AMOLED Display, Always On Mode, Slim Premium Design, Heart Rate & SpO2 Monitoring, Health Ecosystem & Multiple Sports Modes, 3ATM & 7 Days Battery Life(Pitch Black)  "
          ],
          [
           "Analog Unique Arrow Black Silicon Strap Watch for Men and Boys  "
          ],
          [
           "Smart Watch for Men Women ID116 Plus Smart Bracelet Fitness Tracker Color Screen Smartwatch Heart Rate Blood Pressure Pedometer Sleep Monitor  "
          ],
          [
           "Analogue Silver Dial Day and Date Men's Boy's Watch - Dexter0507  "
          ],
          [
           "Analog Silver Dial Men's Watch-NL1584SL03/NP1584SL03  "
          ],
          [
           "Chronograph Men's Watch (Black Dial)  "
          ],
          [
           "Hammer Pulse Ace Pro Bluetooth Calling Smartwatch with SpO2 & 1.81” Aluminium Alloy Body with Blood Oxygen Monitoring, Heart Rate, Full Touch & Multiple Watch Faces with Customization (Black)  "
          ],
          [
           "Digital Dial Men's & Women's Watch(AB206-VSD)  "
          ],
          [
           "Fire-Boltt Ring Bluetooth Calling Smartwatch with SpO2 & 1.7” Metal Body with Blood Oxygen Monitoring, Continuous Heart Rate, Full Touch & Multiple Watch Faces (Grey)  "
          ],
          [
           "Noise Pulse Go Buzz Smart Watch with Advanced Bluetooth Calling, 1.69\" Display, 150+ Cloud Watch Face, SPo2, Heart Rate Tracking, 100 Sports Mode with Auto Detection, Longer Battery (Midnight Blue)  "
          ],
          [
           "Men's Digital Sports Watch, LED Square Large Face Analog Quartz Wrist Watch with Multi-Time Zone Waterproof Stopwatch - 1834/1835  "
          ],
          [
           "Fire-Boltt Ninja 3 Smartwatch Full Touch 1.69 \" & 60 Sports Modes with IP68, Sp02 Tracking, Over 100 Cloud based watch faces ( Green )  "
          ],
          [
           "Fire-Boltt Gladiator 1.96\" Biggest Display Smart Watch with Bluetooth Calling, Voice Assistant &123 Sports Modes, 8 Unique UI Interactions, SpO2, 24/7 Heart Rate Tracking, Rs 100 Off on UPI  "
          ],
          [
           "Analog Men's Watch (Black Dial Black Colored Strap)  "
          ],
          [
           "Nate Chronograph Black Dial Men's Watch-JR1401  "
          ],
          [
           "Fastrack Reflex Hello Smart Watch with BT Calling|Bright HD Display|AI Voice Assistant|50+ Sports Modes|100+ Watchfaces|BP Monitor|24x7 HRM| SpO2|Upto 5 Day Battery|Camera & Music Control|IP68  "
          ],
          [
           "9951 Pure Black Chain Day & Date Wrist Watch Original Black Watch Analog Watch - for Men  "
          ],
          [
           "Black, Blue, White Dial, Day & Date Functioning, Stainless Steel Strap Analog Watch for Men & Women  "
          ],
          [
           "Men's Analog Number Dial Brown Leather Strap Watch  "
          ],
          [
           "Analog Minute Track Dial Stainless Steel Chain Watch for Men  "
          ],
          [
           "Antique Day & Date Leather Strap Analog Watch for Men & Boys  "
          ],
          [
           "Mens Chronograph Waterproof Luxury Fashion Military Quartz Sports Analog Wristwatches  "
          ],
          [
           "TrendyTap Analog Unisex Child Watch (Red Dial Red Colored Strap)  "
          ],
          [
           "Analog Day Date Functioning Stainless Steel Chain Watch for Men  "
          ],
          [
           "Acnos Brand 3 Color Watch with Black PU Strap Watch M2 Digital for Mens and Watches for Boy Pack of-2  "
          ],
          [
           "Analog Black Dial Men's Watch-TW000U934  "
          ],
          [
           "Unisex 44mm Master Chief Silicone Sport Digital Watch, Color: White (Model: DZ2157), White, One Size, Master Chief Digital Silicone Watch - DZ2157  "
          ],
          [
           "Analog Black Dial Men's Watch-NG38022PP03W / NG38022PP03C  "
          ],
          [
           "The Watch (Red Book 1)  "
          ],
          [
           "Noise ColorFit Ultra Buzz Bluetooth Calling Smart Watch with 1.75\" HD Display, 320x385 px Resolution, 100 Sports Modes, Stock Market Info Smartwatch for Men & Women (Champagne Grey)  "
          ],
          [
           "Men's Precisionist X 10th Anniversary Rose Gold Stainless Steel and Demascus Steel 8-Hand Chronograph Watch with Brown Leather Strap and Sapphire Crystal Style: 98B356  "
          ],
          [
           "Waterproof D20 Touchscreen Smart Watch Bluetooth Smartwatch with Blood Pressure Tracking, Heart Rate Sensor and Basic Functionality for All Women and Men  "
          ],
          [
           "Men's Digital Sports Watch, Waterproof LED Screen Large Face Military Watches and Heavy Duty Electronic Simple Army Watch with Alarm - 1820  "
          ],
          [
           "i8 Pro Max Touch Screen Bluetooth Smartwatch with Activity Tracker Compatible with All 3G/4G/5G Android & iOS Smartphones - Black  "
          ],
          [
           "Apple Watch SE (2nd Gen) [GPS 40 mm] Smart Watch w/Midnight Aluminium Case & Midnight Sport Band. Fitness & Sleep Tracker, Crash Detection, Heart Rate Monitor, Retina Display, Water Resistant  "
          ],
          [
           "Analog Watches for Men  "
          ],
          [
           "Super Fibre Digital Grey Dial Men's Watch-NL87011PP04/NP87011PP04  "
          ],
          [
           "Beyond Gold Analog Black Dial Men's Watch-NN77031KM03/NP77031KM03  "
          ],
          [
           "Luxury Analogue Girl's Watch(Multicolour Dial 1-Multicolour Colored Strap)  "
          ],
          [
           "Analog Men's Watch (Black Dial Colored Strap)  "
          ],
          [
           "Brand - A Digital Watch with Square LED Shockproof Multi-Functional Automatic 5 Color Army Strap Waterproof Digital Sports Watch for Men's Kids Watch for Boys - Watch for Men  "
          ],
          [
           "Digital Men's Watch (Black Dial Multi Colored Strap)  "
          ],
          [
           "Goldenize Fashion Multicolor Digital Dial Waterproof Stylish and Fashion Child Wrist Smart Watch LED Band for Kids,Colorful 3D Cartoon Super Hero for Kids,Boys & Girls (Pink Mouse-White Doremon)  "
          ],
          [
           "Redmi Watch 2 Lite - 3.94 cm Large HD Edge Display, Multi-System Standalone GPS, Continuous SpO2, Stress & Sleep Monitoring, 24x7 HR, 5ATM, 120+ Watch Faces, 100+ Sports Modes, Women's Health, Blue  "
          ],
          [
           "MARVIK Smart Watch D116 for Xiaomi Mi Note 9 Smart Watch Bluetooth SmartWatch with Activity Tracker, Heart Rate Sensor, Sleep Monitor and Basic Functionality for All Boys & Girls  "
          ],
          [
           "Analogue Watch for Men and Boys  "
          ],
          [
           "CrossBeats Newly launched Ignite S5 Advanced AI ENC BT Calling Smartwatch, 1.96” Super AMOLED Anti-Glare Screen, Always on Display, SnapCharge™ Calculator, 500+ Watch Faces, AI Health Feature (Black)  "
          ],
          [
           "Analog Rose Gold Dial Women's Watch-NM6147NM01 / NL6147NL01/NP6147NM01  "
          ],
          [
           "Sporty Digital Grey Dial Men's Watch-NL77043PP02/NP77043PP02  "
          ],
          [
           "Unisex Swiss True High Tech Analogue Ceramic Watch (White)  "
          ],
          [
           "Edifice Analog Red Dial Men's Watch-EFR-526D-5CVUDF  "
          ],
          [
           "CYLECT Smart Watch for Men women - Smart Watches for Men Women, Bluetooth Smartwatch Touch Screen Bluetooth Smart Watches for Android iOS Phones Wrist Phone Watch, Women - pink  "
          ],
          [
           "Artistic Love Symbol Butterfly Red Analog Watch for Girls and Women Watch - for Girls  "
          ],
          [
           "Dean Chronograph Black Dial Men's Watch-FS4721  "
          ],
          [
           "Casual Analogue Women Watch (Blue Dial Silver Colored Chain)  "
          ],
          [
           "Analog-Digital Men's Watch (Black Dial)  "
          ],
          [
           "SENS NUTON 1 with 1.7 IPS Display, Orbiter, 5ATM & 150+ Watch Faces & Free Additional Strap (Royal Silver)  "
          ],
          [
           "Analog Grey Dial Unisex-Adult Watch-68013PP10  "
          ],
          [
           "PTron Newly Launched Force X11P Bluetooth Calling Smartwatch with 1.3\" Full Touch Display, Heart Rate Tracking, SpO2, 100s of Watch Faces, 5 Days Runtime, Fitness Trackers & IP68 Waterproof (Black)  "
          ],
          [
           "Reflex Vox Smartwatch|Alexa Built-in|Bright HD Display|Upto 10 Days Battery|5 ATM Water Resistance|Multiple Sports Modes|100+ Watchfaces|24x7 HRM|Sp02|Stress Monitor|Camera & Music Control  "
          ],
          [
           "Watches for Women Stainless Steel Chain & Diamond Studded Dial Ladies Watch - Water Resistant Womens Watches  "
          ],
          [
           "Diamond Studded Stylish Analogue Watch with Rose Gold Dot Bracelet for Girls & Women  "
          ],
          [
           "Fitbit FB507BKBK Versa 2 Health & Fitness Smartwatch with Heart Rate, Music, Alexa Built-in, Sleep & Swim Tracking, Black/Carbon, One Size (S & L Bands Included) (Black/Carbon)  "
          ],
          [
           "Outerbanks Analog Black Dial Men's Watch-AX2520  "
          ],
          [
           "Newly Launched Maxima Max Pro Knight Bluetooth Calling smartwatch with 44.5mm Round Active Display of 550 Nits Brightness, Voice Assistant, HR & SpO2 Monitor,30+ Excercise Modes, inbuilt Games  "
          ],
          [
           "Analog Purple Dial Unisex-Adult Watch-9915PP97  "
          ],
          [
           "Analog White Dial Men's Watch-TW000U933  "
          ],
          [
           "Analog Silver Dial Men's Watch-7142NL01  "
          ],
          [
           "Fire-Boltt Ring Bluetooth Calling Smartwatch with SpO2 & 1.7” Metal Body with Blood Oxygen Monitoring, Continuous Heart Rate, Full Touch & Multiple Watch Faces (Blue)  "
          ],
          [
           "Outdoor Sport Shockproof Led Analogue and Digital Waterproof Chronograph Watch for Men  "
          ],
          [
           "Analog Silver Dial Men's Watch-FS4991  "
          ],
          [
           "Venus Digital Grey Dial Men's Watch-NL7982PP01/NM7982PP01  "
          ],
          [
           "Edifice Men's Tachymeter Chronograph EF-558SG-1AVDF (ED439)  "
          ],
          [
           "Economy Digital Multi-color Round Dial Men's Sport Watch-NN77006PP01/NP77006PP01  "
          ],
          [
           "Men's Analog Number Dial Brown Leather Strap Watch  "
          ],
          [
           "Multi-Functional Boys Casual Business Mens Luxury Stylish Watch Black Dial Leather Strap Wrist Watches for Men-Daily Use Analog Digital Sports Men's Watch  "
          ],
          [
           "Black Dial Arrow Analog Watch with King Bracelet for Men (Pack of 2)  "
          ],
          [
           "Black, Blue, White Dial, Day & Date Functioning, Stainless Steel Strap Analog Watch for Men & Women  "
          ],
          [
           "Mens Chronograph Waterproof Luxury Fashion Military Quartz Sports Analog Wristwatches  "
          ],
          [
           "TrendyTap Analog Unisex Child Watch (Red Dial Red Colored Strap)  "
          ],
          [
           "Analog Day Date Functioning Stainless Steel Chain Watch for Men  "
          ],
          [
           "Brand - A Digital Watch with Square LED Shockproof Multi-Functional Automatic 5 Color Army Strap Waterproof Digital Sports Watch for Men's Kids Watch for Boys - Watch for Men  "
          ],
          [
           "Venus Digital Grey Dial Men's Watch-NL7982PP01/NM7982PP01  "
          ],
          [
           "Edifice Men's Tachymeter Chronograph EF-558SG-1AVDF (ED439)  "
          ],
          [
           "Edifice Analog Red Dial Men's Watch-EFR-526D-5CVUDF  "
          ],
          [
           "IMOO Watch Phone Z1 Kids Smart Watch, 4G Kids Smartwatch Phone with Long-Lasting Video & Phone Call, Kids GPS Watch with Real-time Locating & IPX8 Water-Resistance (Pink)  "
          ],
          [
           "Artistic Love Symbol Butterfly Red Analog Watch for Girls and Women Watch - for Girls  "
          ],
          [
           "Noise ColorFit Pro 4 Max 1.8\" Biggest Display, Bluetooth Calling Smart Watch, Built.in Alexa, 100 Sports Modes, Detection, Health & Productivity Suite (Jet Black)  "
          ],
          [
           "Watch: A Novel  "
          ],
          [
           "Apple Watch Series 8 [GPS 41 mm] Smart Watch w/Midnight Aluminium Case with Midnight Sport Band. Fitness Tracker, Blood Oxygen & ECG Apps, Always-On Retina Display, Water Resistant  "
          ],
          [
           "Analog Dial Women's Watch  "
          ],
          [
           "Analog Blue Dial Women's Watch-NL2574SM01/NP2574SM01  "
          ],
          [
           "MARVIK Smart Watch D116 for Xiaomi Mi Note 10 Smart Watch LED with Activity Tracker, Heart Rate Sensor, Sleep Monitor and Basic Functionality for All Boys Girls  "
          ],
          [
           "Analog-Digital Men's Watch (Black Dial)  "
          ],
          [
           "APCSA Smart Watch for Men & Women Latest Bluetooth 1.3\" LED with Daily Activity Tracker, Heart Rate Sensor, BP Monitor, Sports Gym Watch for All Boys & Girls - Pink  "
          ],
          [
           "Analog Grey Dial Unisex-Adult Watch-68013PP10  "
          ],
          [
           "Fashion Digital Men's & Boy's Watch (Black Dial, Green Colored Strap)  "
          ],
          [
           "Watches for Women Stainless Steel Chain & Diamond Studded Dial Ladies Watch - Water Resistant Womens Watches  "
          ],
          [
           "Analog Men's Watch (Black Dial Colored Strap)  "
          ],
          [
           "Analog Men's Watch (Dial Colored Strap)  "
          ],
          [
           "Black, Blue, White Dial, Day & Date Functioning, Stainless Steel Strap Analog Watch for Men & Women  "
          ],
          [
           "Analog Minute Track Dial Stainless Steel Chain Watch for Men  "
          ],
          [
           "Boult Dive+ with 1.85\" HD Display, Bluetooth Calling Smartwatch, 500 Nits Brightness, 7 Days Battery Life, 150+ Watch Faces, 100+ Sport Modes, IP68 Waterproof Smart Watch (Jet Black)  "
          ],
          [
           "Outerbanks Analog Black Dial Men's Watch-AX2520  "
          ],
          [
           "Fundamentals Analog Brown Dial Men's Watch-NL38051SL02  "
          ],
          [
           "Women's Watches Ladies Fashion Analogue Simple Style Watches Rose Gold Dial Alloy Strap Waterproof Watches for Watches Wife Miss Women with Birthday Gift  "
          ],
          [
           "TW000R425  "
          ],
          [
           "Fire-Boltt Ninja Call Pro Plus 1.83\" Smart Watch with Bluetooth Calling, AI Voice Assistance, 100 Sports Modes IP67 Rating, 240 * 280 Pixel High Resolution  "
          ],
          [
           "Analog Purple Dial Unisex-Adult Watch-9915PP97  "
          ],
          [
           "Apple Watch SE (2nd Gen) [GPS 44 mm] Smart Watch w/Starlight Aluminium Case & Starlight Sport Band. Fitness & Sleep Tracker, Crash Detection, Heart Rate Monitor, Retina Display, Water Resistant  "
          ],
          [
           "Analog Silver Dial Men's Watch-7142NL01  "
          ],
          [
           "Casual Analog Silver Dial Men's Watch-NL3123SM02/NP3123SM02  "
          ],
          [
           "Hip Hop Analog White Dial Women's Watch-NL9827PP01/NP9827PP01  "
          ],
          [
           "All Black Mesh Black Strap Day & Date Functioning Watch for Boys Analog Watch Analog-Digital Watch - for Men  "
          ],
          [
           "Essentials Analog White Dial Men's Watch NM77083SM01 / NL77083SM01  "
          ],
          [
           "Analog Champagne Dial Women's Watch-NL87018YM01/NP87018YM01  "
          ],
          [
           "Analog Silver Dial Men's Watch-FS4991  "
          ],
          [
           "Analog Black Dial Men's Watch NM7987YL03W/NN7987YL03W  "
          ],
          [
           "Analog White Dial Men's Watch-7135SL03/NP7135SL03  "
          ],
          [
           "Economy Digital Multi-color Round Dial Men's Sport Watch-NN77006PP01/NP77006PP01  "
          ],
          [
           "Analog Gold Dial Men's Watch NM7987YL01W/NN7987YL01W/NP7987YL01W  "
          ],
          [
           "Enticer Men Analog Black Dial Watch-A1821  "
          ],
          [
           "Chronograph Men's Watch (Black Dial)  "
          ],
          [
           "Ladies Neo-Ii Analog Black Dial Women's Watch-NL2480SM08  "
          ],
          [
           "Digital Boy's & Men's Watch (Multicolour Dial Multi Colored Strap)  "
          ],
          [
           "Ladies Neo-Ii Analog Blue Dial Women's Watch-NL2569SM01  "
          ],
          [
           "Phile Black Dial NATO Watch  "
          ],
          [
           "Timex Metalfit SPO2 smartwatch with Full Metal Body and Touch to Wake Feature, HRM, Sleep & Activity Tracker  "
          ],
          [
           "Analog Dial Women's Watch  "
          ],
          [
           "Zebronics DRIP Smart Watch with Bluetooth Calling, 4.3cm (1.69\"), 10 built-in & 100+ Watch Faces, 100+ Sport Modes, 4 built-in Games, Voice Assistant, 8 Menu UI, Fitness Health & Sleep Tracker (Black)  "
          ],
          [
           "Analog Brown Dial Men's Watch-NL1584SL04/NP1584SL04  "
          ],
          [
           "Neo Analog White Dial Men's Watch-NN1805SL04  "
          ],
          [
           "Essentials Analog White Dial Women's Watch-NM87020SL01W / NL87020SL01W/NP87020SL01W  "
          ],
          [
           "Fundamentals Analog Blue Dial Women's Watch-NL68010SM02/NP68010SM02  "
          ],
          [
           "Men's Analog Number Dial Brown Leather Strap Watch  "
          ],
          [
           "Analog Men's Watch (Dial Colored Strap)  "
          ],
          [
           "Digital Watch Shockproof Multi-Functional Automatic Black Color Strap Waterproof Digital Sports Watch for Men's Kids Watch for Boys Watch for Men Pack of 1 Watch Water Resistance Digital Watch  "
          ],
          [
           "Analog Men's Watch (Dial Colored Strap)  "
          ],
          [
           "Mens Chronograph Waterproof Luxury Fashion Military Quartz Sports Analog Wristwatches  "
          ],
          [
           "Analog Day Date Functioning Stainless Steel Chain Watch for Men  "
          ],
          [
           "TrendyTap Analog Unisex Child Watch (Red Dial Red Colored Strap)  "
          ],
          [
           "Analog Men's Watch (Black Dial Colored Strap)  "
          ],
          [
           "Essentials Analog White Dial Women's Watch-NM87020SL01W / NL87020SL01W/NP87020SL01W  "
          ],
          [
           "Men's Digital Sports Wrist Watch LED Screen Large Face Electronics Military Watches Waterproof Alarm Stopwatch Back Light Outdoor Casual Black Watch - 1818  "
          ],
          [
           "CrossBeats Spectra max Super Retina AMOLED Always on Display Smart Watch, 1.81 Inch 368 * 448 Resolution Smartwatch, AI ENC BT Calling, Crown Controls, 250+ Watch Faces, 150+ Sports Modes-Blue  "
          ],
          [
           "Digital Grey Dial Men's Watch-NL77072PP02/NP77072PP02  "
          ],
          [
           "Analog-Digital Men's Watch (Black Dial)  "
          ],
          [
           "Pebble Cosmos Endure 1.46\" AMOLED Always-On Display Bluetooth Calling IP68 Waterproof Smartwatch 466 * 466 (Glacier Blue)  "
          ],
          [
           "Analog Grey Dial Unisex-Adult Watch-68013PP10  "
          ],
          [
           "Edifice Analog Black Dial Men's Watch - EF-130D-1A2VDF(ED417)  "
          ],
          [
           "Watches for Women Stainless Steel Chain & Diamond Studded Dial Ladies Watch - Water Resistant Womens Watches  "
          ],
          [
           "Analog Silver Dial Men's Watch-NL1584SL03/NP1584SL03  "
          ],
          [
           "The Watch  "
          ],
          [
           "Outerbanks Analog Black Dial Men's Watch-AX2520  "
          ],
          [
           "Analog Silver Dial Men's Watch-MTP-VT01L-7B2UDF (A1618)  "
          ],
          [
           "Women's Watches Ladies Fashion Analogue Simple Style Watches Rose Gold Dial Alloy Strap Waterproof Watches for Watches Wife Miss Women with Birthday Gift  "
          ],
          [
           "Mobivax smartwatches id116 Fit Watch for Man Women: Android iOS Sleep Heart Rate Blood Oxygen Weather Breath Training IP68 Waterproof 8 Sports 1.69Inch  "
          ],
          [
           "Analog Purple Dial Unisex-Adult Watch-9915PP97  "
          ],
          [
           "Brand - A Digital Watch with Square LED Shockproof Multi-Functional Automatic 5 Color Army Strap Waterproof Digital Sports Watch for Men's Kids Watch for Boys - Watch for Men  "
          ],
          [
           "Analog Men's Watch (Dial Colored Strap)  "
          ],
          [
           "Black, Blue, White Dial, Day & Date Functioning, Stainless Steel Strap Analog Watch for Men & Women  "
          ],
          [
           "Analog Men's Watch (Dial Colored Strap)  "
          ],
          [
           "SENS NUTON 1 with 1.7 IPS Display, Orbiter, 5ATM & 150+ Watch Faces & Free Additional Strap (Matte Black)  "
          ],
          [
           "Analogue Women's Watch (Blue Dial Silver Colored Strap)  "
          ],
          [
           "Black Round Diamond Dial with Latest Generation Purple & Rosegold Magnet Belt Analogue Watch for Women Pack of - 2 (DM-PURPLE-ROSEGOLD05)  "
          ],
          [
           "Analog Gold Dial Children's Watch NKC4032PP01W / NKC4032PP01W  "
          ],
          [
           "Analog Silver Dial Men's Watch-7142NL01  "
          ],
          [
           "Analog Men's Watch  "
          ],
          [
           "Fire-Boltt Gladiator 1.96\" Biggest Display Smart Watch with Bluetooth Calling, Voice Assistant &123 Sports Modes, 8 Unique UI Interactions, SpO2, 24/7 Heart Rate Tracking, Rs 100 Off on UPI  "
          ],
          [
           "Economy Analog Green Dial Men's Watch-NL77007PP01  "
          ],
          [
           "New Fastrack Reflex Beat+ 1.69” UltraVU Display|500 Nits Brightness|60 Sports Modes|24*7 Heart Rate Monitor|SpO2 Monitor|Sleep Tracker|IP68 Water Resistant|Music & Camera Control  "
          ],
          [
           "Leather World Vegan Leather 4 Slot Watch Case Box for Men and Women (Beige)  "
          ],
          [
           "Analog White Dial Men's Watch NM7987YM05W/NN7987YM05W/NP7987YM05W  "
          ],
          [
           "All Black Mesh Black Strap Day & Date Functioning Watch for Boys Analog Watch Analog-Digital Watch - for Men  "
          ],
          [
           "Premium Analogue Women Watch (Golden Dial Golden Colored Chain)  "
          ],
          [
           "Analog Silver Dial Men's Watch-FS4991  "
          ],
          [
           "Analog Black Dial Men's Watch NM7987SM04W/NN7987SM04W/NP7987SM04W  "
          ],
          [
           "Classics Analog Silver Dial Men's Watch-G910  "
          ],
          [
           "Economy Digital Multi-color Round Dial Men's Sport Watch-NN77006PP01/NP77006PP01  "
          ],
          [
           "Boatstorm (2022) Watch Charger Magnetic 2 pin USB All Types smartwatch (Smart Watch Charger for 2 Pin)  "
          ],
          [
           "Analog Grey Dial Men's Watch-MK8576  "
          ],
          [
           "Analog Blue Dial Women's Watch-TW000X215  "
          ],
          [
           "Fire-Boltt Ninja Call Pro Plus 1.83\" Smart Watch with Bluetooth Calling, AI Voice Assistance, 100 Sports Modes IP67 Rating, 240 * 280 Pixel High Resolution  "
          ],
          [
           "NOVA Skeleton Automatic Watch Mechanical Wrist Watch for Men Bezel Screw Design Silicone Band Self-Wind Business Watch for Men  "
          ],
          [
           "Analog White Dial Women's Watch NM8976YL02W / NL8976YL02W  "
          ],
          [
           "Essentials Analog Silver Dial Men's Watch NM77082SL01W/NN77082SL01W  "
          ],
          [
           "Stylish and Fashionable Waterproof LED Square Dial Watch for Boys and Girls  "
          ],
          [
           "Samsung Galaxy Watch4 LTE (4.4 cm, Black, Compatible with Android only)  "
          ],
          [
           "Fire-Boltt Ninja 3 1.83\" Display Smartwatch Full Touch with 100+ Sports Modes with IP68, Sp02 Tracking, Over 100 Cloud Based Watch Faces  "
          ],
          [
           "Enticer Men Analog Black Dial Watch-A1821  "
          ],
          [
           "Chronograph Men's Watch (Black Dial)  "
          ],
          [
           "Apple Watch Series 8 [GPS + Cellular 45 mm] Smart Watch w/Gold Stainless Steel Case with Gold Milanese Loop. Fitness Tracker, Blood Oxygen & ECG Apps, Always- On Retina Display, Water Resistant  "
          ],
          [
           "Fire-Boltt Ninja 3 Smartwatch Full Touch 1.69 \" & 60 Sports Modes with IP68, Sp02 Tracking, Over 100 Cloud based watch faces ( Green )  "
          ],
          [
           "Men's Analog Number Dial Brown Leather Strap Watch  "
          ],
          [
           "Analog Minute Track Dial Stainless Steel Chain Watch for Men  "
          ],
          [
           "Analog Men's Watch (Dial Colored Strap)  "
          ],
          [
           "Antique Day & Date Leather Strap Analog Watch for Men & Boys  "
          ],
          [
           "Mens Chronograph Waterproof Luxury Fashion Military Quartz Sports Analog Wristwatches  "
          ],
          [
           "Analog Day Date Functioning Stainless Steel Chain Watch for Men  "
          ],
          [
           "TrendyTap Analog Unisex Child Watch (Red Dial Red Colored Strap)  "
          ],
          [
           "Analog Men's Watch (Black Dial Colored Strap)  "
          ],
          [
           "Women's Watches Ladies Fashion Analogue Simple Style Watches Rose Gold Dial Alloy Strap Waterproof Watches for Watches Wife Miss Women with Birthday Gift  "
          ],
          [
           "Fire-Boltt Ninja 3 Smartwatch Full Touch 1.69 \" & 60 Sports Modes with IP68, Sp02 Tracking, Over 100 Cloud based watch faces ( Green )  "
          ],
          [
           "Volt+ Analog Black Dial Men's Watch NM77086PL01 / NL77086PL01/NP77086PL01W  "
          ],
          [
           "Analog Purple Dial Unisex-Adult Watch-9915PP97  "
          ],
          [
           "Maxima New Samurai Smartwatch 1.85\", 1st Time Call Accept Feature, Hindi Language Support, 600Nits Brightness, Longer Battery, in-App GPS,100+ Watch Faces, Multisport Modes,HR/SpO2 (Gold Peach)  "
          ],
          [
           "Analog OffWhite Dial Men's Watch NM1712YM02 / NL1712YM02  "
          ],
          [
           "Analog Silver Dial Men's Watch-7142NL01  "
          ],
          [
           "Analog White Dial Men's Watch-NL77049SM02/NP77049SM02  "
          ],
          [
           "Analog Black Dial Men's Watch-TW000U913  "
          ],
          [
           "Analog Multicolor Small Dial Men's Watch -NM7987SL01W / NL7987SL01W  "
          ],
          [
           "Apple Watch Series 8 [GPS + Cellular 45 mm] Smart Watch w/Gold Stainless Steel Case with Gold Milanese Loop. Fitness Tracker, Blood Oxygen & ECG Apps, Always- On Retina Display, Water Resistant  "
          ],
          [
           "Analogue Unisex Couple Combo Watch for Men & Women (Brown Dial & Colored Strap) -W246-236BR  "
          ],
          [
           "Analog-Digital Black Dial Men's Watch-NL38035SL03/NP38035SL03  "
          ],
          [
           "(Renewed) boAt Wave Call Smart Watch, Smart Talk with Bluetooth Calling Chip, 1.69 HD Display with 550 NITS & 70% Color Gamut, 150+ Watch Faces, Multi-Sport Modes,HR,SpO2, IP68(Active Black)  "
          ],
          [
           "Economy Analog Green Dial Men's Watch-NL77007PP01  "
          ],
          [
           "Neo Analog Silver Dial Men's Watch-NN1733KM03  "
          ],
          [
           "Analog Men's Watch (Dial Colored Strap)  "
          ],
          [
           "Analog Men's Watch (Dial Colored Strap)  "
          ],
          [
           "Brand - A Digital Watch with Square LED Shockproof Multi-Functional Automatic 5 Color Army Strap Waterproof Digital Sports Watch for Men's Kids Watch for Boys - Watch for Men  "
          ],
          [
           "Analog Minute Track Dial Stainless Steel Chain Watch for Men  "
          ],
          [
           "Leather World Vegan Leather 4 Slot Watch Case Box for Men and Women (Beige)  "
          ],
          [
           "Enticer Analog Dial Watch  "
          ],
          [
           "The Watch: Stories (Norton Paperback Fiction)  "
          ],
          [
           "All Black Mesh Black Strap Day & Date Functioning Watch for Boys Analog Watch Analog-Digital Watch - for Men  "
          ],
          [
           "Classics Analog Silver Dial Men's Watch-TI000R40900  "
          ],
          [
           "Formal Analog Black Dial Men's Watch NM7924NM01/NN7924NM01  "
          ],
          [
           "Analog Silver Dial Men's Watch-FS4991  "
          ],
          [
           "Apple Watch Ultra [GPS + Cellular 49 mm] smart watch w/Rugged Titanium Case & Green Alpine Loop - Medium. Fitness Tracker, Precision GPS, Action Button, Extra-Long BatteryLife, Brighter Retina Display  "
          ],
          [
           "Apple Watch SE (GPS + Cellular, 44mm) - Space Grey Aluminium Case with Midnight Sport Band - Regular  "
          ],
          [
           "Economy Digital Multi-color Round Dial Men's Sport Watch-NN77006PP01/NP77006PP01  "
          ],
          [
           "Analog White Dial Men's Watch-NN7954YM01W/NP7954YM01W  "
          ],
          [
           "Analog Grey Dial Men's Watch-MK8576  "
          ],
          [
           "Casual Analog Black Dial Men's Watch-NL3121SM02/NP3121SM02  "
          ],
          [
           "NOVA Skeleton Automatic Watch Mechanical Wrist Watch for Men Bezel Screw Design Silicone Band Self-Wind Business Watch for Men  "
          ],
          [
           "Karishma Revive Analog Silver Dial Women's Watch-NN2593SM01/NP2593SM01  "
          ],
          [
           "Digital Grey Square Dial Men's Sport Watch-NL77043PP01A/NP77043PP01  "
          ],
          [
           "Stylish and Fashionable Waterproof LED Square Dial Watch for Boys and Girls  "
          ],
          [
           "Apple Watch Ultra [GPS + Cellular 49 mm] Smart Watch w/Rugged Titanium Case & Yellow Ocean Band. Fitness Tracker, Precision GPS, Action Button, Extra-Long BatteryLife, Brighter Retina Display  "
          ],
          [
           "Enticer Men Analog Black Dial Watch-A1821  "
          ],
          [
           "Super Fibre Digital Grey Dial Men's Watch-NL87012PP03/NP87012PP03  "
          ],
          [
           "Chronograph Men's Watch (Black Dial)  "
          ],
          [
           "Analog Black Dial Men's Watch-MTP-VT01D-1BUDF (A1612)  "
          ],
          [
           "Digital Boy's & Men's Watch (Multicolour Dial Multi Colored Strap)  "
          ],
          [
           "Fire-Boltt Eterno 1.99\" Largest Display, Bluetooth Calling Smartwatch with 1184mm Display Area, AI Voice Assistant, 120+ Sports Modes (Yoga) with Smart Split Screen to Toggle between functions, Gaming on the Wrist  "
          ],
          [
           "Black dial-case and Black Leather Watch for Men Pack of - 1  "
          ],
          [
           "SAEMPIRE OnePlus Nord Watch Screen Guard Screen Protector Compatible For OnePlus Nord Watch 1.78\" Smart Watch -Flexible TPU (Not A Tempered glass) (Pack of 2)  "
          ],
          [
           "Casual Analog Black Dial Women's Watch-6248NM01  "
          ],
          [
           "Octane Analog Silver Dial Men's Watch-NL1650BM03/NP1650BM03  "
          ],
          [
           "Analogue Men's Watch (Pack of 3) (Multicolored Dial Multicolored Colored Strap)  "
          ],
          [
           "Analog Gold Dial Women's Watch-DK11430-4  "
          ],
          [
           "Ladies Neo-Ii Analog Rose Gold Dial Women's Watch-NL2480KM01  "
          ],
          [
           "Venus Digital Grey Dial Men's Watch-NL7982PP03  "
          ],
          [
           "Men's Analog Number Dial Brown Leather Strap Watch  "
          ],
          [
           "Black, Blue, White Dial, Day & Date Functioning, Stainless Steel Strap Analog Watch for Men & Women  "
          ],
          [
           "Analog Men's Watch (Dial Colored Strap)  "
          ],
          [
           "Antique Day & Date Leather Strap Analog Watch for Men & Boys  "
          ],
          [
           "Mens Chronograph Waterproof Luxury Fashion Military Quartz Sports Analog Wristwatches  "
          ],
          [
           "Analog Day Date Functioning Stainless Steel Chain Watch for Men  "
          ],
          [
           "TrendyTap Analog Unisex Child Watch (Red Dial Red Colored Strap)  "
          ],
          [
           "Analog Men's Watch (Black Dial Colored Strap)  "
          ],
          [
           "Casual Analog Black Dial Women's Watch-6248NM01  "
          ],
          [
           "Octane Analog Silver Dial Men's Watch-NL1650BM03/NP1650BM03  "
          ],
          [
           "Analogue Men's Watch (Pack of 3) (Multicolored Dial Multicolored Colored Strap)  "
          ],
          [
           "Enticer Analog Dial Watch  "
          ],
          [
           "Ladies Neo-Ii Analog Rose Gold Dial Women's Watch-NL2480KM01  "
          ],
          [
           "Analog Gold Dial Women's Watch-DK11430-4  "
          ],
          [
           "Venus Digital Grey Dial Men's Watch-NL7982PP03  "
          ],
          [
           "Ladies Neo Economy Analog White Dial Women's Watch 2639SL04/NN2639SL04/NP2639SL04  "
          ],
          [
           "Analog Men's Watch (Dial Colored Strap)  "
          ],
          [
           "Axial Digital Black Dial Men's Watch-DZT2017  "
          ],
          [
           "Analog Gold Dial Women's Watch-TW000Q810  "
          ],
          [
           "Automatic Mechanical Skeleton Transparent Analog Mesh Steel Band Men's Watch - FSG8181  "
          ],
          [
           "Digital Grey Round Dial Men's Sport Watch-NN77072PP04  "
          ],
          [
           "Phile Black Dial NATO Watch  "
          ],
          [
           "Mizi Portable Samsung Galaxy Watch 5/4 / 3 Charger USB Travel Cordless Wireless Charger Keychain for Samsung Galaxy Watch 4 Classic Watch 3 Active Active 2 Gear S3 - Black  "
          ],
          [
           "Digital Baby Boy's Watch (Black Dial Black Colored Strap)  "
          ],
          [
           "Multi-Functional Boys Casual Business Mens Luxury Stylish Watch Black Dial Leather Strap Wrist Watches for Men-Daily Use Analog Digital Sports Men's Watch  "
          ],
          [
           "Digital Men's Watch (Black Dial Multi Colored Strap)  "
          ],
          [
           "Acnos Brand 3 Color Watch with Black PU Strap Watch M2 Digital for Mens and Watches for Boy Pack of-2  "
          ],
          [
           "Analog Men's Watch (Dial Colored Strap)  "
          ],
          [
           "Analogue Men's Watch (Silver Dial Silver Colored Strap)  "
          ],
          [
           "Classics Analog White Dial Men's Watch-A300  "
          ],
          [
           "Brand - A Digital Watch with Square LED Shockproof Multi-Functional Automatic 5 Color Army Strap Waterproof Digital Sports Watch for Men's Kids Watch for Boys - Watch for Men  "
          ],
          [
           "Men's Analog Number Dial Brown Leather Strap Watch  "
          ],
          [
           "Analog Men's Watch (Dial Colored Strap)  "
          ],
          [
           "Black, Blue, White Dial, Day & Date Functioning, Stainless Steel Strap Analog Watch for Men & Women  "
          ],
          [
           "Mens Chronograph Waterproof Luxury Fashion Military Quartz Sports Analog Wristwatches  "
          ],
          [
           "Analog Day Date Functioning Stainless Steel Chain Watch for Men  "
          ],
          [
           "TrendyTap Analog Unisex Child Watch (Red Dial Red Colored Strap)  "
          ],
          [
           "Analog Men's Watch (Black Dial Colored Strap)  "
          ],
          [
           "Multi-Functional Boys Casual Business Mens Luxury Stylish Watch Black Dial Leather Strap Wrist Watches for Men-Daily Use Analog Digital Sports Men's Watch  "
          ],
          [
           "Analogue Dual Time S Shock Digital Watch for Boys & Girls | Digital Men's Watch | Golden Dial Sports Watch for Boy (Black)  "
          ],
          [
           "Digital Men's Watch (Black Dial Multi Colored Strap)  "
          ],
          [
           "Acnos Brand 3 Color Watch with Black PU Strap Watch M2 Digital for Mens and Watches for Boy Pack of-2  "
          ],
          [
           "Men's Analog Number Dial Brown Leather Strap Watch  "
          ],
          [
           "Brand - A Digital Watch with Square LED Shockproof Multi-Functional Automatic 5 Color Army Strap Waterproof Digital Sports Watch for Men's Kids Watch for Boys - Watch for Men  "
          ],
          [
           "Analog Men's Watch (Dial Colored Strap)  "
          ],
          [
           "Black, Blue, White Dial, Day & Date Functioning, Stainless Steel Strap Analog Watch for Men & Women  "
          ],
          [
           "Mens Chronograph Waterproof Luxury Fashion Military Quartz Sports Analog Wristwatches  "
          ],
          [
           "Analog Day Date Functioning Stainless Steel Chain Watch for Men  "
          ],
          [
           "TrendyTap Analog Unisex Child Watch (Red Dial Red Colored Strap)  "
          ],
          [
           "Analog Minute Track Dial Stainless Steel Chain Watch for Men  "
          ],
          [
           "Analog Men's Watch (Black Dial Colored Strap)  "
          ],
          [
           "Multi-Functional Boys Casual Business Mens Luxury Stylish Watch Black Dial Leather Strap Wrist Watches for Men-Daily Use Analog Digital Sports Men's Watch  "
          ],
          [
           "Digital Men's Watch (Black Dial Multi Colored Strap)  "
          ],
          [
           "Acnos Brand 3 Color Watch with Black PU Strap Watch M2 Digital for Mens and Watches for Boy Pack of-2  "
          ],
          [
           "Men's Analog Number Dial Brown Leather Strap Watch  "
          ],
          [
           "Analog Men's Watch (Dial Colored Strap)  "
          ],
          [
           "Brand - A Digital Watch with Square LED Shockproof Multi-Functional Automatic 5 Color Army Strap Waterproof Digital Sports Watch for Men's Kids Watch for Boys - Watch for Men  "
          ],
          [
           "Analog Men's Watch (Dial Colored Strap)  "
          ],
          [
           "Mens Chronograph Waterproof Luxury Fashion Military Quartz Sports Analog Wristwatches  "
          ],
          [
           "Analog Day Date Functioning Stainless Steel Chain Watch for Men  "
          ],
          [
           "TrendyTap Analog Unisex Child Watch (Red Dial Red Colored Strap)  "
          ],
          [
           "Analog Minute Track Dial Stainless Steel Chain Watch for Men  "
          ],
          [
           "Analog Men's Watch (Black Dial Colored Strap)  "
          ],
          [
           "Men's Military Watches Outdoor Sports Digital Watch Waterproof LED Date Alarm Wrist Watches for Men 8007 Dark Green  "
          ],
          [
           "Men's Military Watches Outdoor Sports Digital Watch Waterproof LED Date Alarm Wrist Watches for Men 8007 Green  "
          ],
          [
           "TWHG03SMU04  "
          ],
          [
           "Men's Analog Number Dial Brown Leather Strap Watch  "
          ],
          [
           "Analog Men's Watch (Dial Colored Strap)  "
          ],
          [
           "Brand - A Digital Watch with Square LED Shockproof Multi-Functional Automatic 5 Color Army Strap Waterproof Digital Sports Watch for Men's Kids Watch for Boys - Watch for Men  "
          ],
          [
           "Black, Blue, White Dial, Day & Date Functioning, Stainless Steel Strap Analog Watch for Men & Women  "
          ]
         ],
         "hovertemplate": "clean_price=%{x}<br>clean_rating=%{y}<br>title=%{customdata[0]}<extra></extra>",
         "legendgroup": "",
         "marker": {
          "color": "#636efa",
          "symbol": "circle"
         },
         "mode": "markers",
         "name": "",
         "orientation": "v",
         "showlegend": false,
         "type": "scatter",
         "x": [
          2699,
          1499,
          849,
          849,
          329,
          1499,
          1199,
          249,
          249,
          249,
          349,
          299,
          389,
          299,
          149,
          299,
          1199,
          1299,
          799,
          1799,
          278,
          399,
          284,
          849,
          849,
          1795,
          326,
          625,
          2032,
          1095,
          499,
          1095,
          17495,
          480,
          319,
          419,
          4999,
          289,
          1199,
          399,
          329,
          2199,
          319,
          2499,
          990,
          2499,
          299,
          499,
          2999,
          449,
          129,
          285,
          266,
          799,
          299,
          8625,
          1109,
          249,
          895,
          2499,
          295,
          188,
          399,
          149,
          499,
          339,
          470,
          265,
          45400,
          2695,
          1799,
          1499,
          95,
          1549,
          0,
          2099,
          2099,
          399,
          2199,
          319,
          325,
          1549,
          125,
          599,
          1999,
          95,
          499,
          2890,
          499,
          2994,
          919,
          390,
          332,
          249,
          1299,
          1799,
          990,
          319,
          399,
          329,
          399,
          1499,
          265,
          499,
          899,
          875,
          1299,
          249,
          1695,
          1799,
          535,
          12995,
          11999,
          499,
          1499,
          429,
          1499,
          249,
          399,
          241,
          2695,
          12995,
          1798,
          299,
          2299,
          1599,
          839,
          1299,
          2499,
          246,
          14995,
          3995,
          399,
          329,
          201,
          279,
          299,
          2199,
          399,
          319,
          284,
          1299,
          13995,
          795,
          446,
          1999,
          213391,
          332,
          799,
          919,
          29003,
          955,
          600,
          2149,
          385,
          319,
          325,
          449,
          369,
          2499,
          494,
          219,
          4499,
          2495,
          448,
          2999,
          8495,
          598,
          189,
          8636,
          282,
          2351,
          1099,
          950,
          1299,
          1995,
          399,
          240,
          11999,
          4797,
          2475,
          995,
          1599,
          1099,
          2299,
          990,
          8796,
          499,
          15995,
          748,
          201,
          986,
          429,
          329,
          2199,
          399,
          319,
          325,
          499,
          15995,
          8495,
          9990,
          189,
          3999,
          939,
          41900,
          2415,
          1795,
          449,
          2351,
          599,
          950,
          521,
          399,
          319,
          399,
          329,
          279,
          1999,
          4797,
          1550,
          2399,
          1299,
          1799,
          995,
          29400,
          1099,
          1895,
          1960,
          249,
          1099,
          825,
          8796,
          699,
          875,
          748,
          625,
          3795,
          12995,
          2396,
          231,
          4795,
          786,
          1199,
          1490,
          1799,
          2695,
          5795,
          749,
          1550,
          201,
          249,
          280,
          399,
          2199,
          319,
          399,
          319,
          749,
          975,
          3749,
          599,
          2351,
          4999,
          950,
          8495,
          399,
          2695,
          0,
          4797,
          3295,
          2399,
          499,
          995,
          325,
          399,
          329,
          399,
          1099,
          299,
          345,
          725,
          1099,
          849,
          2499,
          649,
          1695,
          439,
          999,
          249,
          569,
          8796,
          675,
          1449,
          748,
          199,
          7247,
          1849,
          1799,
          3490,
          625,
          799,
          289,
          17999,
          1299,
          3795,
          12995,
          80900,
          1299,
          201,
          279,
          249,
          299,
          2199,
          319,
          399,
          319,
          2399,
          1299,
          875,
          995,
          1499,
          1995,
          1099,
          685,
          2252,
          1775,
          80900,
          419,
          4495,
          1490,
          649,
          6195,
          249,
          399,
          325,
          279,
          439,
          5995,
          1125,
          249,
          1046,
          1725,
          8796,
          82999,
          32400,
          748,
          1499,
          7247,
          1850,
          3490,
          1720,
          503,
          289,
          87203,
          3795,
          585,
          12995,
          3795,
          231,
          2499,
          245,
          126,
          1795,
          3445,
          355,
          2394,
          2396,
          475,
          201,
          329,
          399,
          299,
          2199,
          319,
          399,
          319,
          1795,
          3445,
          355,
          3395,
          2396,
          2394,
          475,
          1596,
          2890,
          10398,
          2249,
          3954,
          599,
          786,
          599,
          185,
          986,
          449,
          284,
          249,
          322,
          492,
          325,
          201,
          399,
          329,
          2199,
          319,
          399,
          319,
          986,
          625,
          449,
          284,
          201,
          325,
          399,
          329,
          2199,
          319,
          399,
          279,
          319,
          986,
          449,
          284,
          201,
          399,
          325,
          249,
          2199,
          319,
          399,
          279,
          319,
          989,
          989,
          3199,
          201,
          399,
          325,
          329
         ],
         "xaxis": "x",
         "y": [
          2699,
          1499,
          849,
          849,
          329,
          1499,
          1199,
          249,
          249,
          249,
          349,
          299,
          389,
          299,
          149,
          299,
          1199,
          1299,
          799,
          1799,
          278,
          399,
          284,
          849,
          849,
          1795,
          326,
          625,
          2032,
          1095,
          499,
          1095,
          17495,
          480,
          319,
          419,
          4999,
          289,
          1199,
          399,
          329,
          2199,
          319,
          2499,
          990,
          2499,
          299,
          499,
          2999,
          449,
          129,
          285,
          266,
          799,
          299,
          8625,
          1109,
          249,
          895,
          2499,
          295,
          188,
          399,
          149,
          499,
          339,
          470,
          265,
          45400,
          2695,
          1799,
          1499,
          95,
          1549,
          0,
          2099,
          2099,
          399,
          2199,
          319,
          325,
          1549,
          125,
          599,
          1999,
          95,
          499,
          2890,
          499,
          2994,
          919,
          390,
          332,
          249,
          1299,
          1799,
          990,
          319,
          399,
          329,
          399,
          1499,
          265,
          499,
          899,
          875,
          1299,
          249,
          1695,
          1799,
          535,
          12995,
          11999,
          499,
          1499,
          429,
          1499,
          249,
          399,
          241,
          2695,
          12995,
          1798,
          299,
          2299,
          1599,
          839,
          1299,
          2499,
          246,
          14995,
          3995,
          399,
          329,
          201,
          279,
          299,
          2199,
          399,
          319,
          284,
          1299,
          13995,
          795,
          446,
          1999,
          213391,
          332,
          799,
          919,
          29003,
          955,
          600,
          2149,
          385,
          319,
          325,
          449,
          369,
          2499,
          494,
          219,
          4499,
          2495,
          448,
          2999,
          8495,
          598,
          189,
          8636,
          282,
          2351,
          1099,
          950,
          1299,
          1995,
          399,
          240,
          11999,
          4797,
          2475,
          995,
          1599,
          1099,
          2299,
          990,
          8796,
          499,
          15995,
          748,
          201,
          986,
          429,
          329,
          2199,
          399,
          319,
          325,
          499,
          15995,
          8495,
          9990,
          189,
          3999,
          939,
          41900,
          2415,
          1795,
          449,
          2351,
          599,
          950,
          521,
          399,
          319,
          399,
          329,
          279,
          1999,
          4797,
          1550,
          2399,
          1299,
          1799,
          995,
          29400,
          1099,
          1895,
          1960,
          249,
          1099,
          825,
          8796,
          699,
          875,
          748,
          625,
          3795,
          12995,
          2396,
          231,
          4795,
          786,
          1199,
          1490,
          1799,
          2695,
          5795,
          749,
          1550,
          201,
          249,
          280,
          399,
          2199,
          319,
          399,
          319,
          749,
          975,
          3749,
          599,
          2351,
          4999,
          950,
          8495,
          399,
          2695,
          0,
          4797,
          3295,
          2399,
          499,
          995,
          325,
          399,
          329,
          399,
          1099,
          299,
          345,
          725,
          1099,
          849,
          2499,
          649,
          1695,
          439,
          999,
          249,
          569,
          8796,
          675,
          1449,
          748,
          199,
          7247,
          1849,
          1799,
          3490,
          625,
          799,
          289,
          17999,
          1299,
          3795,
          12995,
          80900,
          1299,
          201,
          279,
          249,
          299,
          2199,
          319,
          399,
          319,
          2399,
          1299,
          875,
          995,
          1499,
          1995,
          1099,
          685,
          2252,
          1775,
          80900,
          419,
          4495,
          1490,
          649,
          6195,
          249,
          399,
          325,
          279,
          439,
          5995,
          1125,
          249,
          1046,
          1725,
          8796,
          82999,
          32400,
          748,
          1499,
          7247,
          1850,
          3490,
          1720,
          503,
          289,
          87203,
          3795,
          585,
          12995,
          3795,
          231,
          2499,
          245,
          126,
          1795,
          3445,
          355,
          2394,
          2396,
          475,
          201,
          329,
          399,
          299,
          2199,
          319,
          399,
          319,
          1795,
          3445,
          355,
          3395,
          2396,
          2394,
          475,
          1596,
          2890,
          10398,
          2249,
          3954,
          599,
          786,
          599,
          185,
          986,
          449,
          284,
          249,
          322,
          492,
          325,
          201,
          399,
          329,
          2199,
          319,
          399,
          319,
          986,
          625,
          449,
          284,
          201,
          325,
          399,
          329,
          2199,
          319,
          399,
          279,
          319,
          986,
          449,
          284,
          201,
          399,
          325,
          249,
          2199,
          319,
          399,
          279,
          319,
          989,
          989,
          3199,
          201,
          399,
          325,
          329
         ],
         "yaxis": "y"
        }
       ],
       "layout": {
        "legend": {
         "tracegroupgap": 0
        },
        "margin": {
         "t": 60
        },
        "template": {
         "data": {
          "bar": [
           {
            "error_x": {
             "color": "#2a3f5f"
            },
            "error_y": {
             "color": "#2a3f5f"
            },
            "marker": {
             "line": {
              "color": "#E5ECF6",
              "width": 0.5
             },
             "pattern": {
              "fillmode": "overlay",
              "size": 10,
              "solidity": 0.2
             }
            },
            "type": "bar"
           }
          ],
          "barpolar": [
           {
            "marker": {
             "line": {
              "color": "#E5ECF6",
              "width": 0.5
             },
             "pattern": {
              "fillmode": "overlay",
              "size": 10,
              "solidity": 0.2
             }
            },
            "type": "barpolar"
           }
          ],
          "carpet": [
           {
            "aaxis": {
             "endlinecolor": "#2a3f5f",
             "gridcolor": "white",
             "linecolor": "white",
             "minorgridcolor": "white",
             "startlinecolor": "#2a3f5f"
            },
            "baxis": {
             "endlinecolor": "#2a3f5f",
             "gridcolor": "white",
             "linecolor": "white",
             "minorgridcolor": "white",
             "startlinecolor": "#2a3f5f"
            },
            "type": "carpet"
           }
          ],
          "choropleth": [
           {
            "colorbar": {
             "outlinewidth": 0,
             "ticks": ""
            },
            "type": "choropleth"
           }
          ],
          "contour": [
           {
            "colorbar": {
             "outlinewidth": 0,
             "ticks": ""
            },
            "colorscale": [
             [
              0,
              "#0d0887"
             ],
             [
              0.1111111111111111,
              "#46039f"
             ],
             [
              0.2222222222222222,
              "#7201a8"
             ],
             [
              0.3333333333333333,
              "#9c179e"
             ],
             [
              0.4444444444444444,
              "#bd3786"
             ],
             [
              0.5555555555555556,
              "#d8576b"
             ],
             [
              0.6666666666666666,
              "#ed7953"
             ],
             [
              0.7777777777777778,
              "#fb9f3a"
             ],
             [
              0.8888888888888888,
              "#fdca26"
             ],
             [
              1,
              "#f0f921"
             ]
            ],
            "type": "contour"
           }
          ],
          "contourcarpet": [
           {
            "colorbar": {
             "outlinewidth": 0,
             "ticks": ""
            },
            "type": "contourcarpet"
           }
          ],
          "heatmap": [
           {
            "colorbar": {
             "outlinewidth": 0,
             "ticks": ""
            },
            "colorscale": [
             [
              0,
              "#0d0887"
             ],
             [
              0.1111111111111111,
              "#46039f"
             ],
             [
              0.2222222222222222,
              "#7201a8"
             ],
             [
              0.3333333333333333,
              "#9c179e"
             ],
             [
              0.4444444444444444,
              "#bd3786"
             ],
             [
              0.5555555555555556,
              "#d8576b"
             ],
             [
              0.6666666666666666,
              "#ed7953"
             ],
             [
              0.7777777777777778,
              "#fb9f3a"
             ],
             [
              0.8888888888888888,
              "#fdca26"
             ],
             [
              1,
              "#f0f921"
             ]
            ],
            "type": "heatmap"
           }
          ],
          "heatmapgl": [
           {
            "colorbar": {
             "outlinewidth": 0,
             "ticks": ""
            },
            "colorscale": [
             [
              0,
              "#0d0887"
             ],
             [
              0.1111111111111111,
              "#46039f"
             ],
             [
              0.2222222222222222,
              "#7201a8"
             ],
             [
              0.3333333333333333,
              "#9c179e"
             ],
             [
              0.4444444444444444,
              "#bd3786"
             ],
             [
              0.5555555555555556,
              "#d8576b"
             ],
             [
              0.6666666666666666,
              "#ed7953"
             ],
             [
              0.7777777777777778,
              "#fb9f3a"
             ],
             [
              0.8888888888888888,
              "#fdca26"
             ],
             [
              1,
              "#f0f921"
             ]
            ],
            "type": "heatmapgl"
           }
          ],
          "histogram": [
           {
            "marker": {
             "pattern": {
              "fillmode": "overlay",
              "size": 10,
              "solidity": 0.2
             }
            },
            "type": "histogram"
           }
          ],
          "histogram2d": [
           {
            "colorbar": {
             "outlinewidth": 0,
             "ticks": ""
            },
            "colorscale": [
             [
              0,
              "#0d0887"
             ],
             [
              0.1111111111111111,
              "#46039f"
             ],
             [
              0.2222222222222222,
              "#7201a8"
             ],
             [
              0.3333333333333333,
              "#9c179e"
             ],
             [
              0.4444444444444444,
              "#bd3786"
             ],
             [
              0.5555555555555556,
              "#d8576b"
             ],
             [
              0.6666666666666666,
              "#ed7953"
             ],
             [
              0.7777777777777778,
              "#fb9f3a"
             ],
             [
              0.8888888888888888,
              "#fdca26"
             ],
             [
              1,
              "#f0f921"
             ]
            ],
            "type": "histogram2d"
           }
          ],
          "histogram2dcontour": [
           {
            "colorbar": {
             "outlinewidth": 0,
             "ticks": ""
            },
            "colorscale": [
             [
              0,
              "#0d0887"
             ],
             [
              0.1111111111111111,
              "#46039f"
             ],
             [
              0.2222222222222222,
              "#7201a8"
             ],
             [
              0.3333333333333333,
              "#9c179e"
             ],
             [
              0.4444444444444444,
              "#bd3786"
             ],
             [
              0.5555555555555556,
              "#d8576b"
             ],
             [
              0.6666666666666666,
              "#ed7953"
             ],
             [
              0.7777777777777778,
              "#fb9f3a"
             ],
             [
              0.8888888888888888,
              "#fdca26"
             ],
             [
              1,
              "#f0f921"
             ]
            ],
            "type": "histogram2dcontour"
           }
          ],
          "mesh3d": [
           {
            "colorbar": {
             "outlinewidth": 0,
             "ticks": ""
            },
            "type": "mesh3d"
           }
          ],
          "parcoords": [
           {
            "line": {
             "colorbar": {
              "outlinewidth": 0,
              "ticks": ""
             }
            },
            "type": "parcoords"
           }
          ],
          "pie": [
           {
            "automargin": true,
            "type": "pie"
           }
          ],
          "scatter": [
           {
            "fillpattern": {
             "fillmode": "overlay",
             "size": 10,
             "solidity": 0.2
            },
            "type": "scatter"
           }
          ],
          "scatter3d": [
           {
            "line": {
             "colorbar": {
              "outlinewidth": 0,
              "ticks": ""
             }
            },
            "marker": {
             "colorbar": {
              "outlinewidth": 0,
              "ticks": ""
             }
            },
            "type": "scatter3d"
           }
          ],
          "scattercarpet": [
           {
            "marker": {
             "colorbar": {
              "outlinewidth": 0,
              "ticks": ""
             }
            },
            "type": "scattercarpet"
           }
          ],
          "scattergeo": [
           {
            "marker": {
             "colorbar": {
              "outlinewidth": 0,
              "ticks": ""
             }
            },
            "type": "scattergeo"
           }
          ],
          "scattergl": [
           {
            "marker": {
             "colorbar": {
              "outlinewidth": 0,
              "ticks": ""
             }
            },
            "type": "scattergl"
           }
          ],
          "scattermapbox": [
           {
            "marker": {
             "colorbar": {
              "outlinewidth": 0,
              "ticks": ""
             }
            },
            "type": "scattermapbox"
           }
          ],
          "scatterpolar": [
           {
            "marker": {
             "colorbar": {
              "outlinewidth": 0,
              "ticks": ""
             }
            },
            "type": "scatterpolar"
           }
          ],
          "scatterpolargl": [
           {
            "marker": {
             "colorbar": {
              "outlinewidth": 0,
              "ticks": ""
             }
            },
            "type": "scatterpolargl"
           }
          ],
          "scatterternary": [
           {
            "marker": {
             "colorbar": {
              "outlinewidth": 0,
              "ticks": ""
             }
            },
            "type": "scatterternary"
           }
          ],
          "surface": [
           {
            "colorbar": {
             "outlinewidth": 0,
             "ticks": ""
            },
            "colorscale": [
             [
              0,
              "#0d0887"
             ],
             [
              0.1111111111111111,
              "#46039f"
             ],
             [
              0.2222222222222222,
              "#7201a8"
             ],
             [
              0.3333333333333333,
              "#9c179e"
             ],
             [
              0.4444444444444444,
              "#bd3786"
             ],
             [
              0.5555555555555556,
              "#d8576b"
             ],
             [
              0.6666666666666666,
              "#ed7953"
             ],
             [
              0.7777777777777778,
              "#fb9f3a"
             ],
             [
              0.8888888888888888,
              "#fdca26"
             ],
             [
              1,
              "#f0f921"
             ]
            ],
            "type": "surface"
           }
          ],
          "table": [
           {
            "cells": {
             "fill": {
              "color": "#EBF0F8"
             },
             "line": {
              "color": "white"
             }
            },
            "header": {
             "fill": {
              "color": "#C8D4E3"
             },
             "line": {
              "color": "white"
             }
            },
            "type": "table"
           }
          ]
         },
         "layout": {
          "annotationdefaults": {
           "arrowcolor": "#2a3f5f",
           "arrowhead": 0,
           "arrowwidth": 1
          },
          "autotypenumbers": "strict",
          "coloraxis": {
           "colorbar": {
            "outlinewidth": 0,
            "ticks": ""
           }
          },
          "colorscale": {
           "diverging": [
            [
             0,
             "#8e0152"
            ],
            [
             0.1,
             "#c51b7d"
            ],
            [
             0.2,
             "#de77ae"
            ],
            [
             0.3,
             "#f1b6da"
            ],
            [
             0.4,
             "#fde0ef"
            ],
            [
             0.5,
             "#f7f7f7"
            ],
            [
             0.6,
             "#e6f5d0"
            ],
            [
             0.7,
             "#b8e186"
            ],
            [
             0.8,
             "#7fbc41"
            ],
            [
             0.9,
             "#4d9221"
            ],
            [
             1,
             "#276419"
            ]
           ],
           "sequential": [
            [
             0,
             "#0d0887"
            ],
            [
             0.1111111111111111,
             "#46039f"
            ],
            [
             0.2222222222222222,
             "#7201a8"
            ],
            [
             0.3333333333333333,
             "#9c179e"
            ],
            [
             0.4444444444444444,
             "#bd3786"
            ],
            [
             0.5555555555555556,
             "#d8576b"
            ],
            [
             0.6666666666666666,
             "#ed7953"
            ],
            [
             0.7777777777777778,
             "#fb9f3a"
            ],
            [
             0.8888888888888888,
             "#fdca26"
            ],
            [
             1,
             "#f0f921"
            ]
           ],
           "sequentialminus": [
            [
             0,
             "#0d0887"
            ],
            [
             0.1111111111111111,
             "#46039f"
            ],
            [
             0.2222222222222222,
             "#7201a8"
            ],
            [
             0.3333333333333333,
             "#9c179e"
            ],
            [
             0.4444444444444444,
             "#bd3786"
            ],
            [
             0.5555555555555556,
             "#d8576b"
            ],
            [
             0.6666666666666666,
             "#ed7953"
            ],
            [
             0.7777777777777778,
             "#fb9f3a"
            ],
            [
             0.8888888888888888,
             "#fdca26"
            ],
            [
             1,
             "#f0f921"
            ]
           ]
          },
          "colorway": [
           "#636efa",
           "#EF553B",
           "#00cc96",
           "#ab63fa",
           "#FFA15A",
           "#19d3f3",
           "#FF6692",
           "#B6E880",
           "#FF97FF",
           "#FECB52"
          ],
          "font": {
           "color": "#2a3f5f"
          },
          "geo": {
           "bgcolor": "white",
           "lakecolor": "white",
           "landcolor": "#E5ECF6",
           "showlakes": true,
           "showland": true,
           "subunitcolor": "white"
          },
          "hoverlabel": {
           "align": "left"
          },
          "hovermode": "closest",
          "mapbox": {
           "style": "light"
          },
          "paper_bgcolor": "white",
          "plot_bgcolor": "#E5ECF6",
          "polar": {
           "angularaxis": {
            "gridcolor": "white",
            "linecolor": "white",
            "ticks": ""
           },
           "bgcolor": "#E5ECF6",
           "radialaxis": {
            "gridcolor": "white",
            "linecolor": "white",
            "ticks": ""
           }
          },
          "scene": {
           "xaxis": {
            "backgroundcolor": "#E5ECF6",
            "gridcolor": "white",
            "gridwidth": 2,
            "linecolor": "white",
            "showbackground": true,
            "ticks": "",
            "zerolinecolor": "white"
           },
           "yaxis": {
            "backgroundcolor": "#E5ECF6",
            "gridcolor": "white",
            "gridwidth": 2,
            "linecolor": "white",
            "showbackground": true,
            "ticks": "",
            "zerolinecolor": "white"
           },
           "zaxis": {
            "backgroundcolor": "#E5ECF6",
            "gridcolor": "white",
            "gridwidth": 2,
            "linecolor": "white",
            "showbackground": true,
            "ticks": "",
            "zerolinecolor": "white"
           }
          },
          "shapedefaults": {
           "line": {
            "color": "#2a3f5f"
           }
          },
          "ternary": {
           "aaxis": {
            "gridcolor": "white",
            "linecolor": "white",
            "ticks": ""
           },
           "baxis": {
            "gridcolor": "white",
            "linecolor": "white",
            "ticks": ""
           },
           "bgcolor": "#E5ECF6",
           "caxis": {
            "gridcolor": "white",
            "linecolor": "white",
            "ticks": ""
           }
          },
          "title": {
           "x": 0.05
          },
          "xaxis": {
           "automargin": true,
           "gridcolor": "white",
           "linecolor": "white",
           "ticks": "",
           "title": {
            "standoff": 15
           },
           "zerolinecolor": "white",
           "zerolinewidth": 2
          },
          "yaxis": {
           "automargin": true,
           "gridcolor": "white",
           "linecolor": "white",
           "ticks": "",
           "title": {
            "standoff": 15
           },
           "zerolinecolor": "white",
           "zerolinewidth": 2
          }
         }
        },
        "xaxis": {
         "anchor": "y",
         "domain": [
          0,
          1
         ],
         "title": {
          "text": "clean_price"
         }
        },
        "yaxis": {
         "anchor": "x",
         "domain": [
          0,
          1
         ],
         "title": {
          "text": "clean_rating"
         }
        }
       }
      },
      "text/html": [
       "<div>                        <script type=\"text/javascript\">window.PlotlyConfig = {MathJaxConfig: 'local'};</script>\n",
       "        <script src=\"https://cdn.plot.ly/plotly-2.18.2.min.js\"></script>                <div id=\"c4089304-0f61-4d58-bb9d-0e50ba3c39d2\" class=\"plotly-graph-div\" style=\"height:100%; width:100%;\"></div>            <script type=\"text/javascript\">                                    window.PLOTLYENV=window.PLOTLYENV || {};                                    if (document.getElementById(\"c4089304-0f61-4d58-bb9d-0e50ba3c39d2\")) {                    Plotly.newPlot(                        \"c4089304-0f61-4d58-bb9d-0e50ba3c39d2\",                        [{\"customdata\":[[\"Analog Blue Dial Men's Watch-TWHG03SMU10  \"],[\"Analog Black Dial Men's Watch-TWTG80SMU04  \"],[\"Analog Blue Dial Men's Watch-TWTG80SMU02  \"],[\"Analog Silver Dial Men's Watch-TWNTG07SMU04  \"],[\"USM ID116 Smart Watch Smart Bracelet Fitness Tracker Color Screen Smartwatch Heart Rate Blood Pressure Pedometer Sleep Monitor  \"],[\"boAt Flash Edition Smart Watch with Activity Tracker, Multiple Sports Modes, 1.3\\\" Screen, 170+ Watch Faces, Sleep Monitor, Gesture, Camera & Music Control, IP68 & 7 Days Battery Life(Lightning Black)  \"],[\"boAt Wave Prime47 Smart Watch with 1.69\\\" HD Display, 700+ Active Modes, ASAP Charge, Live Cricket Scores, Crest App Health Ecosystem, HR & SpO2 Monitoring(Matte Black)  \"],[\"Affordable Men's Watch, Men's LED Digital Watch, Watch for Boys & Gents Watches Combo Pack of 2  \"],[\"Affordable Men's Watch, Men's LED Digital Watch, Watch for Boys & Gents Watches Combo Pack of 2  \"],[\"Analogue Women's Watch (White Dial Rose Gold Colored Strap)  \"],[\"Watches for Women Round Studded Dial |Analogue Quartz Movemnet Ladies Watch|Long Battery Life|Stainless Steel Adjustable Bracelet Chain Strap|Double Lock Clasp Safety Watches for Girls  \"],[\"Digital Vintage Square Dial Unisex Wrist Watch for Men & Women -W70  \"],[\"0024 Gold Dial Metallic Chain Analog Watch for Men and Boys  \"],[\"Digital Vintage Square Dial Unisex Wrist Watch for Men & Women -W70  \"],[\"Black Dial Blue Strap Analog Watch - for Men-SS-GR6622-BLU-BLU  \"],[\"Analog Silvers and Coppers Diamond Combo Watches for Women and Girls  \"],[\"boAt Wave Prime47 Smart Watch with 1.69\\\" HD Display, 700+ Active Modes, ASAP Charge, Live Cricket Scores, Crest App Health Ecosystem, HR & SpO2 Monitoring(Forest Green)  \"],[\"Noise ColorFit Pulse Grand Smart Watch with 1.69\\\"(42.9cm) HD Display, 60 Sports Modes, 150 Watch Faces, Fast Charge, Spo2, Stress, Sleep, Heart Rate Monitoring & IP68 Waterproof (Champagne Grey)  \"],[\"Tokdis MX-1 Pro Bluetooth Calling Smartwatch - 1.69\\u201d LCD Display, Multiple Watch Faces, Sleep Monitor, Heart & SpO2 Monitoring, Multiple Sports Modes  \"],[\"Hammer Ace 3.0 Bluetooth Calling Smart Watch with Largest 1.85\\\" IPS Display, Dual Mode, Spo2, Heart Rate, Strong Metallic Body & Skin Friendly Strap (Black)  \"],[\"SHREENOVA\\u00ae ID116 Plus Bluetooth Fitness Smart Watch for Men Women and Kids Activity Tracker (Black)  \"],[\"Silicone Strap Analog Wrist Watch for Men (Black/Blue/Red) | LD-BK054  \"],[\"Digital Sports Multi Functional Black Dial Watch for Mens Boys -315RED  \"],[\"Analog Men's Watch  \"],[\"Analog Men's Watch  \"],[\"Analog Dial Women's Watch (Pink, 6150SM04)-NM6150SM04 / NL6150SM04/NP6150SM04  \"],[\"Analog Women's Watch (Pink Dial Silver Colored Strap)  \"],[\"Sporty Analog Black Dial Men's Watch-NL7930PP01/NP7930PP01  \"],[\"Analog Women's Watch (Dial Colored Strap)  \"],[\"Youth Series Digital Black Dial Unisex Watch - F-91W-1Q(D002)  \"],[\"Venus Digital Grey Dial Men's Watch-NL7982PP04/NM7982PP04  \"],[\"Casual Analog White Dial Men's Watch NM3114PP01/NN3114PP01/NP3114PP01  \"],[\"Chronograph Men's Watch (Black Dial)  \"],[\"Bouncefit Fitness Band Smart Watch- Y68 D20 Water Proof Smart Watches SpO2 Full Touch Smartwatch with Workout Modes, Heart Rate Tracking, Sports Smart Watch for All Boys & Girls & Women - Jet Black  \"],[\"Analog Day Date Functioning Stainless Steel Chain Watch for Men  \"],[\"Smart Watch for men women boys 1.3\\\" OLED HD Display, Multiple watch Faces, SpO2 Monitoring, Sleep Monitor for Boys, Girls, Mens, Women & Kids for all Smartphones (ID 116 Plus Black) (ID116 Black)  \"],[\"OnePlus Nord Watch with 1.78\\u201d AMOLED Display, 60 Hz Refresh Rate, 105 Fitness Modes, 10 Days Battery, SPO2, Heart Rate, Stress Monitor, Women Health Tracker & Multiple Watch Faces [Deep Blue]  \"],[\"Digital 24 Images Projector Watch for Kids Boys Watch, Diwali Gift, Birthday Return Gift, Best Digital Toy Watch for Boy's & Girl's BG-906  \"],[\"boAt Flash Edition Smart Watch with Activity Tracker, Multiple Sports Modes, 1.3\\\" Screen, 170+ Watch Faces, Sleep Monitor, Gesture, Camera & Music Control, IP68 & 7 Days Battery Life(Galaxy Blue)  \"],[\"TrendyTap Analog Unisex Child Watch (Red Dial Red Colored Strap)  \"],[\"Blue, Black & Silver Dial, Day & Date Functioning, Stainless Steel Strap Analog Watch for Men & Women  \"],[\"Mens Chronograph Waterproof Luxury Fashion Military Quartz Sports Analog Wristwatches  \"],[\"Analog Men's Watch (Black Dial Colored Strap)  \"],[\"Fire-Boltt Gladiator 1.96\\\" Biggest Display Smart Watch with Bluetooth Calling, Voice Assistant &123 Sports Modes, 8 Unique UI Interactions, SpO2, 24/7 Heart Rate Tracking, Rs 100 Off on UPI  \"],[\"VMBS A1 Smart Watch Mobile Inbuild Camera Supporting 4G/5G Sim Smartwatch for Phone  \"],[\"Fire-Boltt Gladiator 1.96\\\" Biggest Display Smart Watch with Bluetooth Calling, Voice Assistant &123 Sports Modes, 8 Unique UI Interactions, SpO2, 24/7 Heart Rate Tracking, Rs 100 Off on UPI  \"],[\"Analog Day & Date Display Wrist Watch for Men & Boys (Black)  \"],[\"Smart Watch D20 Y68 Smart Watch for Girls Boys Men Women Kids, Blacktooth 1.3\\\" Smart Watch LED with Daily Activity Tracker, Heart Rate Sensor, for All Boys & Girls SmartWatch- Pink  \"],[\"NoiseFit Force Rugged Round Dial Bluetooth Calling Smart Watch with 1.32\\\" HD screen, Functional Crown, 550 NITS, 7 days battery, AI Voice Assistance, 200+ Watch Faces, Heart Rate Tracker- (Teal Green)  \"],[\"Simple Sport Digital Men\\u2019s Military Watches Electronic LED Time Black Wrist Watch  \"],[\"Analog Men's Watch (Multicolor Dial Multi Colored Strap)  \"],[\"Stainless Steel Watch Series Analogue Men's Watch (Black Dial Mens Long Colored Strap) -W219  \"],[\"Analog Boy's & Men's Watch (Blue Dial Blue Colored Strap)  \"],[\"Analogue - Digital Men's Watch (Black Dial Black Colored Strap)  \"],[\"Analog Men's Watch (Brown Dial Brown Colored Strap)  \"],[\"Analog Blue Dial Men's Watch-TH1791474  \"],[\"Premium Casual Stylish Watch | Luxury Working Chronograph Watch for Men | Water-Resistant Branded Men's Wrist Watch with Stopwatch & Date Display - Timegrapher Red Leather Watch  \"],[\"Analogue Multi Color Dial Kids Watch for Boys and Girls - Combo of 2 Watches  \"],[\"Analog Grey Dial Unisex-Adult Watch-68011PP08  \"],[\"Analog Black Dial Men's Watch-TW000U914  \"],[\"SHREENOVA XA Smart Watch for Men & Women Latest Bluetooth 1.3\\\" LED with Daily Activity Tracker, Heart Rate Sensor,Sports Gym Watch for All Boys & Girls - Black  \"],[\"Digital Watch Shockproof Multi-Functional Automatic Black Color Strap Waterproof Digital Sports Watch for Mens Kids Watch for Boys Watch for Men Pack of 1 Watch Water Resistance Digital Watch  \"],[\"Smart Watch for Men Women ID116 Plus Smart Bracelet Fitness Tracker Color Screen Smartwatch Heart Rate Blood Pressure Pedometer Sleep Monitor  \"],[\"Analogue Black Dial Men's Watch - SS-GR918-BLK-BLK  \"],[\"MAGBOT Q9 Smart Watch for Men & Women Latest Bluetooth 1.3\\\" LED with Daily Activity Tracker, Heart Rate Sensor, BP Monitor, Sports Gym Watch for All Boys & Girls - Black  \"],[\"Multi Dial Chronograph Luxury Quartz Analog Watch for Men  \"],[\"AYL Waterproof D-20 Touch Screen Smart Watch Bluetooth Smartwatch with Blood Pressure Tracking, Heart Rate Sensor and Basic Functionality for All Women and Girls (Pink)  \"],[\"Black Dial Analogue Watch for Men Pack of 1 (FULLBLKPAYDU)  \"],[\"Apple Watch Series 8 [GPS 45 mm] Smart Watch w/Midnight Aluminium Case with Midnight Sport Band. Fitness Tracker, Blood Oxygen & ECG Apps, Always-On Retina Display, Water Resistant  \"],[\"Analog Men's Watch ( Dial Blue Colored Strap)  \"],[\"DIZO Watch D2 Power (by realme TechLife) \\u2013Large 1.91\\\" Superlight, Single Chipset Bluetooth Calling Smartwatch with Smart Swipe,150 +Stylish Watch Faces and 10 Day Battery (Classic Black)  \"],[\"Noise ColorFit Pulse Grand Smart Watch with 1.69\\\"(4.2cm) HD Display, 60 Sports Modes, 150 Watch Faces, Fast Charge, Spo2, Stress, Sleep, Heart Rate Monitoring & IP68 Waterproof (Lime Green)  \"],[\"LED Digital Watch Good Looking Black Watch for Boys & Girls (Black Color)  \"],[\"pTron Force X12S Bluetooth Calling Smartwatch, 1.85\\\" Full Touch HD Display, Functional Crown, Real Heart Rate Monitor, SpO2, Watch Faces, 5 Days Battery Life, Fitness Trackers & IP68 Waterproof (Pink)  \"],[\"The Watch (Fourteen Tales of Thirteen Covens Book 5)  \"],[\"The Classique - Black - Premium & Luxurious Watch for Men  \"],[\"The Classique - Green - Premium & Luxurious Watch for Men  \"],[\"TrendyTap Analog Unisex Child Watch (Red Dial Red Colored Strap)  \"],[\"Mens Chronograph Waterproof Luxury Fashion Military Quartz Sports Analog Wristwatches  \"],[\"Analog Day Date Functioning Stainless Steel Chain Watch for Men  \"],[\"Brand - A Digital Watch with Square LED Shockproof Multi-Functional Automatic 5 Color Army Strap Waterproof Digital Sports Watch for Men's Kids Watch for Boys - Watch for Men  \"],[\"pTron Force X12S Bluetooth Calling Smartwatch, 1.85\\\" Full Touch HD Display, Functional Crown, Real Heart Rate Monitor, SpO2, Watch Faces, 5 Days Battery Life, Fitness Trackers & IP68 Waterproof (Pink)  \"],[\"Quartz Movement Analogue Display Multicoloured Dial Men's Watch (Green Dial Green Colored Strap)-Army  \"],[\"New Edition i7 Pro Max All in One Series 7 Smart Watch with Fitness Tracker Heart Monitor Men Women Smart Watch Black  \"],[\"Noise ColorFit Ultra Buzz Bluetooth Calling Smart Watch with 1.75\\\" HD Display, 320x385 px Resolution, 100 Sports Modes, Stock Market Info Smartwatch for Men & Women (Champagne Grey)  \"],[\"LED Digital Watch Good Looking Black Watch for Boys & Girls (Black Color)  \"],[\"OLICOM M1 Smart Watch Id-116 Bluetooth Smartwatch Wireless Fitness Band for Boys, Girls, Men, Women & Kids | Sports Gym Watch for All Smart Phones I Heart Rate and spo2 Monitor  \"],[\"Wrist Watches for Men Leather Strap Analog Chronograph Fashion Business Sport Design Mens Watch 30M Waterproof Stylish Elegant Gifts for Men  \"],[\"AYL Smart Watch New Generation for You ID116 Touchscreen Android Smart Watch Bluetooth Smartwatch with Heart Rate Sensor and Basic Functionality for All Women, Men, Boys & Girls - Black  \"],[\"Men's Military Digital Watches Analog Quartz Waterproof Watch Sport Multifunctional Leather Wristwatch  \"],[\"i8 Pro Max Touch Screen Bluetooth Smartwatch with Activity Tracker Compatible with All 3G/4G/5G Android & iOS Smartphones - Black  \"],[\"Unisex Elegant Plane Style Digital Display Waterproof Outdoor Sports Silicone Strap LED Wrist Watch ( black )  \"],[\"Waterproof D20 Touchscreen Smart Watch Bluetooth Smartwatch with Blood Pressure Tracking, Heart Rate Sensor and Basic Functionality for All Women and Men  \"],[\"Analogue Multi Color Dial Kids Watch for Boys & Girls  \"],[\"Fire-Boltt Ninja 3 1.83\\\" Display Smartwatch Full Touch with 100+ Sports Modes with IP68, Sp02 Tracking, Over 100 Cloud Based Watch Faces  \"],[\"Fire-Boltt Ninja Call Pro Plus 1.83\\\" Smart Watch with Bluetooth Calling, AI Voice Assistance, 100 Sports Modes IP67 Rating, 240 * 280 Pixel High Resolution  \"],[\"Analog-Digital Men's Watch (Black Dial Black Colored Strap)  \"],[\"Analog Men's Watch (Black Dial Colored Strap)  \"],[\"Analog Men's Watch (Dial Colored Strap)  \"],[\"Blue, Black & Silver Dial, Day & Date Functioning, Stainless Steel Strap Analog Watch for Men & Women  \"],[\"Analog Men's Watch (Dial Colored Strap)  \"],[\"Noise ColorFit Pulse Grand Smart Watch with 1.69\\\"(4.2cm) HD Display, 60 Sports Modes, 150 Watch Faces, Fast Charge, Spo2, Stress, Sleep, Heart Rate Monitoring & IP68 Waterproof (Lime Green)  \"],[\"Analog Boy's & Men's Watch (Brown Dial Colored Strap)  \"],[\"Smart Watch D20 Y68 Smart Watch for Girls Boys Men Women Kids, Blacktooth 1.3\\\" Smart Watch LED with Daily Activity Tracker, Heart Rate Sensor, for All Boys & Girls SmartWatch- Pink  \"],[\"Analog Watches for Men  \"],[\"Volt+ Analog Black Dial Men's Watch NM77086PL01 / NL77086PL01/NP77086PL01W  \"],[\"Analog Black Dial Men's Watch-TW000U934  \"],[\"Analogue White Dial Spiderman Boy's, Girl's Watch (Red)  \"],[\"New Fastrack Reflex Beat+ 1.69\\u201d UltraVU Display|500 Nits Brightness|60 Sports Modes|24*7 Heart Rate Monitor|SpO2 Monitor|Sleep Tracker|IP68 Water Resistant|Music & Camera Control  \"],[\"Fire-Boltt Ninja Call Pro Plus 1.83\\\" Smart Watch with Bluetooth Calling, AI Voice Assistance, 100 Sports Modes IP67 Rating, 240 * 280 Pixel High Resolution  \"],[\"Special Super Quality Analog Watches Combo Look Like Handsome for Boys and Mens Pack of - 3(STL-437-436)  \"],[\"Talk S with 1.78\\\" AMOLED Display|Advanced BT Calling|Music Storage with Wireless Audio Connect|100+ Sports Modes|Animated Watchfaces|5 Days Battery|IP68 Water Resistant|Stress & Mood Monitor  \"],[\"Fitbit FB507BKBK Versa 2 Health & Fitness Smartwatch with Heart Rate, Music, Alexa Built-in, Sleep & Swim Tracking, Black/Carbon, One Size (S & L Bands Included) (Black/Carbon)  \"],[\"Venus Digital Grey Dial Men's Watch-NL7982PP02  \"],[\"boAt Wave Lite Smartwatch with 1.69 Inches(4.29cm) HD Display, Heart Rate & SpO2 Level Monitor, Multiple Watch Faces, Activity Tracker, Multiple Sports Modes & IP68 (Scarlet Red)  \"],[\"Gold Dial Day n Date Display Analog Wrist Watch HM-GR095-GLD-SLV  \"],[\"boAt Matrix Smart Watch with 1.65\\u201d AMOLED Display, Always On Mode, Slim Premium Design, Heart Rate & SpO2 Monitoring, Health Ecosystem & Multiple Sports Modes, 3ATM & 7 Days Battery Life(Pitch Black)  \"],[\"Analog Unique Arrow Black Silicon Strap Watch for Men and Boys  \"],[\"Smart Watch for Men Women ID116 Plus Smart Bracelet Fitness Tracker Color Screen Smartwatch Heart Rate Blood Pressure Pedometer Sleep Monitor  \"],[\"Analogue Silver Dial Day and Date Men's Boy's Watch - Dexter0507  \"],[\"Analog Silver Dial Men's Watch-NL1584SL03/NP1584SL03  \"],[\"Chronograph Men's Watch (Black Dial)  \"],[\"Hammer Pulse Ace Pro Bluetooth Calling Smartwatch with SpO2 & 1.81\\u201d Aluminium Alloy Body with Blood Oxygen Monitoring, Heart Rate, Full Touch & Multiple Watch Faces with Customization (Black)  \"],[\"Digital Dial Men's & Women's Watch(AB206-VSD)  \"],[\"Fire-Boltt Ring Bluetooth Calling Smartwatch with SpO2 & 1.7\\u201d Metal Body with Blood Oxygen Monitoring, Continuous Heart Rate, Full Touch & Multiple Watch Faces (Grey)  \"],[\"Noise Pulse Go Buzz Smart Watch with Advanced Bluetooth Calling, 1.69\\\" Display, 150+ Cloud Watch Face, SPo2, Heart Rate Tracking, 100 Sports Mode with Auto Detection, Longer Battery (Midnight Blue)  \"],[\"Men's Digital Sports Watch, LED Square Large Face Analog Quartz Wrist Watch with Multi-Time Zone Waterproof Stopwatch - 1834/1835  \"],[\"Fire-Boltt Ninja 3 Smartwatch Full Touch 1.69 \\\" & 60 Sports Modes with IP68, Sp02 Tracking, Over 100 Cloud based watch faces ( Green )  \"],[\"Fire-Boltt Gladiator 1.96\\\" Biggest Display Smart Watch with Bluetooth Calling, Voice Assistant &123 Sports Modes, 8 Unique UI Interactions, SpO2, 24/7 Heart Rate Tracking, Rs 100 Off on UPI  \"],[\"Analog Men's Watch (Black Dial Black Colored Strap)  \"],[\"Nate Chronograph Black Dial Men's Watch-JR1401  \"],[\"Fastrack Reflex Hello Smart Watch with BT Calling|Bright HD Display|AI Voice Assistant|50+ Sports Modes|100+ Watchfaces|BP Monitor|24x7 HRM| SpO2|Upto 5 Day Battery|Camera & Music Control|IP68  \"],[\"9951 Pure Black Chain Day & Date Wrist Watch Original Black Watch Analog Watch - for Men  \"],[\"Black, Blue, White Dial, Day & Date Functioning, Stainless Steel Strap Analog Watch for Men & Women  \"],[\"Men's Analog Number Dial Brown Leather Strap Watch  \"],[\"Analog Minute Track Dial Stainless Steel Chain Watch for Men  \"],[\"Antique Day & Date Leather Strap Analog Watch for Men & Boys  \"],[\"Mens Chronograph Waterproof Luxury Fashion Military Quartz Sports Analog Wristwatches  \"],[\"TrendyTap Analog Unisex Child Watch (Red Dial Red Colored Strap)  \"],[\"Analog Day Date Functioning Stainless Steel Chain Watch for Men  \"],[\"Acnos Brand 3 Color Watch with Black PU Strap Watch M2 Digital for Mens and Watches for Boy Pack of-2  \"],[\"Analog Black Dial Men's Watch-TW000U934  \"],[\"Unisex 44mm Master Chief Silicone Sport Digital Watch, Color: White (Model: DZ2157), White, One Size, Master Chief Digital Silicone Watch - DZ2157  \"],[\"Analog Black Dial Men's Watch-NG38022PP03W / NG38022PP03C  \"],[\"The Watch (Red Book 1)  \"],[\"Noise ColorFit Ultra Buzz Bluetooth Calling Smart Watch with 1.75\\\" HD Display, 320x385 px Resolution, 100 Sports Modes, Stock Market Info Smartwatch for Men & Women (Champagne Grey)  \"],[\"Men's Precisionist X 10th Anniversary Rose Gold Stainless Steel and Demascus Steel 8-Hand Chronograph Watch with Brown Leather Strap and Sapphire Crystal Style: 98B356  \"],[\"Waterproof D20 Touchscreen Smart Watch Bluetooth Smartwatch with Blood Pressure Tracking, Heart Rate Sensor and Basic Functionality for All Women and Men  \"],[\"Men's Digital Sports Watch, Waterproof LED Screen Large Face Military Watches and Heavy Duty Electronic Simple Army Watch with Alarm - 1820  \"],[\"i8 Pro Max Touch Screen Bluetooth Smartwatch with Activity Tracker Compatible with All 3G/4G/5G Android & iOS Smartphones - Black  \"],[\"Apple Watch SE (2nd Gen) [GPS 40 mm] Smart Watch w/Midnight Aluminium Case & Midnight Sport Band. Fitness & Sleep Tracker, Crash Detection, Heart Rate Monitor, Retina Display, Water Resistant  \"],[\"Analog Watches for Men  \"],[\"Super Fibre Digital Grey Dial Men's Watch-NL87011PP04/NP87011PP04  \"],[\"Beyond Gold Analog Black Dial Men's Watch-NN77031KM03/NP77031KM03  \"],[\"Luxury Analogue Girl's Watch(Multicolour Dial 1-Multicolour Colored Strap)  \"],[\"Analog Men's Watch (Black Dial Colored Strap)  \"],[\"Brand - A Digital Watch with Square LED Shockproof Multi-Functional Automatic 5 Color Army Strap Waterproof Digital Sports Watch for Men's Kids Watch for Boys - Watch for Men  \"],[\"Digital Men's Watch (Black Dial Multi Colored Strap)  \"],[\"Goldenize Fashion Multicolor Digital Dial Waterproof Stylish and Fashion Child Wrist Smart Watch LED Band for Kids,Colorful 3D Cartoon Super Hero for Kids,Boys & Girls (Pink Mouse-White Doremon)  \"],[\"Redmi Watch 2 Lite - 3.94 cm Large HD Edge Display, Multi-System Standalone GPS, Continuous SpO2, Stress & Sleep Monitoring, 24x7 HR, 5ATM, 120+ Watch Faces, 100+ Sports Modes, Women's Health, Blue  \"],[\"MARVIK Smart Watch D116 for Xiaomi Mi Note 9 Smart Watch Bluetooth SmartWatch with Activity Tracker, Heart Rate Sensor, Sleep Monitor and Basic Functionality for All Boys & Girls  \"],[\"Analogue Watch for Men and Boys  \"],[\"CrossBeats Newly launched Ignite S5 Advanced AI ENC BT Calling Smartwatch, 1.96\\u201d Super AMOLED Anti-Glare Screen, Always on Display, SnapCharge\\u2122 Calculator, 500+ Watch Faces, AI Health Feature (Black)  \"],[\"Analog Rose Gold Dial Women's Watch-NM6147NM01 / NL6147NL01/NP6147NM01  \"],[\"Sporty Digital Grey Dial Men's Watch-NL77043PP02/NP77043PP02  \"],[\"Unisex Swiss True High Tech Analogue Ceramic Watch (White)  \"],[\"Edifice Analog Red Dial Men's Watch-EFR-526D-5CVUDF  \"],[\"CYLECT Smart Watch for Men women - Smart Watches for Men Women, Bluetooth Smartwatch Touch Screen Bluetooth Smart Watches for Android iOS Phones Wrist Phone Watch, Women - pink  \"],[\"Artistic Love Symbol Butterfly Red Analog Watch for Girls and Women Watch - for Girls  \"],[\"Dean Chronograph Black Dial Men's Watch-FS4721  \"],[\"Casual Analogue Women Watch (Blue Dial Silver Colored Chain)  \"],[\"Analog-Digital Men's Watch (Black Dial)  \"],[\"SENS NUTON 1 with 1.7 IPS Display, Orbiter, 5ATM & 150+ Watch Faces & Free Additional Strap (Royal Silver)  \"],[\"Analog Grey Dial Unisex-Adult Watch-68013PP10  \"],[\"PTron Newly Launched Force X11P Bluetooth Calling Smartwatch with 1.3\\\" Full Touch Display, Heart Rate Tracking, SpO2, 100s of Watch Faces, 5 Days Runtime, Fitness Trackers & IP68 Waterproof (Black)  \"],[\"Reflex Vox Smartwatch|Alexa Built-in|Bright HD Display|Upto 10 Days Battery|5 ATM Water Resistance|Multiple Sports Modes|100+ Watchfaces|24x7 HRM|Sp02|Stress Monitor|Camera & Music Control  \"],[\"Watches for Women Stainless Steel Chain & Diamond Studded Dial Ladies Watch - Water Resistant Womens Watches  \"],[\"Diamond Studded Stylish Analogue Watch with Rose Gold Dot Bracelet for Girls & Women  \"],[\"Fitbit FB507BKBK Versa 2 Health & Fitness Smartwatch with Heart Rate, Music, Alexa Built-in, Sleep & Swim Tracking, Black/Carbon, One Size (S & L Bands Included) (Black/Carbon)  \"],[\"Outerbanks Analog Black Dial Men's Watch-AX2520  \"],[\"Newly Launched Maxima Max Pro Knight Bluetooth Calling smartwatch with 44.5mm Round Active Display of 550 Nits Brightness, Voice Assistant, HR & SpO2 Monitor,30+ Excercise Modes, inbuilt Games  \"],[\"Analog Purple Dial Unisex-Adult Watch-9915PP97  \"],[\"Analog White Dial Men's Watch-TW000U933  \"],[\"Analog Silver Dial Men's Watch-7142NL01  \"],[\"Fire-Boltt Ring Bluetooth Calling Smartwatch with SpO2 & 1.7\\u201d Metal Body with Blood Oxygen Monitoring, Continuous Heart Rate, Full Touch & Multiple Watch Faces (Blue)  \"],[\"Outdoor Sport Shockproof Led Analogue and Digital Waterproof Chronograph Watch for Men  \"],[\"Analog Silver Dial Men's Watch-FS4991  \"],[\"Venus Digital Grey Dial Men's Watch-NL7982PP01/NM7982PP01  \"],[\"Edifice Men's Tachymeter Chronograph EF-558SG-1AVDF (ED439)  \"],[\"Economy Digital Multi-color Round Dial Men's Sport Watch-NN77006PP01/NP77006PP01  \"],[\"Men's Analog Number Dial Brown Leather Strap Watch  \"],[\"Multi-Functional Boys Casual Business Mens Luxury Stylish Watch Black Dial Leather Strap Wrist Watches for Men-Daily Use Analog Digital Sports Men's Watch  \"],[\"Black Dial Arrow Analog Watch with King Bracelet for Men (Pack of 2)  \"],[\"Black, Blue, White Dial, Day & Date Functioning, Stainless Steel Strap Analog Watch for Men & Women  \"],[\"Mens Chronograph Waterproof Luxury Fashion Military Quartz Sports Analog Wristwatches  \"],[\"TrendyTap Analog Unisex Child Watch (Red Dial Red Colored Strap)  \"],[\"Analog Day Date Functioning Stainless Steel Chain Watch for Men  \"],[\"Brand - A Digital Watch with Square LED Shockproof Multi-Functional Automatic 5 Color Army Strap Waterproof Digital Sports Watch for Men's Kids Watch for Boys - Watch for Men  \"],[\"Venus Digital Grey Dial Men's Watch-NL7982PP01/NM7982PP01  \"],[\"Edifice Men's Tachymeter Chronograph EF-558SG-1AVDF (ED439)  \"],[\"Edifice Analog Red Dial Men's Watch-EFR-526D-5CVUDF  \"],[\"IMOO Watch Phone Z1 Kids Smart Watch, 4G Kids Smartwatch Phone with Long-Lasting Video & Phone Call, Kids GPS Watch with Real-time Locating & IPX8 Water-Resistance (Pink)  \"],[\"Artistic Love Symbol Butterfly Red Analog Watch for Girls and Women Watch - for Girls  \"],[\"Noise ColorFit Pro 4 Max 1.8\\\" Biggest Display, Bluetooth Calling Smart Watch, Built.in Alexa, 100 Sports Modes, Detection, Health & Productivity Suite (Jet Black)  \"],[\"Watch: A Novel  \"],[\"Apple Watch Series 8 [GPS 41 mm] Smart Watch w/Midnight Aluminium Case with Midnight Sport Band. Fitness Tracker, Blood Oxygen & ECG Apps, Always-On Retina Display, Water Resistant  \"],[\"Analog Dial Women's Watch  \"],[\"Analog Blue Dial Women's Watch-NL2574SM01/NP2574SM01  \"],[\"MARVIK Smart Watch D116 for Xiaomi Mi Note 10 Smart Watch LED with Activity Tracker, Heart Rate Sensor, Sleep Monitor and Basic Functionality for All Boys Girls  \"],[\"Analog-Digital Men's Watch (Black Dial)  \"],[\"APCSA Smart Watch for Men & Women Latest Bluetooth 1.3\\\" LED with Daily Activity Tracker, Heart Rate Sensor, BP Monitor, Sports Gym Watch for All Boys & Girls - Pink  \"],[\"Analog Grey Dial Unisex-Adult Watch-68013PP10  \"],[\"Fashion Digital Men's & Boy's Watch (Black Dial, Green Colored Strap)  \"],[\"Watches for Women Stainless Steel Chain & Diamond Studded Dial Ladies Watch - Water Resistant Womens Watches  \"],[\"Analog Men's Watch (Black Dial Colored Strap)  \"],[\"Analog Men's Watch (Dial Colored Strap)  \"],[\"Black, Blue, White Dial, Day & Date Functioning, Stainless Steel Strap Analog Watch for Men & Women  \"],[\"Analog Minute Track Dial Stainless Steel Chain Watch for Men  \"],[\"Boult Dive+ with 1.85\\\" HD Display, Bluetooth Calling Smartwatch, 500 Nits Brightness, 7 Days Battery Life, 150+ Watch Faces, 100+ Sport Modes, IP68 Waterproof Smart Watch (Jet Black)  \"],[\"Outerbanks Analog Black Dial Men's Watch-AX2520  \"],[\"Fundamentals Analog Brown Dial Men's Watch-NL38051SL02  \"],[\"Women's Watches Ladies Fashion Analogue Simple Style Watches Rose Gold Dial Alloy Strap Waterproof Watches for Watches Wife Miss Women with Birthday Gift  \"],[\"TW000R425  \"],[\"Fire-Boltt Ninja Call Pro Plus 1.83\\\" Smart Watch with Bluetooth Calling, AI Voice Assistance, 100 Sports Modes IP67 Rating, 240 * 280 Pixel High Resolution  \"],[\"Analog Purple Dial Unisex-Adult Watch-9915PP97  \"],[\"Apple Watch SE (2nd Gen) [GPS 44 mm] Smart Watch w/Starlight Aluminium Case & Starlight Sport Band. Fitness & Sleep Tracker, Crash Detection, Heart Rate Monitor, Retina Display, Water Resistant  \"],[\"Analog Silver Dial Men's Watch-7142NL01  \"],[\"Casual Analog Silver Dial Men's Watch-NL3123SM02/NP3123SM02  \"],[\"Hip Hop Analog White Dial Women's Watch-NL9827PP01/NP9827PP01  \"],[\"All Black Mesh Black Strap Day & Date Functioning Watch for Boys Analog Watch Analog-Digital Watch - for Men  \"],[\"Essentials Analog White Dial Men's Watch NM77083SM01 / NL77083SM01  \"],[\"Analog Champagne Dial Women's Watch-NL87018YM01/NP87018YM01  \"],[\"Analog Silver Dial Men's Watch-FS4991  \"],[\"Analog Black Dial Men's Watch NM7987YL03W/NN7987YL03W  \"],[\"Analog White Dial Men's Watch-7135SL03/NP7135SL03  \"],[\"Economy Digital Multi-color Round Dial Men's Sport Watch-NN77006PP01/NP77006PP01  \"],[\"Analog Gold Dial Men's Watch NM7987YL01W/NN7987YL01W/NP7987YL01W  \"],[\"Enticer Men Analog Black Dial Watch-A1821  \"],[\"Chronograph Men's Watch (Black Dial)  \"],[\"Ladies Neo-Ii Analog Black Dial Women's Watch-NL2480SM08  \"],[\"Digital Boy's & Men's Watch (Multicolour Dial Multi Colored Strap)  \"],[\"Ladies Neo-Ii Analog Blue Dial Women's Watch-NL2569SM01  \"],[\"Phile Black Dial NATO Watch  \"],[\"Timex Metalfit SPO2 smartwatch with Full Metal Body and Touch to Wake Feature, HRM, Sleep & Activity Tracker  \"],[\"Analog Dial Women's Watch  \"],[\"Zebronics DRIP Smart Watch with Bluetooth Calling, 4.3cm (1.69\\\"), 10 built-in & 100+ Watch Faces, 100+ Sport Modes, 4 built-in Games, Voice Assistant, 8 Menu UI, Fitness Health & Sleep Tracker (Black)  \"],[\"Analog Brown Dial Men's Watch-NL1584SL04/NP1584SL04  \"],[\"Neo Analog White Dial Men's Watch-NN1805SL04  \"],[\"Essentials Analog White Dial Women's Watch-NM87020SL01W / NL87020SL01W/NP87020SL01W  \"],[\"Fundamentals Analog Blue Dial Women's Watch-NL68010SM02/NP68010SM02  \"],[\"Men's Analog Number Dial Brown Leather Strap Watch  \"],[\"Analog Men's Watch (Dial Colored Strap)  \"],[\"Digital Watch Shockproof Multi-Functional Automatic Black Color Strap Waterproof Digital Sports Watch for Men's Kids Watch for Boys Watch for Men Pack of 1 Watch Water Resistance Digital Watch  \"],[\"Analog Men's Watch (Dial Colored Strap)  \"],[\"Mens Chronograph Waterproof Luxury Fashion Military Quartz Sports Analog Wristwatches  \"],[\"Analog Day Date Functioning Stainless Steel Chain Watch for Men  \"],[\"TrendyTap Analog Unisex Child Watch (Red Dial Red Colored Strap)  \"],[\"Analog Men's Watch (Black Dial Colored Strap)  \"],[\"Essentials Analog White Dial Women's Watch-NM87020SL01W / NL87020SL01W/NP87020SL01W  \"],[\"Men's Digital Sports Wrist Watch LED Screen Large Face Electronics Military Watches Waterproof Alarm Stopwatch Back Light Outdoor Casual Black Watch - 1818  \"],[\"CrossBeats Spectra max Super Retina AMOLED Always on Display Smart Watch, 1.81 Inch 368 * 448 Resolution Smartwatch, AI ENC BT Calling, Crown Controls, 250+ Watch Faces, 150+ Sports Modes-Blue  \"],[\"Digital Grey Dial Men's Watch-NL77072PP02/NP77072PP02  \"],[\"Analog-Digital Men's Watch (Black Dial)  \"],[\"Pebble Cosmos Endure 1.46\\\" AMOLED Always-On Display Bluetooth Calling IP68 Waterproof Smartwatch 466 * 466 (Glacier Blue)  \"],[\"Analog Grey Dial Unisex-Adult Watch-68013PP10  \"],[\"Edifice Analog Black Dial Men's Watch - EF-130D-1A2VDF(ED417)  \"],[\"Watches for Women Stainless Steel Chain & Diamond Studded Dial Ladies Watch - Water Resistant Womens Watches  \"],[\"Analog Silver Dial Men's Watch-NL1584SL03/NP1584SL03  \"],[\"The Watch  \"],[\"Outerbanks Analog Black Dial Men's Watch-AX2520  \"],[\"Analog Silver Dial Men's Watch-MTP-VT01L-7B2UDF (A1618)  \"],[\"Women's Watches Ladies Fashion Analogue Simple Style Watches Rose Gold Dial Alloy Strap Waterproof Watches for Watches Wife Miss Women with Birthday Gift  \"],[\"Mobivax smartwatches id116 Fit Watch for Man Women: Android iOS Sleep Heart Rate Blood Oxygen Weather Breath Training IP68 Waterproof 8 Sports 1.69Inch  \"],[\"Analog Purple Dial Unisex-Adult Watch-9915PP97  \"],[\"Brand - A Digital Watch with Square LED Shockproof Multi-Functional Automatic 5 Color Army Strap Waterproof Digital Sports Watch for Men's Kids Watch for Boys - Watch for Men  \"],[\"Analog Men's Watch (Dial Colored Strap)  \"],[\"Black, Blue, White Dial, Day & Date Functioning, Stainless Steel Strap Analog Watch for Men & Women  \"],[\"Analog Men's Watch (Dial Colored Strap)  \"],[\"SENS NUTON 1 with 1.7 IPS Display, Orbiter, 5ATM & 150+ Watch Faces & Free Additional Strap (Matte Black)  \"],[\"Analogue Women's Watch (Blue Dial Silver Colored Strap)  \"],[\"Black Round Diamond Dial with Latest Generation Purple & Rosegold Magnet Belt Analogue Watch for Women Pack of - 2 (DM-PURPLE-ROSEGOLD05)  \"],[\"Analog Gold Dial Children's Watch NKC4032PP01W / NKC4032PP01W  \"],[\"Analog Silver Dial Men's Watch-7142NL01  \"],[\"Analog Men's Watch  \"],[\"Fire-Boltt Gladiator 1.96\\\" Biggest Display Smart Watch with Bluetooth Calling, Voice Assistant &123 Sports Modes, 8 Unique UI Interactions, SpO2, 24/7 Heart Rate Tracking, Rs 100 Off on UPI  \"],[\"Economy Analog Green Dial Men's Watch-NL77007PP01  \"],[\"New Fastrack Reflex Beat+ 1.69\\u201d UltraVU Display|500 Nits Brightness|60 Sports Modes|24*7 Heart Rate Monitor|SpO2 Monitor|Sleep Tracker|IP68 Water Resistant|Music & Camera Control  \"],[\"Leather World Vegan Leather 4 Slot Watch Case Box for Men and Women (Beige)  \"],[\"Analog White Dial Men's Watch NM7987YM05W/NN7987YM05W/NP7987YM05W  \"],[\"All Black Mesh Black Strap Day & Date Functioning Watch for Boys Analog Watch Analog-Digital Watch - for Men  \"],[\"Premium Analogue Women Watch (Golden Dial Golden Colored Chain)  \"],[\"Analog Silver Dial Men's Watch-FS4991  \"],[\"Analog Black Dial Men's Watch NM7987SM04W/NN7987SM04W/NP7987SM04W  \"],[\"Classics Analog Silver Dial Men's Watch-G910  \"],[\"Economy Digital Multi-color Round Dial Men's Sport Watch-NN77006PP01/NP77006PP01  \"],[\"Boatstorm (2022) Watch Charger Magnetic 2 pin USB All Types smartwatch (Smart Watch Charger for 2 Pin)  \"],[\"Analog Grey Dial Men's Watch-MK8576  \"],[\"Analog Blue Dial Women's Watch-TW000X215  \"],[\"Fire-Boltt Ninja Call Pro Plus 1.83\\\" Smart Watch with Bluetooth Calling, AI Voice Assistance, 100 Sports Modes IP67 Rating, 240 * 280 Pixel High Resolution  \"],[\"NOVA Skeleton Automatic Watch Mechanical Wrist Watch for Men Bezel Screw Design Silicone Band Self-Wind Business Watch for Men  \"],[\"Analog White Dial Women's Watch NM8976YL02W / NL8976YL02W  \"],[\"Essentials Analog Silver Dial Men's Watch NM77082SL01W/NN77082SL01W  \"],[\"Stylish and Fashionable Waterproof LED Square Dial Watch for Boys and Girls  \"],[\"Samsung Galaxy Watch4 LTE (4.4 cm, Black, Compatible with Android only)  \"],[\"Fire-Boltt Ninja 3 1.83\\\" Display Smartwatch Full Touch with 100+ Sports Modes with IP68, Sp02 Tracking, Over 100 Cloud Based Watch Faces  \"],[\"Enticer Men Analog Black Dial Watch-A1821  \"],[\"Chronograph Men's Watch (Black Dial)  \"],[\"Apple Watch Series 8 [GPS + Cellular 45 mm] Smart Watch w/Gold Stainless Steel Case with Gold Milanese Loop. Fitness Tracker, Blood Oxygen & ECG Apps, Always- On Retina Display, Water Resistant  \"],[\"Fire-Boltt Ninja 3 Smartwatch Full Touch 1.69 \\\" & 60 Sports Modes with IP68, Sp02 Tracking, Over 100 Cloud based watch faces ( Green )  \"],[\"Men's Analog Number Dial Brown Leather Strap Watch  \"],[\"Analog Minute Track Dial Stainless Steel Chain Watch for Men  \"],[\"Analog Men's Watch (Dial Colored Strap)  \"],[\"Antique Day & Date Leather Strap Analog Watch for Men & Boys  \"],[\"Mens Chronograph Waterproof Luxury Fashion Military Quartz Sports Analog Wristwatches  \"],[\"Analog Day Date Functioning Stainless Steel Chain Watch for Men  \"],[\"TrendyTap Analog Unisex Child Watch (Red Dial Red Colored Strap)  \"],[\"Analog Men's Watch (Black Dial Colored Strap)  \"],[\"Women's Watches Ladies Fashion Analogue Simple Style Watches Rose Gold Dial Alloy Strap Waterproof Watches for Watches Wife Miss Women with Birthday Gift  \"],[\"Fire-Boltt Ninja 3 Smartwatch Full Touch 1.69 \\\" & 60 Sports Modes with IP68, Sp02 Tracking, Over 100 Cloud based watch faces ( Green )  \"],[\"Volt+ Analog Black Dial Men's Watch NM77086PL01 / NL77086PL01/NP77086PL01W  \"],[\"Analog Purple Dial Unisex-Adult Watch-9915PP97  \"],[\"Maxima New Samurai Smartwatch 1.85\\\", 1st Time Call Accept Feature, Hindi Language Support, 600Nits Brightness, Longer Battery, in-App GPS,100+ Watch Faces, Multisport Modes,HR/SpO2 (Gold Peach)  \"],[\"Analog OffWhite Dial Men's Watch NM1712YM02 / NL1712YM02  \"],[\"Analog Silver Dial Men's Watch-7142NL01  \"],[\"Analog White Dial Men's Watch-NL77049SM02/NP77049SM02  \"],[\"Analog Black Dial Men's Watch-TW000U913  \"],[\"Analog Multicolor Small Dial Men's Watch -NM7987SL01W / NL7987SL01W  \"],[\"Apple Watch Series 8 [GPS + Cellular 45 mm] Smart Watch w/Gold Stainless Steel Case with Gold Milanese Loop. Fitness Tracker, Blood Oxygen & ECG Apps, Always- On Retina Display, Water Resistant  \"],[\"Analogue Unisex Couple Combo Watch for Men & Women (Brown Dial & Colored Strap) -W246-236BR  \"],[\"Analog-Digital Black Dial Men's Watch-NL38035SL03/NP38035SL03  \"],[\"(Renewed) boAt Wave Call Smart Watch, Smart Talk with Bluetooth Calling Chip, 1.69 HD Display with 550 NITS & 70% Color Gamut, 150+ Watch Faces, Multi-Sport Modes,HR,SpO2, IP68(Active Black)  \"],[\"Economy Analog Green Dial Men's Watch-NL77007PP01  \"],[\"Neo Analog Silver Dial Men's Watch-NN1733KM03  \"],[\"Analog Men's Watch (Dial Colored Strap)  \"],[\"Analog Men's Watch (Dial Colored Strap)  \"],[\"Brand - A Digital Watch with Square LED Shockproof Multi-Functional Automatic 5 Color Army Strap Waterproof Digital Sports Watch for Men's Kids Watch for Boys - Watch for Men  \"],[\"Analog Minute Track Dial Stainless Steel Chain Watch for Men  \"],[\"Leather World Vegan Leather 4 Slot Watch Case Box for Men and Women (Beige)  \"],[\"Enticer Analog Dial Watch  \"],[\"The Watch: Stories (Norton Paperback Fiction)  \"],[\"All Black Mesh Black Strap Day & Date Functioning Watch for Boys Analog Watch Analog-Digital Watch - for Men  \"],[\"Classics Analog Silver Dial Men's Watch-TI000R40900  \"],[\"Formal Analog Black Dial Men's Watch NM7924NM01/NN7924NM01  \"],[\"Analog Silver Dial Men's Watch-FS4991  \"],[\"Apple Watch Ultra [GPS + Cellular 49 mm] smart watch w/Rugged Titanium Case & Green Alpine Loop - Medium. Fitness Tracker, Precision GPS, Action Button, Extra-Long BatteryLife, Brighter Retina Display  \"],[\"Apple Watch SE (GPS + Cellular, 44mm) - Space Grey Aluminium Case with Midnight Sport Band - Regular  \"],[\"Economy Digital Multi-color Round Dial Men's Sport Watch-NN77006PP01/NP77006PP01  \"],[\"Analog White Dial Men's Watch-NN7954YM01W/NP7954YM01W  \"],[\"Analog Grey Dial Men's Watch-MK8576  \"],[\"Casual Analog Black Dial Men's Watch-NL3121SM02/NP3121SM02  \"],[\"NOVA Skeleton Automatic Watch Mechanical Wrist Watch for Men Bezel Screw Design Silicone Band Self-Wind Business Watch for Men  \"],[\"Karishma Revive Analog Silver Dial Women's Watch-NN2593SM01/NP2593SM01  \"],[\"Digital Grey Square Dial Men's Sport Watch-NL77043PP01A/NP77043PP01  \"],[\"Stylish and Fashionable Waterproof LED Square Dial Watch for Boys and Girls  \"],[\"Apple Watch Ultra [GPS + Cellular 49 mm] Smart Watch w/Rugged Titanium Case & Yellow Ocean Band. Fitness Tracker, Precision GPS, Action Button, Extra-Long BatteryLife, Brighter Retina Display  \"],[\"Enticer Men Analog Black Dial Watch-A1821  \"],[\"Super Fibre Digital Grey Dial Men's Watch-NL87012PP03/NP87012PP03  \"],[\"Chronograph Men's Watch (Black Dial)  \"],[\"Analog Black Dial Men's Watch-MTP-VT01D-1BUDF (A1612)  \"],[\"Digital Boy's & Men's Watch (Multicolour Dial Multi Colored Strap)  \"],[\"Fire-Boltt Eterno 1.99\\\" Largest Display, Bluetooth Calling Smartwatch with 1184mm Display Area, AI Voice Assistant, 120+ Sports Modes (Yoga) with Smart Split Screen to Toggle between functions, Gaming on the Wrist  \"],[\"Black dial-case and Black Leather Watch for Men Pack of - 1  \"],[\"SAEMPIRE OnePlus Nord Watch Screen Guard Screen Protector Compatible For OnePlus Nord Watch 1.78\\\" Smart Watch -Flexible TPU (Not A Tempered glass) (Pack of 2)  \"],[\"Casual Analog Black Dial Women's Watch-6248NM01  \"],[\"Octane Analog Silver Dial Men's Watch-NL1650BM03/NP1650BM03  \"],[\"Analogue Men's Watch (Pack of 3) (Multicolored Dial Multicolored Colored Strap)  \"],[\"Analog Gold Dial Women's Watch-DK11430-4  \"],[\"Ladies Neo-Ii Analog Rose Gold Dial Women's Watch-NL2480KM01  \"],[\"Venus Digital Grey Dial Men's Watch-NL7982PP03  \"],[\"Men's Analog Number Dial Brown Leather Strap Watch  \"],[\"Black, Blue, White Dial, Day & Date Functioning, Stainless Steel Strap Analog Watch for Men & Women  \"],[\"Analog Men's Watch (Dial Colored Strap)  \"],[\"Antique Day & Date Leather Strap Analog Watch for Men & Boys  \"],[\"Mens Chronograph Waterproof Luxury Fashion Military Quartz Sports Analog Wristwatches  \"],[\"Analog Day Date Functioning Stainless Steel Chain Watch for Men  \"],[\"TrendyTap Analog Unisex Child Watch (Red Dial Red Colored Strap)  \"],[\"Analog Men's Watch (Black Dial Colored Strap)  \"],[\"Casual Analog Black Dial Women's Watch-6248NM01  \"],[\"Octane Analog Silver Dial Men's Watch-NL1650BM03/NP1650BM03  \"],[\"Analogue Men's Watch (Pack of 3) (Multicolored Dial Multicolored Colored Strap)  \"],[\"Enticer Analog Dial Watch  \"],[\"Ladies Neo-Ii Analog Rose Gold Dial Women's Watch-NL2480KM01  \"],[\"Analog Gold Dial Women's Watch-DK11430-4  \"],[\"Venus Digital Grey Dial Men's Watch-NL7982PP03  \"],[\"Ladies Neo Economy Analog White Dial Women's Watch 2639SL04/NN2639SL04/NP2639SL04  \"],[\"Analog Men's Watch (Dial Colored Strap)  \"],[\"Axial Digital Black Dial Men's Watch-DZT2017  \"],[\"Analog Gold Dial Women's Watch-TW000Q810  \"],[\"Automatic Mechanical Skeleton Transparent Analog Mesh Steel Band Men's Watch - FSG8181  \"],[\"Digital Grey Round Dial Men's Sport Watch-NN77072PP04  \"],[\"Phile Black Dial NATO Watch  \"],[\"Mizi Portable Samsung Galaxy Watch 5/4 / 3 Charger USB Travel Cordless Wireless Charger Keychain for Samsung Galaxy Watch 4 Classic Watch 3 Active Active 2 Gear S3 - Black  \"],[\"Digital Baby Boy's Watch (Black Dial Black Colored Strap)  \"],[\"Multi-Functional Boys Casual Business Mens Luxury Stylish Watch Black Dial Leather Strap Wrist Watches for Men-Daily Use Analog Digital Sports Men's Watch  \"],[\"Digital Men's Watch (Black Dial Multi Colored Strap)  \"],[\"Acnos Brand 3 Color Watch with Black PU Strap Watch M2 Digital for Mens and Watches for Boy Pack of-2  \"],[\"Analog Men's Watch (Dial Colored Strap)  \"],[\"Analogue Men's Watch (Silver Dial Silver Colored Strap)  \"],[\"Classics Analog White Dial Men's Watch-A300  \"],[\"Brand - A Digital Watch with Square LED Shockproof Multi-Functional Automatic 5 Color Army Strap Waterproof Digital Sports Watch for Men's Kids Watch for Boys - Watch for Men  \"],[\"Men's Analog Number Dial Brown Leather Strap Watch  \"],[\"Analog Men's Watch (Dial Colored Strap)  \"],[\"Black, Blue, White Dial, Day & Date Functioning, Stainless Steel Strap Analog Watch for Men & Women  \"],[\"Mens Chronograph Waterproof Luxury Fashion Military Quartz Sports Analog Wristwatches  \"],[\"Analog Day Date Functioning Stainless Steel Chain Watch for Men  \"],[\"TrendyTap Analog Unisex Child Watch (Red Dial Red Colored Strap)  \"],[\"Analog Men's Watch (Black Dial Colored Strap)  \"],[\"Multi-Functional Boys Casual Business Mens Luxury Stylish Watch Black Dial Leather Strap Wrist Watches for Men-Daily Use Analog Digital Sports Men's Watch  \"],[\"Analogue Dual Time S Shock Digital Watch for Boys & Girls | Digital Men's Watch | Golden Dial Sports Watch for Boy (Black)  \"],[\"Digital Men's Watch (Black Dial Multi Colored Strap)  \"],[\"Acnos Brand 3 Color Watch with Black PU Strap Watch M2 Digital for Mens and Watches for Boy Pack of-2  \"],[\"Men's Analog Number Dial Brown Leather Strap Watch  \"],[\"Brand - A Digital Watch with Square LED Shockproof Multi-Functional Automatic 5 Color Army Strap Waterproof Digital Sports Watch for Men's Kids Watch for Boys - Watch for Men  \"],[\"Analog Men's Watch (Dial Colored Strap)  \"],[\"Black, Blue, White Dial, Day & Date Functioning, Stainless Steel Strap Analog Watch for Men & Women  \"],[\"Mens Chronograph Waterproof Luxury Fashion Military Quartz Sports Analog Wristwatches  \"],[\"Analog Day Date Functioning Stainless Steel Chain Watch for Men  \"],[\"TrendyTap Analog Unisex Child Watch (Red Dial Red Colored Strap)  \"],[\"Analog Minute Track Dial Stainless Steel Chain Watch for Men  \"],[\"Analog Men's Watch (Black Dial Colored Strap)  \"],[\"Multi-Functional Boys Casual Business Mens Luxury Stylish Watch Black Dial Leather Strap Wrist Watches for Men-Daily Use Analog Digital Sports Men's Watch  \"],[\"Digital Men's Watch (Black Dial Multi Colored Strap)  \"],[\"Acnos Brand 3 Color Watch with Black PU Strap Watch M2 Digital for Mens and Watches for Boy Pack of-2  \"],[\"Men's Analog Number Dial Brown Leather Strap Watch  \"],[\"Analog Men's Watch (Dial Colored Strap)  \"],[\"Brand - A Digital Watch with Square LED Shockproof Multi-Functional Automatic 5 Color Army Strap Waterproof Digital Sports Watch for Men's Kids Watch for Boys - Watch for Men  \"],[\"Analog Men's Watch (Dial Colored Strap)  \"],[\"Mens Chronograph Waterproof Luxury Fashion Military Quartz Sports Analog Wristwatches  \"],[\"Analog Day Date Functioning Stainless Steel Chain Watch for Men  \"],[\"TrendyTap Analog Unisex Child Watch (Red Dial Red Colored Strap)  \"],[\"Analog Minute Track Dial Stainless Steel Chain Watch for Men  \"],[\"Analog Men's Watch (Black Dial Colored Strap)  \"],[\"Men's Military Watches Outdoor Sports Digital Watch Waterproof LED Date Alarm Wrist Watches for Men 8007 Dark Green  \"],[\"Men's Military Watches Outdoor Sports Digital Watch Waterproof LED Date Alarm Wrist Watches for Men 8007 Green  \"],[\"TWHG03SMU04  \"],[\"Men's Analog Number Dial Brown Leather Strap Watch  \"],[\"Analog Men's Watch (Dial Colored Strap)  \"],[\"Brand - A Digital Watch with Square LED Shockproof Multi-Functional Automatic 5 Color Army Strap Waterproof Digital Sports Watch for Men's Kids Watch for Boys - Watch for Men  \"],[\"Black, Blue, White Dial, Day & Date Functioning, Stainless Steel Strap Analog Watch for Men & Women  \"]],\"hovertemplate\":\"clean_price=%{x}<br>clean_rating=%{y}<br>title=%{customdata[0]}<extra></extra>\",\"legendgroup\":\"\",\"marker\":{\"color\":\"#636efa\",\"symbol\":\"circle\"},\"mode\":\"markers\",\"name\":\"\",\"orientation\":\"v\",\"showlegend\":false,\"x\":[2699.0,1499.0,849.0,849.0,329.0,1499.0,1199.0,249.0,249.0,249.0,349.0,299.0,389.0,299.0,149.0,299.0,1199.0,1299.0,799.0,1799.0,278.0,399.0,284.0,849.0,849.0,1795.0,326.0,625.0,2032.0,1095.0,499.0,1095.0,17495.0,480.0,319.0,419.0,4999.0,289.0,1199.0,399.0,329.0,2199.0,319.0,2499.0,990.0,2499.0,299.0,499.0,2999.0,449.0,129.0,285.0,266.0,799.0,299.0,8625.0,1109.0,249.0,895.0,2499.0,295.0,188.0,399.0,149.0,499.0,339.0,470.0,265.0,45400.0,2695.0,1799.0,1499.0,95.0,1549.0,0.0,2099.0,2099.0,399.0,2199.0,319.0,325.0,1549.0,125.0,599.0,1999.0,95.0,499.0,2890.0,499.0,2994.0,919.0,390.0,332.0,249.0,1299.0,1799.0,990.0,319.0,399.0,329.0,399.0,1499.0,265.0,499.0,899.0,875.0,1299.0,249.0,1695.0,1799.0,535.0,12995.0,11999.0,499.0,1499.0,429.0,1499.0,249.0,399.0,241.0,2695.0,12995.0,1798.0,299.0,2299.0,1599.0,839.0,1299.0,2499.0,246.0,14995.0,3995.0,399.0,329.0,201.0,279.0,299.0,2199.0,399.0,319.0,284.0,1299.0,13995.0,795.0,446.0,1999.0,213391.0,332.0,799.0,919.0,29003.0,955.0,600.0,2149.0,385.0,319.0,325.0,449.0,369.0,2499.0,494.0,219.0,4499.0,2495.0,448.0,2999.0,8495.0,598.0,189.0,8636.0,282.0,2351.0,1099.0,950.0,1299.0,1995.0,399.0,240.0,11999.0,4797.0,2475.0,995.0,1599.0,1099.0,2299.0,990.0,8796.0,499.0,15995.0,748.0,201.0,986.0,429.0,329.0,2199.0,399.0,319.0,325.0,499.0,15995.0,8495.0,9990.0,189.0,3999.0,939.0,41900.0,2415.0,1795.0,449.0,2351.0,599.0,950.0,521.0,399.0,319.0,399.0,329.0,279.0,1999.0,4797.0,1550.0,2399.0,1299.0,1799.0,995.0,29400.0,1099.0,1895.0,1960.0,249.0,1099.0,825.0,8796.0,699.0,875.0,748.0,625.0,3795.0,12995.0,2396.0,231.0,4795.0,786.0,1199.0,1490.0,1799.0,2695.0,5795.0,749.0,1550.0,201.0,249.0,280.0,399.0,2199.0,319.0,399.0,319.0,749.0,975.0,3749.0,599.0,2351.0,4999.0,950.0,8495.0,399.0,2695.0,0.0,4797.0,3295.0,2399.0,499.0,995.0,325.0,399.0,329.0,399.0,1099.0,299.0,345.0,725.0,1099.0,849.0,2499.0,649.0,1695.0,439.0,999.0,249.0,569.0,8796.0,675.0,1449.0,748.0,199.0,7247.0,1849.0,1799.0,3490.0,625.0,799.0,289.0,17999.0,1299.0,3795.0,12995.0,80900.0,1299.0,201.0,279.0,249.0,299.0,2199.0,319.0,399.0,319.0,2399.0,1299.0,875.0,995.0,1499.0,1995.0,1099.0,685.0,2252.0,1775.0,80900.0,419.0,4495.0,1490.0,649.0,6195.0,249.0,399.0,325.0,279.0,439.0,5995.0,1125.0,249.0,1046.0,1725.0,8796.0,82999.0,32400.0,748.0,1499.0,7247.0,1850.0,3490.0,1720.0,503.0,289.0,87203.0,3795.0,585.0,12995.0,3795.0,231.0,2499.0,245.0,126.0,1795.0,3445.0,355.0,2394.0,2396.0,475.0,201.0,329.0,399.0,299.0,2199.0,319.0,399.0,319.0,1795.0,3445.0,355.0,3395.0,2396.0,2394.0,475.0,1596.0,2890.0,10398.0,2249.0,3954.0,599.0,786.0,599.0,185.0,986.0,449.0,284.0,249.0,322.0,492.0,325.0,201.0,399.0,329.0,2199.0,319.0,399.0,319.0,986.0,625.0,449.0,284.0,201.0,325.0,399.0,329.0,2199.0,319.0,399.0,279.0,319.0,986.0,449.0,284.0,201.0,399.0,325.0,249.0,2199.0,319.0,399.0,279.0,319.0,989.0,989.0,3199.0,201.0,399.0,325.0,329.0],\"xaxis\":\"x\",\"y\":[2699.0,1499.0,849.0,849.0,329.0,1499.0,1199.0,249.0,249.0,249.0,349.0,299.0,389.0,299.0,149.0,299.0,1199.0,1299.0,799.0,1799.0,278.0,399.0,284.0,849.0,849.0,1795.0,326.0,625.0,2032.0,1095.0,499.0,1095.0,17495.0,480.0,319.0,419.0,4999.0,289.0,1199.0,399.0,329.0,2199.0,319.0,2499.0,990.0,2499.0,299.0,499.0,2999.0,449.0,129.0,285.0,266.0,799.0,299.0,8625.0,1109.0,249.0,895.0,2499.0,295.0,188.0,399.0,149.0,499.0,339.0,470.0,265.0,45400.0,2695.0,1799.0,1499.0,95.0,1549.0,0.0,2099.0,2099.0,399.0,2199.0,319.0,325.0,1549.0,125.0,599.0,1999.0,95.0,499.0,2890.0,499.0,2994.0,919.0,390.0,332.0,249.0,1299.0,1799.0,990.0,319.0,399.0,329.0,399.0,1499.0,265.0,499.0,899.0,875.0,1299.0,249.0,1695.0,1799.0,535.0,12995.0,11999.0,499.0,1499.0,429.0,1499.0,249.0,399.0,241.0,2695.0,12995.0,1798.0,299.0,2299.0,1599.0,839.0,1299.0,2499.0,246.0,14995.0,3995.0,399.0,329.0,201.0,279.0,299.0,2199.0,399.0,319.0,284.0,1299.0,13995.0,795.0,446.0,1999.0,213391.0,332.0,799.0,919.0,29003.0,955.0,600.0,2149.0,385.0,319.0,325.0,449.0,369.0,2499.0,494.0,219.0,4499.0,2495.0,448.0,2999.0,8495.0,598.0,189.0,8636.0,282.0,2351.0,1099.0,950.0,1299.0,1995.0,399.0,240.0,11999.0,4797.0,2475.0,995.0,1599.0,1099.0,2299.0,990.0,8796.0,499.0,15995.0,748.0,201.0,986.0,429.0,329.0,2199.0,399.0,319.0,325.0,499.0,15995.0,8495.0,9990.0,189.0,3999.0,939.0,41900.0,2415.0,1795.0,449.0,2351.0,599.0,950.0,521.0,399.0,319.0,399.0,329.0,279.0,1999.0,4797.0,1550.0,2399.0,1299.0,1799.0,995.0,29400.0,1099.0,1895.0,1960.0,249.0,1099.0,825.0,8796.0,699.0,875.0,748.0,625.0,3795.0,12995.0,2396.0,231.0,4795.0,786.0,1199.0,1490.0,1799.0,2695.0,5795.0,749.0,1550.0,201.0,249.0,280.0,399.0,2199.0,319.0,399.0,319.0,749.0,975.0,3749.0,599.0,2351.0,4999.0,950.0,8495.0,399.0,2695.0,0.0,4797.0,3295.0,2399.0,499.0,995.0,325.0,399.0,329.0,399.0,1099.0,299.0,345.0,725.0,1099.0,849.0,2499.0,649.0,1695.0,439.0,999.0,249.0,569.0,8796.0,675.0,1449.0,748.0,199.0,7247.0,1849.0,1799.0,3490.0,625.0,799.0,289.0,17999.0,1299.0,3795.0,12995.0,80900.0,1299.0,201.0,279.0,249.0,299.0,2199.0,319.0,399.0,319.0,2399.0,1299.0,875.0,995.0,1499.0,1995.0,1099.0,685.0,2252.0,1775.0,80900.0,419.0,4495.0,1490.0,649.0,6195.0,249.0,399.0,325.0,279.0,439.0,5995.0,1125.0,249.0,1046.0,1725.0,8796.0,82999.0,32400.0,748.0,1499.0,7247.0,1850.0,3490.0,1720.0,503.0,289.0,87203.0,3795.0,585.0,12995.0,3795.0,231.0,2499.0,245.0,126.0,1795.0,3445.0,355.0,2394.0,2396.0,475.0,201.0,329.0,399.0,299.0,2199.0,319.0,399.0,319.0,1795.0,3445.0,355.0,3395.0,2396.0,2394.0,475.0,1596.0,2890.0,10398.0,2249.0,3954.0,599.0,786.0,599.0,185.0,986.0,449.0,284.0,249.0,322.0,492.0,325.0,201.0,399.0,329.0,2199.0,319.0,399.0,319.0,986.0,625.0,449.0,284.0,201.0,325.0,399.0,329.0,2199.0,319.0,399.0,279.0,319.0,986.0,449.0,284.0,201.0,399.0,325.0,249.0,2199.0,319.0,399.0,279.0,319.0,989.0,989.0,3199.0,201.0,399.0,325.0,329.0],\"yaxis\":\"y\",\"type\":\"scatter\"}],                        {\"template\":{\"data\":{\"histogram2dcontour\":[{\"type\":\"histogram2dcontour\",\"colorbar\":{\"outlinewidth\":0,\"ticks\":\"\"},\"colorscale\":[[0.0,\"#0d0887\"],[0.1111111111111111,\"#46039f\"],[0.2222222222222222,\"#7201a8\"],[0.3333333333333333,\"#9c179e\"],[0.4444444444444444,\"#bd3786\"],[0.5555555555555556,\"#d8576b\"],[0.6666666666666666,\"#ed7953\"],[0.7777777777777778,\"#fb9f3a\"],[0.8888888888888888,\"#fdca26\"],[1.0,\"#f0f921\"]]}],\"choropleth\":[{\"type\":\"choropleth\",\"colorbar\":{\"outlinewidth\":0,\"ticks\":\"\"}}],\"histogram2d\":[{\"type\":\"histogram2d\",\"colorbar\":{\"outlinewidth\":0,\"ticks\":\"\"},\"colorscale\":[[0.0,\"#0d0887\"],[0.1111111111111111,\"#46039f\"],[0.2222222222222222,\"#7201a8\"],[0.3333333333333333,\"#9c179e\"],[0.4444444444444444,\"#bd3786\"],[0.5555555555555556,\"#d8576b\"],[0.6666666666666666,\"#ed7953\"],[0.7777777777777778,\"#fb9f3a\"],[0.8888888888888888,\"#fdca26\"],[1.0,\"#f0f921\"]]}],\"heatmap\":[{\"type\":\"heatmap\",\"colorbar\":{\"outlinewidth\":0,\"ticks\":\"\"},\"colorscale\":[[0.0,\"#0d0887\"],[0.1111111111111111,\"#46039f\"],[0.2222222222222222,\"#7201a8\"],[0.3333333333333333,\"#9c179e\"],[0.4444444444444444,\"#bd3786\"],[0.5555555555555556,\"#d8576b\"],[0.6666666666666666,\"#ed7953\"],[0.7777777777777778,\"#fb9f3a\"],[0.8888888888888888,\"#fdca26\"],[1.0,\"#f0f921\"]]}],\"heatmapgl\":[{\"type\":\"heatmapgl\",\"colorbar\":{\"outlinewidth\":0,\"ticks\":\"\"},\"colorscale\":[[0.0,\"#0d0887\"],[0.1111111111111111,\"#46039f\"],[0.2222222222222222,\"#7201a8\"],[0.3333333333333333,\"#9c179e\"],[0.4444444444444444,\"#bd3786\"],[0.5555555555555556,\"#d8576b\"],[0.6666666666666666,\"#ed7953\"],[0.7777777777777778,\"#fb9f3a\"],[0.8888888888888888,\"#fdca26\"],[1.0,\"#f0f921\"]]}],\"contourcarpet\":[{\"type\":\"contourcarpet\",\"colorbar\":{\"outlinewidth\":0,\"ticks\":\"\"}}],\"contour\":[{\"type\":\"contour\",\"colorbar\":{\"outlinewidth\":0,\"ticks\":\"\"},\"colorscale\":[[0.0,\"#0d0887\"],[0.1111111111111111,\"#46039f\"],[0.2222222222222222,\"#7201a8\"],[0.3333333333333333,\"#9c179e\"],[0.4444444444444444,\"#bd3786\"],[0.5555555555555556,\"#d8576b\"],[0.6666666666666666,\"#ed7953\"],[0.7777777777777778,\"#fb9f3a\"],[0.8888888888888888,\"#fdca26\"],[1.0,\"#f0f921\"]]}],\"surface\":[{\"type\":\"surface\",\"colorbar\":{\"outlinewidth\":0,\"ticks\":\"\"},\"colorscale\":[[0.0,\"#0d0887\"],[0.1111111111111111,\"#46039f\"],[0.2222222222222222,\"#7201a8\"],[0.3333333333333333,\"#9c179e\"],[0.4444444444444444,\"#bd3786\"],[0.5555555555555556,\"#d8576b\"],[0.6666666666666666,\"#ed7953\"],[0.7777777777777778,\"#fb9f3a\"],[0.8888888888888888,\"#fdca26\"],[1.0,\"#f0f921\"]]}],\"mesh3d\":[{\"type\":\"mesh3d\",\"colorbar\":{\"outlinewidth\":0,\"ticks\":\"\"}}],\"scatter\":[{\"fillpattern\":{\"fillmode\":\"overlay\",\"size\":10,\"solidity\":0.2},\"type\":\"scatter\"}],\"parcoords\":[{\"type\":\"parcoords\",\"line\":{\"colorbar\":{\"outlinewidth\":0,\"ticks\":\"\"}}}],\"scatterpolargl\":[{\"type\":\"scatterpolargl\",\"marker\":{\"colorbar\":{\"outlinewidth\":0,\"ticks\":\"\"}}}],\"bar\":[{\"error_x\":{\"color\":\"#2a3f5f\"},\"error_y\":{\"color\":\"#2a3f5f\"},\"marker\":{\"line\":{\"color\":\"#E5ECF6\",\"width\":0.5},\"pattern\":{\"fillmode\":\"overlay\",\"size\":10,\"solidity\":0.2}},\"type\":\"bar\"}],\"scattergeo\":[{\"type\":\"scattergeo\",\"marker\":{\"colorbar\":{\"outlinewidth\":0,\"ticks\":\"\"}}}],\"scatterpolar\":[{\"type\":\"scatterpolar\",\"marker\":{\"colorbar\":{\"outlinewidth\":0,\"ticks\":\"\"}}}],\"histogram\":[{\"marker\":{\"pattern\":{\"fillmode\":\"overlay\",\"size\":10,\"solidity\":0.2}},\"type\":\"histogram\"}],\"scattergl\":[{\"type\":\"scattergl\",\"marker\":{\"colorbar\":{\"outlinewidth\":0,\"ticks\":\"\"}}}],\"scatter3d\":[{\"type\":\"scatter3d\",\"line\":{\"colorbar\":{\"outlinewidth\":0,\"ticks\":\"\"}},\"marker\":{\"colorbar\":{\"outlinewidth\":0,\"ticks\":\"\"}}}],\"scattermapbox\":[{\"type\":\"scattermapbox\",\"marker\":{\"colorbar\":{\"outlinewidth\":0,\"ticks\":\"\"}}}],\"scatterternary\":[{\"type\":\"scatterternary\",\"marker\":{\"colorbar\":{\"outlinewidth\":0,\"ticks\":\"\"}}}],\"scattercarpet\":[{\"type\":\"scattercarpet\",\"marker\":{\"colorbar\":{\"outlinewidth\":0,\"ticks\":\"\"}}}],\"carpet\":[{\"aaxis\":{\"endlinecolor\":\"#2a3f5f\",\"gridcolor\":\"white\",\"linecolor\":\"white\",\"minorgridcolor\":\"white\",\"startlinecolor\":\"#2a3f5f\"},\"baxis\":{\"endlinecolor\":\"#2a3f5f\",\"gridcolor\":\"white\",\"linecolor\":\"white\",\"minorgridcolor\":\"white\",\"startlinecolor\":\"#2a3f5f\"},\"type\":\"carpet\"}],\"table\":[{\"cells\":{\"fill\":{\"color\":\"#EBF0F8\"},\"line\":{\"color\":\"white\"}},\"header\":{\"fill\":{\"color\":\"#C8D4E3\"},\"line\":{\"color\":\"white\"}},\"type\":\"table\"}],\"barpolar\":[{\"marker\":{\"line\":{\"color\":\"#E5ECF6\",\"width\":0.5},\"pattern\":{\"fillmode\":\"overlay\",\"size\":10,\"solidity\":0.2}},\"type\":\"barpolar\"}],\"pie\":[{\"automargin\":true,\"type\":\"pie\"}]},\"layout\":{\"autotypenumbers\":\"strict\",\"colorway\":[\"#636efa\",\"#EF553B\",\"#00cc96\",\"#ab63fa\",\"#FFA15A\",\"#19d3f3\",\"#FF6692\",\"#B6E880\",\"#FF97FF\",\"#FECB52\"],\"font\":{\"color\":\"#2a3f5f\"},\"hovermode\":\"closest\",\"hoverlabel\":{\"align\":\"left\"},\"paper_bgcolor\":\"white\",\"plot_bgcolor\":\"#E5ECF6\",\"polar\":{\"bgcolor\":\"#E5ECF6\",\"angularaxis\":{\"gridcolor\":\"white\",\"linecolor\":\"white\",\"ticks\":\"\"},\"radialaxis\":{\"gridcolor\":\"white\",\"linecolor\":\"white\",\"ticks\":\"\"}},\"ternary\":{\"bgcolor\":\"#E5ECF6\",\"aaxis\":{\"gridcolor\":\"white\",\"linecolor\":\"white\",\"ticks\":\"\"},\"baxis\":{\"gridcolor\":\"white\",\"linecolor\":\"white\",\"ticks\":\"\"},\"caxis\":{\"gridcolor\":\"white\",\"linecolor\":\"white\",\"ticks\":\"\"}},\"coloraxis\":{\"colorbar\":{\"outlinewidth\":0,\"ticks\":\"\"}},\"colorscale\":{\"sequential\":[[0.0,\"#0d0887\"],[0.1111111111111111,\"#46039f\"],[0.2222222222222222,\"#7201a8\"],[0.3333333333333333,\"#9c179e\"],[0.4444444444444444,\"#bd3786\"],[0.5555555555555556,\"#d8576b\"],[0.6666666666666666,\"#ed7953\"],[0.7777777777777778,\"#fb9f3a\"],[0.8888888888888888,\"#fdca26\"],[1.0,\"#f0f921\"]],\"sequentialminus\":[[0.0,\"#0d0887\"],[0.1111111111111111,\"#46039f\"],[0.2222222222222222,\"#7201a8\"],[0.3333333333333333,\"#9c179e\"],[0.4444444444444444,\"#bd3786\"],[0.5555555555555556,\"#d8576b\"],[0.6666666666666666,\"#ed7953\"],[0.7777777777777778,\"#fb9f3a\"],[0.8888888888888888,\"#fdca26\"],[1.0,\"#f0f921\"]],\"diverging\":[[0,\"#8e0152\"],[0.1,\"#c51b7d\"],[0.2,\"#de77ae\"],[0.3,\"#f1b6da\"],[0.4,\"#fde0ef\"],[0.5,\"#f7f7f7\"],[0.6,\"#e6f5d0\"],[0.7,\"#b8e186\"],[0.8,\"#7fbc41\"],[0.9,\"#4d9221\"],[1,\"#276419\"]]},\"xaxis\":{\"gridcolor\":\"white\",\"linecolor\":\"white\",\"ticks\":\"\",\"title\":{\"standoff\":15},\"zerolinecolor\":\"white\",\"automargin\":true,\"zerolinewidth\":2},\"yaxis\":{\"gridcolor\":\"white\",\"linecolor\":\"white\",\"ticks\":\"\",\"title\":{\"standoff\":15},\"zerolinecolor\":\"white\",\"automargin\":true,\"zerolinewidth\":2},\"scene\":{\"xaxis\":{\"backgroundcolor\":\"#E5ECF6\",\"gridcolor\":\"white\",\"linecolor\":\"white\",\"showbackground\":true,\"ticks\":\"\",\"zerolinecolor\":\"white\",\"gridwidth\":2},\"yaxis\":{\"backgroundcolor\":\"#E5ECF6\",\"gridcolor\":\"white\",\"linecolor\":\"white\",\"showbackground\":true,\"ticks\":\"\",\"zerolinecolor\":\"white\",\"gridwidth\":2},\"zaxis\":{\"backgroundcolor\":\"#E5ECF6\",\"gridcolor\":\"white\",\"linecolor\":\"white\",\"showbackground\":true,\"ticks\":\"\",\"zerolinecolor\":\"white\",\"gridwidth\":2}},\"shapedefaults\":{\"line\":{\"color\":\"#2a3f5f\"}},\"annotationdefaults\":{\"arrowcolor\":\"#2a3f5f\",\"arrowhead\":0,\"arrowwidth\":1},\"geo\":{\"bgcolor\":\"white\",\"landcolor\":\"#E5ECF6\",\"subunitcolor\":\"white\",\"showland\":true,\"showlakes\":true,\"lakecolor\":\"white\"},\"title\":{\"x\":0.05},\"mapbox\":{\"style\":\"light\"}}},\"xaxis\":{\"anchor\":\"y\",\"domain\":[0.0,1.0],\"title\":{\"text\":\"clean_price\"}},\"yaxis\":{\"anchor\":\"x\",\"domain\":[0.0,1.0],\"title\":{\"text\":\"clean_rating\"}},\"legend\":{\"tracegroupgap\":0},\"margin\":{\"t\":60}},                        {\"responsive\": true}                    )                };                            </script>        </div>"
      ],
      "text/plain": [
       "Figure({\n",
       "    'data': [{'customdata': array([[\"Analog Blue Dial Men's Watch-TWHG03SMU10  \"],\n",
       "                                   [\"Analog Black Dial Men's Watch-TWTG80SMU04  \"],\n",
       "                                   [\"Analog Blue Dial Men's Watch-TWTG80SMU02  \"],\n",
       "                                   ...,\n",
       "                                   [\"Analog Men's Watch (Dial Colored Strap)  \"],\n",
       "                                   [\"Brand - A Digital Watch with Square LED Shockproof Multi-Functional Automatic 5 Color Army Strap Waterproof Digital Sports Watch for Men's Kids Watch for Boys - Watch for Men  \"],\n",
       "                                   ['Black, Blue, White Dial, Day & Date Functioning, Stainless Steel Strap Analog Watch for Men & Women  ']],\n",
       "                                  dtype=object),\n",
       "              'hovertemplate': 'clean_price=%{x}<br>clean_rating=%{y}<br>title=%{customdata[0]}<extra></extra>',\n",
       "              'legendgroup': '',\n",
       "              'marker': {'color': '#636efa', 'symbol': 'circle'},\n",
       "              'mode': 'markers',\n",
       "              'name': '',\n",
       "              'orientation': 'v',\n",
       "              'showlegend': False,\n",
       "              'type': 'scatter',\n",
       "              'x': array([2699., 1499.,  849., ...,  399.,  325.,  329.]),\n",
       "              'xaxis': 'x',\n",
       "              'y': array([2699., 1499.,  849., ...,  399.,  325.,  329.]),\n",
       "              'yaxis': 'y'}],\n",
       "    'layout': {'legend': {'tracegroupgap': 0},\n",
       "               'margin': {'t': 60},\n",
       "               'template': '...',\n",
       "               'xaxis': {'anchor': 'y', 'domain': [0.0, 1.0], 'title': {'text': 'clean_price'}},\n",
       "               'yaxis': {'anchor': 'x', 'domain': [0.0, 1.0], 'title': {'text': 'clean_rating'}}}\n",
       "})"
      ]
     },
     "execution_count": 19,
     "metadata": {},
     "output_type": "execute_result"
    }
   ],
   "source": [
    "import plotly.express as px\n",
    "px.scatter(df, x='clean_price', y='clean_rating',hover_data=['title'])"
   ]
  }
 ],
 "metadata": {
  "kernelspec": {
   "display_name": "Python 3.10.8 ('base')",
   "language": "python",
   "name": "python3"
  },
  "language_info": {
   "codemirror_mode": {
    "name": "ipython",
    "version": 3
   },
   "file_extension": ".py",
   "mimetype": "text/x-python",
   "name": "python",
   "nbconvert_exporter": "python",
   "pygments_lexer": "ipython3",
   "version": "3.10.8"
  },
  "orig_nbformat": 4,
  "vscode": {
   "interpreter": {
    "hash": "8836dc3cb5d022b839c66561b07c94e2b96c073f18eae4c463d3a3bcf20aef43"
   }
  }
 },
 "nbformat": 4,
 "nbformat_minor": 2
}
