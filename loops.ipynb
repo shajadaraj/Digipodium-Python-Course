{
 "cells": [
  {
   "cell_type": "code",
   "execution_count": 4,
   "metadata": {},
   "outputs": [
    {
     "name": "stdout",
     "output_type": "stream",
     "text": [
      "125623567821"
     ]
    }
   ],
   "source": [
    "x = [12, 56, 23, 56, 78, 21]\n",
    "for item in x:\n",
    "    print(item, end='')"
   ]
  },
  {
   "cell_type": "code",
   "execution_count": 5,
   "metadata": {},
   "outputs": [
    {
     "name": "stdout",
     "output_type": "stream",
     "text": [
      "total apps =9\n"
     ]
    }
   ],
   "source": [
    "apps = [\n",
    "    'act fiberent','app store','paytm', 'gpay', 'google', 'instagram', 'gmail', 'clock', 'slice'\n",
    "\n",
    "]\n",
    "print(f'total apps ={len(apps)}')"
   ]
  },
  {
   "cell_type": "code",
   "execution_count": 6,
   "metadata": {},
   "outputs": [
    {
     "name": "stdout",
     "output_type": "stream",
     "text": [
      "act fiberent\n",
      "app store\n",
      "paytm\n",
      "gpay\n",
      "google\n",
      "instagram\n",
      "gmail\n",
      "clock\n",
      "slice\n"
     ]
    }
   ],
   "source": [
    "for app in apps:\n",
    "    print(app)"
   ]
  },
  {
   "cell_type": "code",
   "execution_count": 9,
   "metadata": {},
   "outputs": [
    {
     "name": "stdout",
     "output_type": "stream",
     "text": [
      "act fiberent         | 12\n",
      "app store            | 9\n",
      "paytm                | 5\n",
      "gpay                 | 4\n",
      "google               | 6\n",
      "instagram            | 9\n",
      "gmail                | 5\n",
      "clock                | 5\n",
      "slice                | 5\n"
     ]
    }
   ],
   "source": [
    "for app in apps:\n",
    "    print(f'{app:20} | {len(app)}')"
   ]
  },
  {
   "cell_type": "code",
   "execution_count": 10,
   "metadata": {},
   "outputs": [
    {
     "name": "stdout",
     "output_type": "stream",
     "text": [
      "paytm\n",
      "instagram\n",
      "gmail\n"
     ]
    }
   ],
   "source": [
    "for app in apps:\n",
    "    if 'm'in app:\n",
    "        print(app)\n",
    "        "
   ]
  },
  {
   "cell_type": "code",
   "execution_count": 12,
   "metadata": {},
   "outputs": [
    {
     "name": "stdout",
     "output_type": "stream",
     "text": [
      "act fiberent\n",
      "app store\n"
     ]
    }
   ],
   "source": [
    "for app in apps:\n",
    "    if app.startswith('a'):\n",
    "        print(app)"
   ]
  },
  {
   "cell_type": "code",
   "execution_count": 14,
   "metadata": {},
   "outputs": [
    {
     "name": "stdout",
     "output_type": "stream",
     "text": [
      "paytm\n",
      "instagram\n"
     ]
    }
   ],
   "source": [
    "for app in apps:\n",
    "    if app.endswith('m'):\n",
    "        print(app)"
   ]
  },
  {
   "cell_type": "code",
   "execution_count": 15,
   "metadata": {},
   "outputs": [
    {
     "name": "stdout",
     "output_type": "stream",
     "text": [
      "12\n",
      "56\n",
      "67\n",
      "32\n",
      "6\n",
      "68\n"
     ]
    }
   ],
   "source": [
    "data = [12,56,0,67,0,32,6,0,68,0,0,0]\n",
    "for i in data:\n",
    "    if i == 0:\n",
    "        continue\n",
    "    print(i)"
   ]
  },
  {
   "cell_type": "code",
   "execution_count": 16,
   "metadata": {},
   "outputs": [
    {
     "name": "stdout",
     "output_type": "stream",
     "text": [
      "32\n",
      "45\n",
      "56\n",
      "78\n"
     ]
    }
   ],
   "source": [
    "data = [32,45,56,78,0,0,0,3,76,98]\n",
    "for i in data:\n",
    "    if i == 0:\n",
    "        break\n",
    "    print(i)"
   ]
  },
  {
   "cell_type": "code",
   "execution_count": 17,
   "metadata": {},
   "outputs": [
    {
     "name": "stdout",
     "output_type": "stream",
     "text": [
      "act fiberent\n",
      "app store\n",
      "paytm\n",
      "gpay\n",
      "google\n",
      "instagram\n",
      "gmail\n",
      "clock\n",
      "slice\n"
     ]
    }
   ],
   "source": [
    "for app in apps:\n",
    "    print(app)"
   ]
  },
  {
   "cell_type": "code",
   "execution_count": 18,
   "metadata": {},
   "outputs": [
    {
     "name": "stdout",
     "output_type": "stream",
     "text": [
      "(0, 'act fiberent')\n",
      "(1, 'app store')\n",
      "(2, 'paytm')\n",
      "(3, 'gpay')\n",
      "(4, 'google')\n",
      "(5, 'instagram')\n",
      "(6, 'gmail')\n",
      "(7, 'clock')\n",
      "(8, 'slice')\n"
     ]
    }
   ],
   "source": [
    "for app in enumerate(apps):\n",
    "    print(app)"
   ]
  },
  {
   "cell_type": "code",
   "execution_count": 22,
   "metadata": {},
   "outputs": [
    {
     "name": "stdout",
     "output_type": "stream",
     "text": [
      "0 act fiberent\n",
      "1 app store\n",
      "2 paytm\n",
      "3 gpay\n",
      "4 google\n",
      "5 instagram\n",
      "6 gmail\n"
     ]
    }
   ],
   "source": [
    "for i, app in enumerate(apps):\n",
    "    if i > 6:\n",
    "        break\n",
    "    print(i , app)"
   ]
  },
  {
   "cell_type": "code",
   "execution_count": null,
   "metadata": {},
   "outputs": [],
   "source": []
  }
 ],
 "metadata": {
  "kernelspec": {
   "display_name": "Python 3.10.8 ('base')",
   "language": "python",
   "name": "python3"
  },
  "language_info": {
   "codemirror_mode": {
    "name": "ipython",
    "version": 3
   },
   "file_extension": ".py",
   "mimetype": "text/x-python",
   "name": "python",
   "nbconvert_exporter": "python",
   "pygments_lexer": "ipython3",
   "version": "3.10.8"
  },
  "orig_nbformat": 4,
  "vscode": {
   "interpreter": {
    "hash": "8836dc3cb5d022b839c66561b07c94e2b96c073f18eae4c463d3a3bcf20aef43"
   }
  }
 },
 "nbformat": 4,
 "nbformat_minor": 2
}
